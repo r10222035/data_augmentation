{
 "cells": [
  {
   "cell_type": "code",
   "execution_count": 1,
   "metadata": {},
   "outputs": [
    {
     "name": "stderr",
     "output_type": "stream",
     "text": [
      "2024-06-06 11:31:07.667617: I tensorflow/core/platform/cpu_feature_guard.cc:193] This TensorFlow binary is optimized with oneAPI Deep Neural Network Library (oneDNN) to use the following CPU instructions in performance-critical operations:  SSE4.1 SSE4.2 AVX AVX2 AVX512F AVX512_VNNI FMA\n",
      "To enable them in other operations, rebuild TensorFlow with the appropriate compiler flags.\n",
      "2024-06-06 11:31:07.749095: I tensorflow/core/util/port.cc:104] oneDNN custom operations are on. You may see slightly different numerical results due to floating-point round-off errors from different computation orders. To turn them off, set the environment variable `TF_ENABLE_ONEDNN_OPTS=0`.\n"
     ]
    }
   ],
   "source": [
    "import os\n",
    "import json\n",
    "\n",
    "import numpy as np\n",
    "import tensorflow as tf\n",
    "\n",
    "import utils_CNN as utils\n",
    "\n",
    "os.environ['CUDA_VISIBLE_DEVICES'] = '0'\n",
    "# solve the problem of \"libdevice not found at ./libdevice.10.bc\"\n",
    "os.environ['XLA_FLAGS'] = '--xla_gpu_cuda_data_dir=/home/r10222035/.conda/envs/tf2'"
   ]
  },
  {
   "cell_type": "code",
   "execution_count": 2,
   "metadata": {},
   "outputs": [],
   "source": [
    "def get_data_model_nB(config_file):\n",
    "    # return training dataset, model name, number of background events in signal region\n",
    "    with open(config_file) as f:\n",
    "        config = json.load(f)\n",
    "\n",
    "    train_npy_paths = config['train_npy_paths']\n",
    "\n",
    "    seed = config['seed']\n",
    "    sensitivity = config['sensitivity']\n",
    "\n",
    "    model_name = config['model_name']\n",
    "\n",
    "    # Training and validation splitting ratio\n",
    "    r_train, r_val = 0.8, 0.2\n",
    "\n",
    "    n_SR_S, n_SR_B, n_SB_S, n_SB_B = utils.compute_nevent_in_SR_SB(sensitivity=sensitivity)\n",
    "    train_nevents = (np.array([n_SR_S, n_SB_S, n_SR_B, n_SB_B]) * r_train).astype(int)\n",
    "\n",
    "    X_train_SR, y_train_SR, X_train_SB, y_train_SB = utils.get_SR_SB_sample_from_npy(train_npy_paths, train_nevents, seed=seed)\n",
    "    return (X_train_SR, X_train_SB), (y_train_SR, y_train_SB), model_name, n_SR_B"
   ]
  },
  {
   "cell_type": "code",
   "execution_count": 3,
   "metadata": {},
   "outputs": [],
   "source": [
    "def sculpting_sensitivity_and_uncertainty(SR_eff, SB_eff, B, N_SR):\n",
    "    # SR_eff: background efficiency in signal region\n",
    "    # SB_eff: background efficiency in sideband region\n",
    "    # B: number of background events in signal region\n",
    "    # N_SR: number of events used to calculate SR_eff\n",
    "    \n",
    "    nS = B * (SR_eff - SB_eff)\n",
    "    nB = B * SB_eff\n",
    "    sigma = nS / nB**0.5\n",
    "    unceitatinty = (B / SB_eff)**0.5 * (SR_eff * (1 - SR_eff) / N_SR)**0.5\n",
    "    return sigma, unceitatinty"
   ]
  },
  {
   "cell_type": "code",
   "execution_count": 4,
   "metadata": {},
   "outputs": [],
   "source": [
    "def get_SRfpr_from_SBfpr(X_SRSB, y_SRSB, model_name, bkg_effs=[0.1]):\n",
    "    # get the fpr in signal region from the fpr in sideband region\n",
    "    # fpr: false positive rate, background efficiency\n",
    "\n",
    "    save_model_name = f'./CNN_models/last_model_CWoLa_hunting_{model_name}/'\n",
    "    loaded_model = tf.keras.models.load_model(save_model_name)\n",
    "\n",
    "    X_SR, X_SB = X_SRSB\n",
    "    y_SR, y_SB = y_SRSB\n",
    "\n",
    "    y_prob_SB = loaded_model.predict(X_SB, batch_size=1024)\n",
    "    fpr_SB, th_SB = utils.get_fpr_thresholds(y_SB == 1, y_prob_SB)\n",
    "\n",
    "    y_prob_SR = loaded_model.predict(X_SR, batch_size=1024)\n",
    "    fpr_SR, th_SR = utils.get_fpr_thresholds(y_SR == 1, y_prob_SR)\n",
    "\n",
    "\n",
    "    bkg_effs_SR = []\n",
    "    for bkg_eff in bkg_effs:\n",
    "        th_SB_bkg_eff = utils.get_threshold_from_fpr(fpr_SB, th_SB, bkg_eff)\n",
    "        n_th = (th_SR < th_SB_bkg_eff).sum()\n",
    "        bkg_effs_SR.append(fpr_SR[n_th])\n",
    "\n",
    "    return bkg_effs_SR"
   ]
  },
  {
   "cell_type": "code",
   "execution_count": 5,
   "metadata": {},
   "outputs": [],
   "source": [
    "def print_SBfpr_SRfpr_fake_sensitivity(X, y, model_name, n_SR_B, SB_effs=[0.1, 0.01, 0.001]):\n",
    "    # X: (X_SR, X_SB)\n",
    "    # y: (y_SR, y_SB)\n",
    "    y_SR, _ = y\n",
    "    \n",
    "    SR_effs = get_SRfpr_from_SBfpr(X, y, model_name, SB_effs)\n",
    "\n",
    "    for SB_eff, SR_eff in zip(SB_effs, SR_effs):\n",
    "        sigma, uncertainty = sculpting_sensitivity_and_uncertainty(SR_eff, SB_eff, n_SR_B, (y_SR == 0).sum())\n",
    "        print(f'{SB_eff * 100:.2f}\\% & {SR_eff * 100:.2f}\\% & ${sigma:.1f} \\pm {uncertainty:.1f}$')"
   ]
  },
  {
   "cell_type": "code",
   "execution_count": 6,
   "metadata": {},
   "outputs": [],
   "source": [
    "SB_effs = [0.1, 0.01, 0.001]"
   ]
  },
  {
   "cell_type": "markdown",
   "metadata": {},
   "source": [
    "# Resolution: $25 \\times 25$"
   ]
  },
  {
   "cell_type": "code",
   "execution_count": 7,
   "metadata": {},
   "outputs": [],
   "source": [
    "res = 25\n",
    "X_test_SR, y_test_SR = utils.load_samples(f'../Sample/HVmodel/data/split_val/{res}x{res}/mix_sample_test.npy')\n",
    "X_test_SB, y_test_SB = utils.load_samples(f'../Sample/HVmodel/data/split_val/{res}x{res}/mix_sample_test-SB.npy')"
   ]
  },
  {
   "cell_type": "code",
   "execution_count": 8,
   "metadata": {},
   "outputs": [
    {
     "name": "stdout",
     "output_type": "stream",
     "text": [
      "config_files/origin_25x25_config_01.json\n",
      "Background cross section, SR: 136.13 fb, SB: 145.57 fb\n",
      "Background sample size: SR: 18922.4, SB: 20234.0\n",
      "Signal sample size: SR: 0.0, SB: 0.0\n",
      "Preparing dataset from ['../Sample/HVmodel/data/origin/25x25']\n"
     ]
    },
    {
     "name": "stderr",
     "output_type": "stream",
     "text": [
      "2024-06-06 11:31:15.528449: I tensorflow/core/platform/cpu_feature_guard.cc:193] This TensorFlow binary is optimized with oneAPI Deep Neural Network Library (oneDNN) to use the following CPU instructions in performance-critical operations:  SSE4.1 SSE4.2 AVX AVX2 AVX512F AVX512_VNNI FMA\n",
      "To enable them in other operations, rebuild TensorFlow with the appropriate compiler flags.\n",
      "2024-06-06 11:31:16.130205: I tensorflow/core/common_runtime/gpu/gpu_device.cc:1613] Created device /job:localhost/replica:0/task:0/device:GPU:0 with 46699 MB memory:  -> device: 0, name: NVIDIA RTX A6000, pci bus id: 0000:3b:00.0, compute capability: 8.6\n",
      "2024-06-06 11:31:18.978944: I tensorflow/compiler/xla/stream_executor/cuda/cuda_dnn.cc:428] Loaded cuDNN version 8401\n"
     ]
    },
    {
     "name": "stdout",
     "output_type": "stream",
     "text": [
      " 9/16 [===============>..............] - ETA: 0s "
     ]
    },
    {
     "name": "stderr",
     "output_type": "stream",
     "text": [
      "2024-06-06 11:31:20.622670: I tensorflow/compiler/xla/stream_executor/cuda/cuda_blas.cc:630] TensorFloat-32 will be used for the matrix multiplication. This will only be logged once.\n"
     ]
    },
    {
     "name": "stdout",
     "output_type": "stream",
     "text": [
      "16/16 [==============================] - 3s 15ms/step\n",
      "15/15 [==============================] - 0s 16ms/step\n",
      "10.00\\% & 12.37\\% & $10.3 \\pm 1.2$\n",
      "1.00\\% & 2.02\\% & $14.1 \\pm 1.6$\n",
      "0.10\\% & 0.22\\% & $5.4 \\pm 1.7$\n",
      "20/20 [==============================] - 0s 12ms/step\n",
      "20/20 [==============================] - 0s 7ms/step\n",
      "10.00\\% & 10.71\\% & $3.1 \\pm 1.3$\n",
      "1.00\\% & 1.71\\% & $9.8 \\pm 1.8$\n",
      "0.10\\% & 0.06\\% & $-1.7 \\pm 1.1$\n",
      "\n",
      "config_files/jet_aug_3_25x25_config_01.json\n",
      "Background cross section, SR: 136.13 fb, SB: 145.57 fb\n",
      "Background sample size: SR: 18922.4, SB: 20234.0\n",
      "Signal sample size: SR: 0.0, SB: 0.0\n",
      "Preparing dataset from ['../Sample/HVmodel/data/origin/25x25', '../Sample/HVmodel/data/jet_rotation/25x25/01', '../Sample/HVmodel/data/jet_rotation/25x25/02', '../Sample/HVmodel/data/jet_rotation/25x25/03']\n",
      "64/64 [==============================] - 1s 9ms/step\n",
      "60/60 [==============================] - 1s 9ms/step\n",
      "10.00\\% & 14.21\\% & $18.3 \\pm 0.6$\n",
      "1.00\\% & 2.68\\% & $23.1 \\pm 0.9$\n",
      "0.10\\% & 0.11\\% & $0.5 \\pm 0.6$\n",
      "20/20 [==============================] - 0s 7ms/step\n",
      "20/20 [==============================] - 0s 7ms/step\n",
      "10.00\\% & 11.18\\% & $5.1 \\pm 1.4$\n",
      "1.00\\% & 2.16\\% & $16.0 \\pm 2.0$\n",
      "0.10\\% & 0.03\\% & $-3.0 \\pm 0.8$\n",
      "\n",
      "config_files/pt_jet_aug_3_25x25_config_01.json\n",
      "Background cross section, SR: 136.13 fb, SB: 145.57 fb\n",
      "Background sample size: SR: 18922.4, SB: 20234.0\n",
      "Signal sample size: SR: 0.0, SB: 0.0\n",
      "Preparing dataset from ['../Sample/HVmodel/data/origin/25x25', '../Sample/HVmodel/data/pt_smearing_jet_rotation/25x25/01', '../Sample/HVmodel/data/pt_smearing_jet_rotation/25x25/02', '../Sample/HVmodel/data/pt_smearing_jet_rotation/25x25/03']\n",
      "64/64 [==============================] - 1s 7ms/step\n",
      "60/60 [==============================] - 0s 7ms/step\n",
      "10.00\\% & 13.18\\% & $13.9 \\pm 0.6$\n",
      "1.00\\% & 2.11\\% & $15.3 \\pm 0.8$\n",
      "0.10\\% & 0.20\\% & $4.4 \\pm 0.8$\n",
      "20/20 [==============================] - 0s 7ms/step\n",
      "20/20 [==============================] - 0s 7ms/step\n",
      "10.00\\% & 11.50\\% & $6.5 \\pm 1.4$\n",
      "1.00\\% & 1.63\\% & $8.7 \\pm 1.7$\n",
      "0.10\\% & 0.11\\% & $0.4 \\pm 1.4$\n",
      "\n"
     ]
    }
   ],
   "source": [
    "config_files = [\n",
    "    f'config_files/origin_{res}x{res}_config_01.json',\n",
    "    f'config_files/jet_aug_3_{res}x{res}_config_01.json',\n",
    "    f'config_files/pt_jet_aug_3_{res}x{res}_config_01.json',\n",
    "]\n",
    "\n",
    "for config_file in config_files:\n",
    "    print(config_file)\n",
    "    X_train, y_train, model_name, n_SR_B = get_data_model_nB(config_file)\n",
    "    print_SBfpr_SRfpr_fake_sensitivity(X_train, y_train, model_name, n_SR_B, SB_effs=SB_effs)\n",
    "    print_SBfpr_SRfpr_fake_sensitivity((X_test_SR, X_test_SB), (y_test_SR, y_test_SB), model_name, n_SR_B, SB_effs=SB_effs)\n",
    "    print()"
   ]
  },
  {
   "cell_type": "code",
   "execution_count": 9,
   "metadata": {},
   "outputs": [
    {
     "name": "stdout",
     "output_type": "stream",
     "text": [
      "config_files/only_jet_aug_4_25x25_config_01.json\n",
      "Background cross section, SR: 136.13 fb, SB: 145.57 fb\n",
      "Background sample size: SR: 18922.4, SB: 20234.0\n",
      "Signal sample size: SR: 0.0, SB: 0.0\n",
      "Preparing dataset from ['../Sample/HVmodel/data/jet_rotation/25x25/01', '../Sample/HVmodel/data/jet_rotation/25x25/02', '../Sample/HVmodel/data/jet_rotation/25x25/03', '../Sample/HVmodel/data/jet_rotation/25x25/04']\n",
      "64/64 [==============================] - 1s 7ms/step\n",
      "60/60 [==============================] - 0s 7ms/step\n",
      "10.00\\% & 14.12\\% & $17.9 \\pm 0.6$\n",
      "1.00\\% & 2.29\\% & $17.7 \\pm 0.8$\n",
      "0.10\\% & 0.31\\% & $8.9 \\pm 1.0$\n",
      "Background cross section, SR: 136.13 fb, SB: 145.57 fb\n",
      "Background sample size: SR: 18922.4, SB: 20234.0\n",
      "Signal sample size: SR: 0.0, SB: 0.0\n",
      "Preparing dataset from ['../Sample/HVmodel/data/origin/25x25']\n",
      "16/16 [==============================] - 0s 7ms/step\n",
      "15/15 [==============================] - 0s 7ms/step\n",
      "10.00\\% & 13.05\\% & $13.3 \\pm 1.2$\n",
      "1.00\\% & 2.29\\% & $17.7 \\pm 1.7$\n",
      "0.10\\% & 0.19\\% & $4.0 \\pm 1.5$\n",
      "20/20 [==============================] - 0s 7ms/step\n",
      "20/20 [==============================] - 0s 7ms/step\n",
      "10.00\\% & 11.02\\% & $4.4 \\pm 1.4$\n",
      "1.00\\% & 1.93\\% & $12.8 \\pm 1.9$\n",
      "0.10\\% & 0.07\\% & $-1.3 \\pm 1.2$\n",
      "\n",
      "config_files/only_pt_jet_aug_4_25x25_config_02.json\n",
      "Background cross section, SR: 136.13 fb, SB: 145.57 fb\n",
      "Background sample size: SR: 18922.4, SB: 20234.0\n",
      "Signal sample size: SR: 0.0, SB: 0.0\n",
      "Preparing dataset from ['../Sample/HVmodel/data/pt_smearing_jet_rotation/25x25/01', '../Sample/HVmodel/data/pt_smearing_jet_rotation/25x25/02', '../Sample/HVmodel/data/pt_smearing_jet_rotation/25x25/03', '../Sample/HVmodel/data/pt_smearing_jet_rotation/25x25/04']\n",
      "64/64 [==============================] - 1s 7ms/step\n",
      "60/60 [==============================] - 0s 7ms/step\n",
      "10.00\\% & 12.79\\% & $12.2 \\pm 0.6$\n",
      "1.00\\% & 2.27\\% & $17.5 \\pm 0.8$\n",
      "0.10\\% & 0.25\\% & $6.6 \\pm 0.9$\n",
      "Background cross section, SR: 136.13 fb, SB: 145.57 fb\n",
      "Background sample size: SR: 18922.4, SB: 20234.0\n",
      "Signal sample size: SR: 0.0, SB: 0.0\n",
      "Preparing dataset from ['../Sample/HVmodel/data/origin/25x25']\n",
      "16/16 [==============================] - 0s 7ms/step\n",
      "15/15 [==============================] - 0s 7ms/step\n",
      "10.00\\% & 12.34\\% & $10.2 \\pm 1.2$\n",
      "1.00\\% & 2.55\\% & $21.3 \\pm 1.8$\n",
      "0.10\\% & 0.10\\% & $-0.0 \\pm 1.1$\n",
      "20/20 [==============================] - 0s 7ms/step\n",
      "20/20 [==============================] - 0s 7ms/step\n",
      "10.00\\% & 10.46\\% & $2.0 \\pm 1.3$\n",
      "1.00\\% & 2.06\\% & $14.6 \\pm 2.0$\n",
      "0.10\\% & 0.05\\% & $-2.2 \\pm 1.0$\n",
      "\n"
     ]
    }
   ],
   "source": [
    "config_files = [\n",
    "    f'config_files/only_jet_aug_4_{res}x{res}_config_01.json',\n",
    "    f'config_files/only_pt_jet_aug_4_{res}x{res}_config_02.json',\n",
    "]\n",
    "\n",
    "for config_file in config_files:\n",
    "    print(config_file)\n",
    "    X_train, y_train, model_name, n_SR_B = get_data_model_nB(config_file)\n",
    "    print_SBfpr_SRfpr_fake_sensitivity(X_train, y_train, model_name, n_SR_B, SB_effs=SB_effs)\n",
    "    X_train, y_train, _, _ = get_data_model_nB(f'config_files/origin_{res}x{res}_config_01.json')\n",
    "    print_SBfpr_SRfpr_fake_sensitivity(X_train, y_train, model_name, n_SR_B, SB_effs=SB_effs)\n",
    "    print_SBfpr_SRfpr_fake_sensitivity((X_test_SR, X_test_SB), (y_test_SR, y_test_SB), model_name, n_SR_B, SB_effs=SB_effs)\n",
    "    print()"
   ]
  },
  {
   "cell_type": "markdown",
   "metadata": {},
   "source": [
    "# Resolution: $75 \\times 75$"
   ]
  },
  {
   "cell_type": "code",
   "execution_count": 10,
   "metadata": {},
   "outputs": [],
   "source": [
    "res = 75\n",
    "X_test_SR, y_test_SR = utils.load_samples(f'../Sample/HVmodel/data/split_val/{res}x{res}/mix_sample_test.npy')\n",
    "X_test_SB, y_test_SB = utils.load_samples(f'../Sample/HVmodel/data/split_val/{res}x{res}/mix_sample_test-SB.npy')"
   ]
  },
  {
   "cell_type": "code",
   "execution_count": 11,
   "metadata": {},
   "outputs": [
    {
     "name": "stdout",
     "output_type": "stream",
     "text": [
      "config_files/origin_75x75_config_01.json\n",
      "Background cross section, SR: 136.13 fb, SB: 145.57 fb\n",
      "Background sample size: SR: 18922.4, SB: 20234.0\n",
      "Signal sample size: SR: 0.0, SB: 0.0\n",
      "Preparing dataset from ['../Sample/HVmodel/data/origin/75x75']\n",
      "16/16 [==============================] - 2s 95ms/step\n",
      "15/15 [==============================] - 1s 102ms/step\n",
      "10.00\\% & 12.81\\% & $12.2 \\pm 1.2$\n",
      "1.00\\% & 2.17\\% & $16.1 \\pm 1.6$\n",
      "0.10\\% & 0.52\\% & $18.4 \\pm 2.5$\n",
      "20/20 [==============================] - 2s 75ms/step\n",
      "20/20 [==============================] - 1s 48ms/step\n",
      "10.00\\% & 10.63\\% & $2.7 \\pm 1.3$\n",
      "1.00\\% & 1.62\\% & $8.5 \\pm 1.7$\n",
      "0.10\\% & 0.16\\% & $2.6 \\pm 1.7$\n",
      "\n",
      "config_files/jet_aug_3_75x75_config_01.json\n",
      "Background cross section, SR: 136.13 fb, SB: 145.57 fb\n",
      "Background sample size: SR: 18922.4, SB: 20234.0\n",
      "Signal sample size: SR: 0.0, SB: 0.0\n",
      "Preparing dataset from ['../Sample/HVmodel/data/origin/75x75', '../Sample/HVmodel/data/jet_rotation/75x75/01', '../Sample/HVmodel/data/jet_rotation/75x75/02', '../Sample/HVmodel/data/jet_rotation/75x75/03']\n",
      "64/64 [==============================] - 3s 48ms/step\n",
      "60/60 [==============================] - 3s 47ms/step\n",
      "10.00\\% & 13.76\\% & $16.4 \\pm 0.6$\n",
      "1.00\\% & 2.18\\% & $16.3 \\pm 0.8$\n",
      "0.10\\% & 0.40\\% & $13.2 \\pm 1.1$\n",
      "20/20 [==============================] - 1s 44ms/step\n",
      "20/20 [==============================] - 1s 44ms/step\n",
      "10.00\\% & 10.66\\% & $2.9 \\pm 1.3$\n",
      "1.00\\% & 1.39\\% & $5.4 \\pm 1.6$\n",
      "0.10\\% & 0.20\\% & $4.3 \\pm 1.9$\n",
      "\n",
      "config_files/pt_jet_aug_3_75x75_config_01.json\n",
      "Background cross section, SR: 136.13 fb, SB: 145.57 fb\n",
      "Background sample size: SR: 18922.4, SB: 20234.0\n",
      "Signal sample size: SR: 0.0, SB: 0.0\n",
      "Preparing dataset from ['../Sample/HVmodel/data/origin/75x75', '../Sample/HVmodel/data/pt_smearing_jet_rotation/75x75/01', '../Sample/HVmodel/data/pt_smearing_jet_rotation/75x75/02', '../Sample/HVmodel/data/pt_smearing_jet_rotation/75x75/03']\n",
      "64/64 [==============================] - 3s 44ms/step\n",
      "60/60 [==============================] - 3s 44ms/step\n",
      "10.00\\% & 14.13\\% & $18.0 \\pm 0.6$\n",
      "1.00\\% & 2.20\\% & $16.6 \\pm 0.8$\n",
      "0.10\\% & 0.32\\% & $9.7 \\pm 1.0$\n",
      "20/20 [==============================] - 1s 44ms/step\n",
      "20/20 [==============================] - 1s 44ms/step\n",
      "10.00\\% & 11.30\\% & $5.7 \\pm 1.4$\n",
      "1.00\\% & 1.42\\% & $5.8 \\pm 1.6$\n",
      "0.10\\% & 0.17\\% & $3.0 \\pm 1.8$\n",
      "\n"
     ]
    }
   ],
   "source": [
    "config_files = [\n",
    "    f'config_files/origin_{res}x{res}_config_01.json',\n",
    "    f'config_files/jet_aug_3_{res}x{res}_config_01.json',\n",
    "    f'config_files/pt_jet_aug_3_{res}x{res}_config_01.json',\n",
    "]\n",
    "\n",
    "for config_file in config_files:\n",
    "    print(config_file)\n",
    "    X_train, y_train, model_name, n_SR_B = get_data_model_nB(config_file)\n",
    "    print_SBfpr_SRfpr_fake_sensitivity(X_train, y_train, model_name, n_SR_B, SB_effs=SB_effs)\n",
    "    print_SBfpr_SRfpr_fake_sensitivity((X_test_SR, X_test_SB), (y_test_SR, y_test_SB), model_name, n_SR_B, SB_effs=SB_effs)\n",
    "    print()"
   ]
  }
 ],
 "metadata": {
  "kernelspec": {
   "display_name": "tf2",
   "language": "python",
   "name": "python3"
  },
  "language_info": {
   "codemirror_mode": {
    "name": "ipython",
    "version": 3
   },
   "file_extension": ".py",
   "mimetype": "text/x-python",
   "name": "python",
   "nbconvert_exporter": "python",
   "pygments_lexer": "ipython3",
   "version": "3.8.16"
  }
 },
 "nbformat": 4,
 "nbformat_minor": 2
}
