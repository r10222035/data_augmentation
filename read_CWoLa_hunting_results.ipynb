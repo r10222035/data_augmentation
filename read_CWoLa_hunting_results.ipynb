{
 "cells": [
  {
   "cell_type": "code",
   "execution_count": 1,
   "metadata": {},
   "outputs": [],
   "source": [
    "import pandas as pd\n",
    "import matplotlib.pyplot as plt"
   ]
  },
  {
   "cell_type": "code",
   "execution_count": 2,
   "metadata": {},
   "outputs": [],
   "source": [
    "def print_results(df, sample_type):\n",
    "    mu = df[df['Sample Type'] == sample_type]['ACC-true'].mean()\n",
    "    sigma = df[df['Sample Type'] == sample_type]['ACC-true'].std()\n",
    "    best = df[df['Sample Type'] == sample_type]['ACC-true'].max()\n",
    "    print(f'ACC: {mu:.3f} +- {sigma:.3f}, Best: {best:.3f}')\n",
    "    # print(f'${mu:.3f}\\pm{sigma:.3f}$')\n",
    "\n",
    "    mu = df[df['Sample Type'] == sample_type]['AUC-true'].mean()\n",
    "    sigma = df[df['Sample Type'] == sample_type]['AUC-true'].std()\n",
    "    best = df[df['Sample Type'] == sample_type]['AUC-true'].max()\n",
    "    print(f'AUC: {mu:.3f} +- {sigma:.3f}, Best: {best:.3f}')\n",
    "    # print(f'${mu:.3f}\\pm{sigma:.3f}$')"
   ]
  },
  {
   "cell_type": "markdown",
   "metadata": {},
   "source": [
    "# Load file"
   ]
  },
  {
   "cell_type": "code",
   "execution_count": 3,
   "metadata": {},
   "outputs": [],
   "source": [
    "file_name = './DNN/CWoLa_Hunting_training_results.csv'\n",
    "df = pd.read_csv(file_name)"
   ]
  },
  {
   "cell_type": "markdown",
   "metadata": {},
   "source": [
    "# Basic CWoLa hunting"
   ]
  },
  {
   "cell_type": "markdown",
   "metadata": {},
   "source": [
    "### 1000 GeV"
   ]
  },
  {
   "cell_type": "code",
   "execution_count": 4,
   "metadata": {},
   "outputs": [
    {
     "name": "stdout",
     "output_type": "stream",
     "text": [
      "With signal sample\n",
      "ACC: 0.868 +- 0.024, Best: 0.896\n",
      "AUC: 0.925 +- 0.023, Best: 0.951\n",
      "No signal sample\n",
      "ACC: 0.850 +- 0.033, Best: 0.897\n",
      "AUC: 0.909 +- 0.026, Best: 0.949\n"
     ]
    }
   ],
   "source": [
    "print('With signal sample')\n",
    "print_results(df, 'With signal')\n",
    "\n",
    "print('No signal sample')\n",
    "print_results(df, 'No signal')"
   ]
  },
  {
   "cell_type": "markdown",
   "metadata": {},
   "source": [
    "### 500 GeV"
   ]
  },
  {
   "cell_type": "code",
   "execution_count": 5,
   "metadata": {},
   "outputs": [
    {
     "name": "stdout",
     "output_type": "stream",
     "text": [
      "With signal sample\n",
      "ACC: 0.708 +- 0.002, Best: 0.711\n",
      "AUC: 0.770 +- 0.007, Best: 0.786\n",
      "No signal sample\n",
      "ACC: 0.705 +- 0.003, Best: 0.709\n",
      "AUC: 0.769 +- 0.009, Best: 0.783\n"
     ]
    }
   ],
   "source": [
    "print('With signal sample')\n",
    "print_results(df, '500 GeV: With signal')\n",
    "\n",
    "print('No signal sample')\n",
    "print_results(df, '500 GeV: No signal')"
   ]
  },
  {
   "cell_type": "markdown",
   "metadata": {},
   "source": [
    "# Remove transverse momentum and mass of Higgs candidates"
   ]
  },
  {
   "cell_type": "markdown",
   "metadata": {},
   "source": [
    "## 500 GeV"
   ]
  },
  {
   "cell_type": "code",
   "execution_count": 6,
   "metadata": {},
   "outputs": [
    {
     "name": "stdout",
     "output_type": "stream",
     "text": [
      "With signal sample\n",
      "ACC: 0.526 +- 0.020, Best: 0.558\n",
      "AUC: 0.536 +- 0.053, Best: 0.597\n",
      "No signal sample\n",
      "ACC: 0.532 +- 0.015, Best: 0.555\n",
      "AUC: 0.543 +- 0.029, Best: 0.572\n",
      "10 times signal sample\n",
      "ACC: 0.531 +- 0.027, Best: 0.565\n",
      "AUC: 0.533 +- 0.045, Best: 0.593\n",
      "100 times signal sample\n",
      "ACC: 0.634 +- 0.014, Best: 0.649\n",
      "AUC: 0.751 +- 0.030, Best: 0.772\n"
     ]
    }
   ],
   "source": [
    "print('With signal sample')\n",
    "print_results(df, '500 GeV: With signal, no Higgs pT, m')\n",
    "print('No signal sample')\n",
    "print_results(df, '500 GeV: No signal, no Higgs pT, m')\n",
    "print('10 times signal sample')\n",
    "print_results(df, '500 GeV: 10 times signal, no Higgs pT, m')\n",
    "print('100 times signal sample')\n",
    "print_results(df, '500 GeV: 100 times signal, no Higgs pT, m')"
   ]
  },
  {
   "cell_type": "markdown",
   "metadata": {},
   "source": [
    "## 1000 GeV"
   ]
  },
  {
   "cell_type": "code",
   "execution_count": 7,
   "metadata": {},
   "outputs": [
    {
     "name": "stdout",
     "output_type": "stream",
     "text": [
      "With signal sample\n",
      "ACC: 0.586 +- 0.030, Best: 0.638\n",
      "AUC: 0.625 +- 0.046, Best: 0.700\n",
      "No signal sample\n",
      "ACC: 0.564 +- 0.024, Best: 0.620\n",
      "AUC: 0.583 +- 0.042, Best: 0.682\n",
      "10 times signal sample\n",
      "ACC: 0.626 +- 0.027, Best: 0.677\n",
      "AUC: 0.678 +- 0.040, Best: 0.738\n",
      "100 times signal sample\n",
      "ACC: 0.621 +- 0.012, Best: 0.640\n",
      "AUC: 0.670 +- 0.023, Best: 0.699\n"
     ]
    }
   ],
   "source": [
    "\n",
    "print('With signal sample')\n",
    "print_results(df, '1000 GeV: With signal, no Higgs pT, m')\n",
    "print('No signal sample')\n",
    "print_results(df, '1000 GeV: No signal, no Higgs pT, m')\n",
    "print('10 times signal sample')\n",
    "print_results(df, '1000 GeV: 10 times signal, no Higgs pT, m')\n",
    "print('100 times signal sample')\n",
    "print_results(df, '1000 GeV: 100 times signal, no Higgs pT, m')"
   ]
  },
  {
   "cell_type": "markdown",
   "metadata": {},
   "source": [
    "# Various signal sample size"
   ]
  },
  {
   "cell_type": "code",
   "execution_count": 8,
   "metadata": {},
   "outputs": [],
   "source": [
    "ACC, std = [], []\n",
    "times = [*range(10, 101, 10), 120, 150]\n",
    "for i in times:\n",
    "    sample_type = f'500 GeV: {i} times signal, no Higgs pT, m'\n",
    "    ACC.append(df[df['Sample Type'] == sample_type]['ACC-true'].mean())\n",
    "    std.append(df[df['Sample Type'] == sample_type]['ACC-true'].std())\n",
    "\n",
    "no_sig_acc = df[df['Sample Type'] == '500 GeV: No signal, no Higgs pT, m']['ACC-true'].mean()\n",
    "no_sig_std = df[df['Sample Type'] == '500 GeV: No signal, no Higgs pT, m']['ACC-true'].std()"
   ]
  },
  {
   "cell_type": "code",
   "execution_count": 9,
   "metadata": {},
   "outputs": [
    {
     "data": {
      "image/png": "[encoded data removed]",
      "text/plain": [
       "<Figure size 500x400 with 1 Axes>"
      ]
     },
     "metadata": {},
     "output_type": "display_data"
    }
   ],
   "source": [
    "fig, ax = plt.subplots(1,1,figsize=(5, 4))\n",
    "# plot no signal sample ACC with error bar\n",
    "ax.axhline(y=no_sig_acc, color='k', linestyle='--', label='No signal sample')\n",
    "ax.axhspan(no_sig_acc - no_sig_std, no_sig_acc + no_sig_std, facecolor='gray', alpha=0.3, label='Shaded Band')\n",
    "\n",
    "ax.errorbar(times, ACC, yerr=std, marker='o', label='500 GeV')\n",
    "ax.set_xlabel('Signal sample size')\n",
    "ax.set_ylabel('ACC')\n",
    "\n",
    "handles, labels = ax.get_legend_handles_labels()\n",
    "handles = [(handles[0],handles[1]), handles[2] ]\n",
    "labels = ['No signal', labels[2]]\n",
    "ax.legend(handles, labels, frameon=False, loc='upper left')\n",
    "\n",
    "plt.savefig('./figures/ACC_vs_signal_sample_size-500GeV.pdf', dpi=300, facecolor='White', bbox_inches='tight')\n",
    "plt.show()"
   ]
  },
  {
   "cell_type": "code",
   "execution_count": 10,
   "metadata": {},
   "outputs": [],
   "source": [
    "ACC, std = [], []\n",
    "sample_type = f'1000 GeV: With signal, no Higgs pT, m'\n",
    "ACC.append(df[df['Sample Type'] == sample_type]['ACC-true'].mean())\n",
    "std.append(df[df['Sample Type'] == sample_type]['ACC-true'].std())\n",
    "\n",
    "for i in range(2, 11, 1):\n",
    "    sample_type = f'1000 GeV: {i} times signal, no Higgs pT, m'\n",
    "    ACC.append(df[df['Sample Type'] == sample_type]['ACC-true'].mean())\n",
    "    std.append(df[df['Sample Type'] == sample_type]['ACC-true'].std())\n",
    "\n",
    "no_sig_acc = df[df['Sample Type'] == '1000 GeV: No signal, no Higgs pT, m']['ACC-true'].mean()\n",
    "no_sig_std = df[df['Sample Type'] == '1000 GeV: No signal, no Higgs pT, m']['ACC-true'].std()"
   ]
  },
  {
   "cell_type": "code",
   "execution_count": 11,
   "metadata": {},
   "outputs": [
    {
     "data": {
      "image/png": "[encoded data removed]",
      "text/plain": [
       "<Figure size 500x400 with 1 Axes>"
      ]
     },
     "metadata": {},
     "output_type": "display_data"
    }
   ],
   "source": [
    "fig, ax = plt.subplots(1,1,figsize=(5, 4))\n",
    "# plot no signal sample ACC with error bar\n",
    "ax.axhline(y=no_sig_acc, color='k', linestyle='--', label='No signal sample')\n",
    "ax.axhspan(no_sig_acc - no_sig_std, no_sig_acc + no_sig_std, facecolor='gray', alpha=0.3, label='Shaded Band')\n",
    "\n",
    "ax.errorbar(range(1, 11, 1), ACC, yerr=std, marker='o', label='1000 GeV')\n",
    "ax.set_xlabel('Signal sample size')\n",
    "ax.set_ylabel('ACC')\n",
    "\n",
    "handles, labels = ax.get_legend_handles_labels()\n",
    "handles = [(handles[0],handles[1]), handles[2] ]\n",
    "labels = ['No signal', labels[2]]\n",
    "ax.legend(handles, labels, frameon=False, loc='upper center')\n",
    "\n",
    "plt.savefig('./figures/ACC_vs_signal_sample_size-1000GeV.pdf', dpi=300, facecolor='White', bbox_inches='tight')\n",
    "plt.show()"
   ]
  },
  {
   "cell_type": "code",
   "execution_count": null,
   "metadata": {},
   "outputs": [],
   "source": []
  }
 ],
 "metadata": {
  "kernelspec": {
   "display_name": "jupyter",
   "language": "python",
   "name": "python3"
  },
  "language_info": {
   "codemirror_mode": {
    "name": "ipython",
    "version": 3
   },
   "file_extension": ".py",
   "mimetype": "text/x-python",
   "name": "python",
   "nbconvert_exporter": "python",
   "pygments_lexer": "ipython3",
   "version": "3.8.16"
  }
 },
 "nbformat": 4,
 "nbformat_minor": 2
}
