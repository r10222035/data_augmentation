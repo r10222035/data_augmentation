{
 "cells": [
  {
   "cell_type": "code",
   "execution_count": 2,
   "metadata": {},
   "outputs": [],
   "source": [
    "import os\n",
    "import h5py\n",
    "import shutil\n",
    "import numpy as np\n",
    "\n",
    "from utils import std_phi, rotation, preprocess, preprocess_only_centralization"
   ]
  },
  {
   "cell_type": "code",
   "execution_count": 2,
   "metadata": {},
   "outputs": [],
   "source": [
    "def pt_scale(pt):\n",
    "    return np.sqrt(0.052*pt*pt + 1.502*pt)"
   ]
  },
  {
   "cell_type": "markdown",
   "metadata": {},
   "source": [
    "# Split SR and SB samples "
   ]
  },
  {
   "cell_type": "code",
   "execution_count": 7,
   "metadata": {},
   "outputs": [],
   "source": [
    "def get_dataset_keys(f):\n",
    "    keys = []\n",
    "    f.visit(lambda key : keys.append(key) if isinstance(f[key], h5py.Dataset) else None)\n",
    "    return keys\n",
    "\n",
    "def create_dataset(f, nevent, MAX_JETS):\n",
    "\n",
    "    f.create_dataset('J1/MASK', (nevent, MAX_JETS), maxshape=(None, MAX_JETS), dtype='|b1')\n",
    "    f.create_dataset('J1/pt', (nevent, MAX_JETS), maxshape=(None, MAX_JETS), dtype='<f4')\n",
    "    f.create_dataset('J1/eta', (nevent, MAX_JETS), maxshape=(None, MAX_JETS), dtype='<f4')\n",
    "    f.create_dataset('J1/phi', (nevent, MAX_JETS), maxshape=(None, MAX_JETS), dtype='<f4')\n",
    "\n",
    "    f.create_dataset('J2/MASK', (nevent, MAX_JETS), maxshape=(None, MAX_JETS), dtype='|b1')\n",
    "    f.create_dataset('J2/pt', (nevent, MAX_JETS), maxshape=(None, MAX_JETS), dtype='<f4')\n",
    "    f.create_dataset('J2/eta', (nevent, MAX_JETS), maxshape=(None, MAX_JETS), dtype='<f4')\n",
    "    f.create_dataset('J2/phi', (nevent, MAX_JETS), maxshape=(None, MAX_JETS), dtype='<f4')\n",
    "\n",
    "    f.create_dataset('EVENT/Mjj', (nevent,), maxshape=(None,), dtype='<f4')\n",
    "    f.create_dataset('EVENT/signal', (nevent,), maxshape=(None,), dtype='<i8')"
   ]
  },
  {
   "cell_type": "code",
   "execution_count": 8,
   "metadata": {},
   "outputs": [],
   "source": [
    "def split_SR_SB(h5_path, output_path, SRSB_region=[4400, 4700, 5500, 5800]):\n",
    "\n",
    "    # read data\n",
    "    with h5py.File(h5_path, 'r') as f:\n",
    "        mjj = f['EVENT/Mjj'][:]\n",
    "\n",
    "        SR_range = (mjj > SRSB_region[1]) & (mjj < SRSB_region[2])\n",
    "        SB_range = ((mjj > SRSB_region[0]) & (mjj < SRSB_region[1])) | ((mjj > SRSB_region[2]) & (mjj < SRSB_region[3]))\n",
    "        \n",
    "        root, _ = os.path.splitext(output_path)\n",
    "        SR_path = f'{root}_in_SR.h5'\n",
    "        SB_path = f'{root}_in_SB.h5'\n",
    "\n",
    "        with h5py.File(SR_path, 'w') as f_SR, h5py.File(SB_path, 'w') as f_SB:\n",
    "\n",
    "            MAX_JETS = 300 \n",
    "            create_dataset(f_SR, SR_range.sum(), MAX_JETS)\n",
    "            create_dataset(f_SB, SB_range.sum(), MAX_JETS)\n",
    "\n",
    "            keys = get_dataset_keys(f_SR)\n",
    "            for key in keys:\n",
    "                f_SR[key][:] = f[key][:][SR_range]\n",
    "                f_SB[key][:] = f[key][:][SB_range]"
   ]
  },
  {
   "cell_type": "code",
   "execution_count": 4,
   "metadata": {},
   "outputs": [],
   "source": [
    "h5_path = 'HVmodel/data/split_val/signal.h5'\n",
    "output_path = 'HVmodel/data/split_val/sig.h5'\n",
    "split_SR_SB(h5_path, output_path)\n",
    "\n",
    "h5_path = 'HVmodel/data/split_val/background.h5'\n",
    "output_path = 'HVmodel/data/split_val/bkg.h5'\n",
    "split_SR_SB(h5_path, output_path)\n",
    "\n",
    "h5_path = 'HVmodel/data/split_val/signal-val.h5'\n",
    "output_path = 'HVmodel/data/split_val/sig-val.h5'\n",
    "split_SR_SB(h5_path, output_path)\n",
    "\n",
    "h5_path = 'HVmodel/data/split_val/background-val.h5'\n",
    "output_path = 'HVmodel/data/split_val/bkg-val.h5'\n",
    "split_SR_SB(h5_path, output_path)"
   ]
  },
  {
   "cell_type": "markdown",
   "metadata": {},
   "source": [
    "# Original dataset"
   ]
  },
  {
   "cell_type": "code",
   "execution_count": 3,
   "metadata": {},
   "outputs": [],
   "source": [
    "def to_origin_h5(h5_path, out_h5):\n",
    "\n",
    "    shutil.copyfile(h5_path, out_h5)\n",
    "\n",
    "    with h5py.File(out_h5, 'a') as f_out:\n",
    "        print(out_h5)\n",
    "        _, eta1, phi1 = preprocess(f_out['J1/pt'][:], f_out['J1/eta'][:], f_out['J1/phi'][:])\n",
    "        _, eta2, phi2 = preprocess(f_out['J2/pt'][:], f_out['J2/eta'][:], f_out['J2/phi'][:])\n",
    "\n",
    "        f_out['J1/eta'][:] = eta1\n",
    "        f_out['J1/phi'][:] = phi1\n",
    "        f_out['J2/eta'][:] = eta2\n",
    "        f_out['J2/phi'][:] = phi2"
   ]
  },
  {
   "cell_type": "code",
   "execution_count": 6,
   "metadata": {},
   "outputs": [
    {
     "name": "stdout",
     "output_type": "stream",
     "text": [
      "./HVmodel/data/origin/sig_in_SR.h5\n",
      "./HVmodel/data/origin/sig_in_SB.h5\n",
      "./HVmodel/data/origin/bkg_in_SR.h5\n",
      "./HVmodel/data/origin/bkg_in_SB.h5\n",
      "./HVmodel/data/origin/val/sig_in_SR.h5\n",
      "./HVmodel/data/origin/val/sig_in_SB.h5\n",
      "./HVmodel/data/origin/val/bkg_in_SR.h5\n",
      "./HVmodel/data/origin/val/bkg_in_SB.h5\n"
     ]
    }
   ],
   "source": [
    "for name in ['sig_in_SR', 'sig_in_SB', 'bkg_in_SR', 'bkg_in_SB']:\n",
    "    h5_path = f'./HVmodel/data/split_val/{name}.h5'\n",
    "    out_h5 = f'./HVmodel/data/origin/{name}.h5'\n",
    "    to_origin_h5(h5_path, out_h5)\n",
    "\n",
    "for new_name, old_name in zip(['sig_in_SR', 'sig_in_SB', 'bkg_in_SR', 'bkg_in_SB'], \n",
    "                              ['sig-val_in_SR', 'sig-val_in_SB', 'bkg-val_in_SR', 'bkg-val_in_SB']):\n",
    "    h5_path = f'./HVmodel/data/split_val/{old_name}.h5'\n",
    "    out_h5 = f'./HVmodel/data/origin/val/{new_name}.h5'\n",
    "    to_origin_h5(h5_path, out_h5)"
   ]
  },
  {
   "cell_type": "markdown",
   "metadata": {},
   "source": [
    "# $\\eta - \\phi$ smearing"
   ]
  },
  {
   "cell_type": "code",
   "execution_count": 4,
   "metadata": {},
   "outputs": [],
   "source": [
    "def eta_phi_smearing(h5_path, out_h5, std_scale=0.1):\n",
    "\n",
    "    shutil.copyfile(h5_path, out_h5)\n",
    "\n",
    "    with h5py.File(out_h5, 'a') as f_out:\n",
    "\n",
    "        print(out_h5)\n",
    "\n",
    "        pt1, pt2 = f_out['J1/pt'][:], f_out['J2/pt'][:]\n",
    "        eta1, eta2 = f_out['J1/eta'][:], f_out['J2/eta'][:]\n",
    "        phi1, phi2 = f_out['J1/phi'][:], f_out['J2/phi'][:]\n",
    "                \n",
    "        std_1 = np.divide(std_scale, pt1, out=np.zeros_like(pt1), where=(pt1!=0))\n",
    "        std_2 = np.divide(std_scale, pt2, out=np.zeros_like(pt2), where=(pt2!=0))\n",
    "\n",
    "        f_out['J1/eta'][:] = np.random.normal(loc=eta1, scale=std_1)\n",
    "        f_out['J2/eta'][:] = np.random.normal(loc=eta2, scale=std_2)\n",
    "        f_out['J1/phi'][:] = std_phi(np.random.normal(loc=phi1, scale=std_1))\n",
    "        f_out['J2/phi'][:] = std_phi(np.random.normal(loc=phi2, scale=std_2))\n",
    "\n",
    "        # process \n",
    "        _, eta1, phi1 = preprocess(f_out['J1/pt'][:], f_out['J1/eta'][:], f_out['J1/phi'][:])\n",
    "        _, eta2, phi2 = preprocess(f_out['J2/pt'][:], f_out['J2/eta'][:], f_out['J2/phi'][:])\n",
    "\n",
    "        f_out['J1/eta'][:] = eta1\n",
    "        f_out['J1/phi'][:] = phi1\n",
    "        f_out['J2/eta'][:] = eta2\n",
    "        f_out['J2/phi'][:] = phi2\n",
    "    "
   ]
  },
  {
   "cell_type": "code",
   "execution_count": 5,
   "metadata": {},
   "outputs": [
    {
     "name": "stdout",
     "output_type": "stream",
     "text": [
      "./HVmodel/data/eta_phi_smearing/01/sig_in_SR.h5\n",
      "./HVmodel/data/eta_phi_smearing/01/sig_in_SB.h5\n",
      "./HVmodel/data/eta_phi_smearing/01/bkg_in_SR.h5\n",
      "./HVmodel/data/eta_phi_smearing/01/bkg_in_SB.h5\n",
      "./HVmodel/data/eta_phi_smearing/02/sig_in_SR.h5\n",
      "./HVmodel/data/eta_phi_smearing/02/sig_in_SB.h5\n",
      "./HVmodel/data/eta_phi_smearing/02/bkg_in_SR.h5\n",
      "./HVmodel/data/eta_phi_smearing/02/bkg_in_SB.h5\n",
      "./HVmodel/data/eta_phi_smearing/03/sig_in_SR.h5\n",
      "./HVmodel/data/eta_phi_smearing/03/sig_in_SB.h5\n",
      "./HVmodel/data/eta_phi_smearing/03/bkg_in_SR.h5\n",
      "./HVmodel/data/eta_phi_smearing/03/bkg_in_SB.h5\n"
     ]
    }
   ],
   "source": [
    "for n in range(1, 4):\n",
    "    h5_dir = './HVmodel/data/split_val'\n",
    "    out_dir = f'./HVmodel/data/eta_phi_smearing/{n:02}'\n",
    "\n",
    "    # create output directory\n",
    "    if not os.path.exists(out_dir):\n",
    "        os.makedirs(out_dir)\n",
    "\n",
    "    for name in ['sig_in_SR', 'sig_in_SB', 'bkg_in_SR', 'bkg_in_SB']:\n",
    "        h5_path = os.path.join(h5_dir, f'{name}.h5')\n",
    "        out_h5 = os.path.join(out_dir, f'{name}.h5')\n",
    "        eta_phi_smearing(h5_path, out_h5)"
   ]
  },
  {
   "cell_type": "markdown",
   "metadata": {},
   "source": [
    "# $p_\\text{T}$ smearing"
   ]
  },
  {
   "cell_type": "code",
   "execution_count": null,
   "metadata": {},
   "outputs": [],
   "source": [
    "def pt_smearing(h5_path, out_h5):\n",
    "\n",
    "    shutil.copyfile(h5_path, out_h5)\n",
    "\n",
    "    with h5py.File(out_h5, 'a') as f_out:\n",
    "        print(out_h5)\n",
    "        # Take pT information\n",
    "        pt1, pt2 = f_out['J1/pt'][:], f_out['J2/pt'][:]\n",
    "            \n",
    "        # Smearing pt\n",
    "        pt1_tmp = np.random.normal(loc=pt1, scale=pt_scale(pt1))\n",
    "        pt2_tmp = np.random.normal(loc=pt2, scale=pt_scale(pt2))\n",
    "\n",
    "        # set negative pt as 0\n",
    "        pt1_tmp[pt1_tmp < 0] = 0\n",
    "        pt2_tmp[pt2_tmp < 0] = 0\n",
    "\n",
    "        f_out['J1/pt'][:] = pt1_tmp\n",
    "        f_out['J2/pt'][:] = pt2_tmp\n",
    "\n",
    "        _, eta1, phi1 = preprocess(f_out['J1/pt'][:], f_out['J1/eta'][:], f_out['J1/phi'][:])\n",
    "        _, eta2, phi2 = preprocess(f_out['J2/pt'][:], f_out['J2/eta'][:], f_out['J2/phi'][:])\n",
    "\n",
    "        f_out['J1/eta'][:] = eta1\n",
    "        f_out['J1/phi'][:] = phi1\n",
    "        f_out['J2/eta'][:] = eta2\n",
    "        f_out['J2/phi'][:] = phi2"
   ]
  },
  {
   "cell_type": "code",
   "execution_count": 3,
   "metadata": {},
   "outputs": [
    {
     "name": "stdout",
     "output_type": "stream",
     "text": [
      "./HVmodel/data/pt_smearing/01/sig_in_SR.h5\n",
      "./HVmodel/data/pt_smearing/01/sig_in_SB.h5\n",
      "./HVmodel/data/pt_smearing/01/bkg_in_SR.h5\n",
      "./HVmodel/data/pt_smearing/01/bkg_in_SB.h5\n",
      "./HVmodel/data/pt_smearing/02/sig_in_SR.h5\n",
      "./HVmodel/data/pt_smearing/02/sig_in_SB.h5\n",
      "./HVmodel/data/pt_smearing/02/bkg_in_SR.h5\n",
      "./HVmodel/data/pt_smearing/02/bkg_in_SB.h5\n",
      "./HVmodel/data/pt_smearing/03/sig_in_SR.h5\n",
      "./HVmodel/data/pt_smearing/03/sig_in_SB.h5\n",
      "./HVmodel/data/pt_smearing/03/bkg_in_SR.h5\n",
      "./HVmodel/data/pt_smearing/03/bkg_in_SB.h5\n",
      "./HVmodel/data/pt_smearing/04/sig_in_SR.h5\n",
      "./HVmodel/data/pt_smearing/04/sig_in_SB.h5\n",
      "./HVmodel/data/pt_smearing/04/bkg_in_SR.h5\n",
      "./HVmodel/data/pt_smearing/04/bkg_in_SB.h5\n",
      "./HVmodel/data/pt_smearing/05/sig_in_SR.h5\n",
      "./HVmodel/data/pt_smearing/05/sig_in_SB.h5\n",
      "./HVmodel/data/pt_smearing/05/bkg_in_SR.h5\n",
      "./HVmodel/data/pt_smearing/05/bkg_in_SB.h5\n"
     ]
    }
   ],
   "source": [
    "for n in range(1, 6):\n",
    "    h5_dir = './HVmodel/data/split_val'\n",
    "    out_dir = f'./HVmodel/data/pt_smearing/{n:02}'\n",
    "\n",
    "    # create output directory\n",
    "    if not os.path.exists(out_dir):\n",
    "        os.makedirs(out_dir)\n",
    "\n",
    "    for name in ['sig_in_SR', 'sig_in_SB', 'bkg_in_SR', 'bkg_in_SB']:\n",
    "        h5_path = os.path.join(h5_dir, f'{name}.h5')\n",
    "        out_h5 = os.path.join(out_dir, f'{name}.h5')\n",
    "        pt_smearing(h5_path, out_h5)"
   ]
  },
  {
   "cell_type": "markdown",
   "metadata": {},
   "source": [
    "# Jet rotation"
   ]
  },
  {
   "cell_type": "code",
   "execution_count": 3,
   "metadata": {},
   "outputs": [],
   "source": [
    "def jet_rotation(h5_path, out_h5, rot_range=np.pi):\n",
    "    # after pre-process, rotate the jet image with random angle\n",
    "    # save results in h5 file\n",
    "    # rot_range: rotation range\n",
    "\n",
    "    shutil.copyfile(h5_path, out_h5)\n",
    "\n",
    "    # preprocess the eta and phi\n",
    "    with h5py.File(out_h5, 'a') as f_out:\n",
    "        print(out_h5)\n",
    "        _, eta1, phi1 = preprocess(f_out['J1/pt'][:], f_out['J1/eta'][:], f_out['J1/phi'][:])\n",
    "        _, eta2, phi2 = preprocess(f_out['J2/pt'][:], f_out['J2/eta'][:], f_out['J2/phi'][:])\n",
    "\n",
    "        f_out['J1/eta'][:] = eta1\n",
    "        f_out['J1/phi'][:] = phi1\n",
    "        f_out['J2/eta'][:] = eta2\n",
    "        f_out['J2/phi'][:] = phi2\n",
    "\n",
    "        nevent = f_out['EVENT/signal'].shape[0]\n",
    "\n",
    "        # rotate eta and phi with random angle\n",
    "        angle = np.random.uniform(-rot_range, rot_range, size=nevent)[:, None]\n",
    "        eta1_rotat, phi1_rotat = rotation(eta1, phi1, angle)\n",
    "        angle = np.random.uniform(-rot_range, rot_range, size=nevent)[:, None]\n",
    "        eta2_rotat, phi2_rotat = rotation(eta2, phi2, angle)\n",
    "\n",
    "        f_out['J1/eta'][:] = eta1_rotat\n",
    "        f_out['J1/phi'][:] = phi1_rotat\n",
    "        f_out['J2/eta'][:] = eta2_rotat\n",
    "        f_out['J2/phi'][:] = phi2_rotat        "
   ]
  },
  {
   "cell_type": "code",
   "execution_count": 4,
   "metadata": {},
   "outputs": [
    {
     "name": "stdout",
     "output_type": "stream",
     "text": [
      "./HVmodel/data/jet_rotation/06/sig_in_SR.h5\n",
      "./HVmodel/data/jet_rotation/06/sig_in_SB.h5\n",
      "./HVmodel/data/jet_rotation/06/bkg_in_SR.h5\n",
      "./HVmodel/data/jet_rotation/06/bkg_in_SB.h5\n",
      "./HVmodel/data/jet_rotation/07/sig_in_SR.h5\n",
      "./HVmodel/data/jet_rotation/07/sig_in_SB.h5\n",
      "./HVmodel/data/jet_rotation/07/bkg_in_SR.h5\n",
      "./HVmodel/data/jet_rotation/07/bkg_in_SB.h5\n",
      "./HVmodel/data/jet_rotation/08/sig_in_SR.h5\n",
      "./HVmodel/data/jet_rotation/08/sig_in_SB.h5\n",
      "./HVmodel/data/jet_rotation/08/bkg_in_SR.h5\n",
      "./HVmodel/data/jet_rotation/08/bkg_in_SB.h5\n",
      "./HVmodel/data/jet_rotation/09/sig_in_SR.h5\n",
      "./HVmodel/data/jet_rotation/09/sig_in_SB.h5\n",
      "./HVmodel/data/jet_rotation/09/bkg_in_SR.h5\n",
      "./HVmodel/data/jet_rotation/09/bkg_in_SB.h5\n",
      "./HVmodel/data/jet_rotation/10/sig_in_SR.h5\n",
      "./HVmodel/data/jet_rotation/10/sig_in_SB.h5\n",
      "./HVmodel/data/jet_rotation/10/bkg_in_SR.h5\n",
      "./HVmodel/data/jet_rotation/10/bkg_in_SB.h5\n",
      "./HVmodel/data/jet_rotation/11/sig_in_SR.h5\n",
      "./HVmodel/data/jet_rotation/11/sig_in_SB.h5\n",
      "./HVmodel/data/jet_rotation/11/bkg_in_SR.h5\n",
      "./HVmodel/data/jet_rotation/11/bkg_in_SB.h5\n",
      "./HVmodel/data/jet_rotation/12/sig_in_SR.h5\n",
      "./HVmodel/data/jet_rotation/12/sig_in_SB.h5\n",
      "./HVmodel/data/jet_rotation/12/bkg_in_SR.h5\n",
      "./HVmodel/data/jet_rotation/12/bkg_in_SB.h5\n",
      "./HVmodel/data/jet_rotation/13/sig_in_SR.h5\n",
      "./HVmodel/data/jet_rotation/13/sig_in_SB.h5\n",
      "./HVmodel/data/jet_rotation/13/bkg_in_SR.h5\n",
      "./HVmodel/data/jet_rotation/13/bkg_in_SB.h5\n",
      "./HVmodel/data/jet_rotation/14/sig_in_SR.h5\n",
      "./HVmodel/data/jet_rotation/14/sig_in_SB.h5\n",
      "./HVmodel/data/jet_rotation/14/bkg_in_SR.h5\n",
      "./HVmodel/data/jet_rotation/14/bkg_in_SB.h5\n",
      "./HVmodel/data/jet_rotation/15/sig_in_SR.h5\n",
      "./HVmodel/data/jet_rotation/15/sig_in_SB.h5\n",
      "./HVmodel/data/jet_rotation/15/bkg_in_SR.h5\n",
      "./HVmodel/data/jet_rotation/15/bkg_in_SB.h5\n",
      "./HVmodel/data/jet_rotation/16/sig_in_SR.h5\n",
      "./HVmodel/data/jet_rotation/16/sig_in_SB.h5\n",
      "./HVmodel/data/jet_rotation/16/bkg_in_SR.h5\n",
      "./HVmodel/data/jet_rotation/16/bkg_in_SB.h5\n",
      "./HVmodel/data/jet_rotation/17/sig_in_SR.h5\n",
      "./HVmodel/data/jet_rotation/17/sig_in_SB.h5\n",
      "./HVmodel/data/jet_rotation/17/bkg_in_SR.h5\n",
      "./HVmodel/data/jet_rotation/17/bkg_in_SB.h5\n",
      "./HVmodel/data/jet_rotation/18/sig_in_SR.h5\n",
      "./HVmodel/data/jet_rotation/18/sig_in_SB.h5\n",
      "./HVmodel/data/jet_rotation/18/bkg_in_SR.h5\n",
      "./HVmodel/data/jet_rotation/18/bkg_in_SB.h5\n",
      "./HVmodel/data/jet_rotation/19/sig_in_SR.h5\n",
      "./HVmodel/data/jet_rotation/19/sig_in_SB.h5\n",
      "./HVmodel/data/jet_rotation/19/bkg_in_SR.h5\n",
      "./HVmodel/data/jet_rotation/19/bkg_in_SB.h5\n",
      "./HVmodel/data/jet_rotation/20/sig_in_SR.h5\n",
      "./HVmodel/data/jet_rotation/20/sig_in_SB.h5\n",
      "./HVmodel/data/jet_rotation/20/bkg_in_SR.h5\n",
      "./HVmodel/data/jet_rotation/20/bkg_in_SB.h5\n",
      "./HVmodel/data/jet_rotation/21/sig_in_SR.h5\n",
      "./HVmodel/data/jet_rotation/21/sig_in_SB.h5\n",
      "./HVmodel/data/jet_rotation/21/bkg_in_SR.h5\n",
      "./HVmodel/data/jet_rotation/21/bkg_in_SB.h5\n",
      "./HVmodel/data/jet_rotation/22/sig_in_SR.h5\n",
      "./HVmodel/data/jet_rotation/22/sig_in_SB.h5\n",
      "./HVmodel/data/jet_rotation/22/bkg_in_SR.h5\n",
      "./HVmodel/data/jet_rotation/22/bkg_in_SB.h5\n",
      "./HVmodel/data/jet_rotation/23/sig_in_SR.h5\n",
      "./HVmodel/data/jet_rotation/23/sig_in_SB.h5\n",
      "./HVmodel/data/jet_rotation/23/bkg_in_SR.h5\n",
      "./HVmodel/data/jet_rotation/23/bkg_in_SB.h5\n",
      "./HVmodel/data/jet_rotation/24/sig_in_SR.h5\n",
      "./HVmodel/data/jet_rotation/24/sig_in_SB.h5\n",
      "./HVmodel/data/jet_rotation/24/bkg_in_SR.h5\n",
      "./HVmodel/data/jet_rotation/24/bkg_in_SB.h5\n",
      "./HVmodel/data/jet_rotation/25/sig_in_SR.h5\n",
      "./HVmodel/data/jet_rotation/25/sig_in_SB.h5\n",
      "./HVmodel/data/jet_rotation/25/bkg_in_SR.h5\n",
      "./HVmodel/data/jet_rotation/25/bkg_in_SB.h5\n",
      "./HVmodel/data/jet_rotation/26/sig_in_SR.h5\n",
      "./HVmodel/data/jet_rotation/26/sig_in_SB.h5\n",
      "./HVmodel/data/jet_rotation/26/bkg_in_SR.h5\n",
      "./HVmodel/data/jet_rotation/26/bkg_in_SB.h5\n",
      "./HVmodel/data/jet_rotation/27/sig_in_SR.h5\n",
      "./HVmodel/data/jet_rotation/27/sig_in_SB.h5\n",
      "./HVmodel/data/jet_rotation/27/bkg_in_SR.h5\n",
      "./HVmodel/data/jet_rotation/27/bkg_in_SB.h5\n",
      "./HVmodel/data/jet_rotation/28/sig_in_SR.h5\n",
      "./HVmodel/data/jet_rotation/28/sig_in_SB.h5\n",
      "./HVmodel/data/jet_rotation/28/bkg_in_SR.h5\n",
      "./HVmodel/data/jet_rotation/28/bkg_in_SB.h5\n",
      "./HVmodel/data/jet_rotation/29/sig_in_SR.h5\n",
      "./HVmodel/data/jet_rotation/29/sig_in_SB.h5\n",
      "./HVmodel/data/jet_rotation/29/bkg_in_SR.h5\n",
      "./HVmodel/data/jet_rotation/29/bkg_in_SB.h5\n",
      "./HVmodel/data/jet_rotation/30/sig_in_SR.h5\n",
      "./HVmodel/data/jet_rotation/30/sig_in_SB.h5\n",
      "./HVmodel/data/jet_rotation/30/bkg_in_SR.h5\n",
      "./HVmodel/data/jet_rotation/30/bkg_in_SB.h5\n",
      "./HVmodel/data/jet_rotation/31/sig_in_SR.h5\n",
      "./HVmodel/data/jet_rotation/31/sig_in_SB.h5\n",
      "./HVmodel/data/jet_rotation/31/bkg_in_SR.h5\n",
      "./HVmodel/data/jet_rotation/31/bkg_in_SB.h5\n",
      "./HVmodel/data/jet_rotation/32/sig_in_SR.h5\n",
      "./HVmodel/data/jet_rotation/32/sig_in_SB.h5\n",
      "./HVmodel/data/jet_rotation/32/bkg_in_SR.h5\n",
      "./HVmodel/data/jet_rotation/32/bkg_in_SB.h5\n",
      "./HVmodel/data/jet_rotation/33/sig_in_SR.h5\n",
      "./HVmodel/data/jet_rotation/33/sig_in_SB.h5\n",
      "./HVmodel/data/jet_rotation/33/bkg_in_SR.h5\n",
      "./HVmodel/data/jet_rotation/33/bkg_in_SB.h5\n"
     ]
    }
   ],
   "source": [
    "for n in range(6, 34):\n",
    "    h5_dir = './HVmodel/data/split_val'\n",
    "    out_dir = f'./HVmodel/data/jet_rotation/{n:02}'\n",
    "\n",
    "    # create output directory\n",
    "    if not os.path.exists(out_dir):\n",
    "        os.makedirs(out_dir)\n",
    "\n",
    "    for name in ['sig_in_SR', 'sig_in_SB', 'bkg_in_SR', 'bkg_in_SB']:\n",
    "        h5_path = os.path.join(h5_dir, f'{name}.h5')\n",
    "        out_h5 = os.path.join(out_dir, f'{name}.h5')\n",
    "        jet_rotation(h5_path, out_h5)"
   ]
  },
  {
   "cell_type": "code",
   "execution_count": 4,
   "metadata": {},
   "outputs": [
    {
     "name": "stdout",
     "output_type": "stream",
     "text": [
      "./HVmodel/data/jet_rotation/34/sig_in_SR.h5\n",
      "./HVmodel/data/jet_rotation/34/sig_in_SB.h5\n",
      "./HVmodel/data/jet_rotation/34/bkg_in_SR.h5\n",
      "./HVmodel/data/jet_rotation/34/bkg_in_SB.h5\n",
      "./HVmodel/data/jet_rotation/35/sig_in_SR.h5\n",
      "./HVmodel/data/jet_rotation/35/sig_in_SB.h5\n",
      "./HVmodel/data/jet_rotation/35/bkg_in_SR.h5\n",
      "./HVmodel/data/jet_rotation/35/bkg_in_SB.h5\n",
      "./HVmodel/data/jet_rotation/36/sig_in_SR.h5\n",
      "./HVmodel/data/jet_rotation/36/sig_in_SB.h5\n",
      "./HVmodel/data/jet_rotation/36/bkg_in_SR.h5\n",
      "./HVmodel/data/jet_rotation/36/bkg_in_SB.h5\n",
      "./HVmodel/data/jet_rotation/37/sig_in_SR.h5\n",
      "./HVmodel/data/jet_rotation/37/sig_in_SB.h5\n",
      "./HVmodel/data/jet_rotation/37/bkg_in_SR.h5\n",
      "./HVmodel/data/jet_rotation/37/bkg_in_SB.h5\n",
      "./HVmodel/data/jet_rotation/38/sig_in_SR.h5\n",
      "./HVmodel/data/jet_rotation/38/sig_in_SB.h5\n",
      "./HVmodel/data/jet_rotation/38/bkg_in_SR.h5\n",
      "./HVmodel/data/jet_rotation/38/bkg_in_SB.h5\n",
      "./HVmodel/data/jet_rotation/39/sig_in_SR.h5\n",
      "./HVmodel/data/jet_rotation/39/sig_in_SB.h5\n",
      "./HVmodel/data/jet_rotation/39/bkg_in_SR.h5\n",
      "./HVmodel/data/jet_rotation/39/bkg_in_SB.h5\n",
      "./HVmodel/data/jet_rotation/40/sig_in_SR.h5\n",
      "./HVmodel/data/jet_rotation/40/sig_in_SB.h5\n",
      "./HVmodel/data/jet_rotation/40/bkg_in_SR.h5\n",
      "./HVmodel/data/jet_rotation/40/bkg_in_SB.h5\n",
      "./HVmodel/data/jet_rotation/41/sig_in_SR.h5\n",
      "./HVmodel/data/jet_rotation/41/sig_in_SB.h5\n",
      "./HVmodel/data/jet_rotation/41/bkg_in_SR.h5\n",
      "./HVmodel/data/jet_rotation/41/bkg_in_SB.h5\n",
      "./HVmodel/data/jet_rotation/42/sig_in_SR.h5\n",
      "./HVmodel/data/jet_rotation/42/sig_in_SB.h5\n",
      "./HVmodel/data/jet_rotation/42/bkg_in_SR.h5\n",
      "./HVmodel/data/jet_rotation/42/bkg_in_SB.h5\n",
      "./HVmodel/data/jet_rotation/43/sig_in_SR.h5\n",
      "./HVmodel/data/jet_rotation/43/sig_in_SB.h5\n",
      "./HVmodel/data/jet_rotation/43/bkg_in_SR.h5\n",
      "./HVmodel/data/jet_rotation/43/bkg_in_SB.h5\n",
      "./HVmodel/data/jet_rotation/44/sig_in_SR.h5\n",
      "./HVmodel/data/jet_rotation/44/sig_in_SB.h5\n",
      "./HVmodel/data/jet_rotation/44/bkg_in_SR.h5\n",
      "./HVmodel/data/jet_rotation/44/bkg_in_SB.h5\n",
      "./HVmodel/data/jet_rotation/45/sig_in_SR.h5\n",
      "./HVmodel/data/jet_rotation/45/sig_in_SB.h5\n",
      "./HVmodel/data/jet_rotation/45/bkg_in_SR.h5\n",
      "./HVmodel/data/jet_rotation/45/bkg_in_SB.h5\n",
      "./HVmodel/data/jet_rotation/46/sig_in_SR.h5\n",
      "./HVmodel/data/jet_rotation/46/sig_in_SB.h5\n",
      "./HVmodel/data/jet_rotation/46/bkg_in_SR.h5\n",
      "./HVmodel/data/jet_rotation/46/bkg_in_SB.h5\n",
      "./HVmodel/data/jet_rotation/47/sig_in_SR.h5\n",
      "./HVmodel/data/jet_rotation/47/sig_in_SB.h5\n",
      "./HVmodel/data/jet_rotation/47/bkg_in_SR.h5\n",
      "./HVmodel/data/jet_rotation/47/bkg_in_SB.h5\n",
      "./HVmodel/data/jet_rotation/48/sig_in_SR.h5\n",
      "./HVmodel/data/jet_rotation/48/sig_in_SB.h5\n",
      "./HVmodel/data/jet_rotation/48/bkg_in_SR.h5\n",
      "./HVmodel/data/jet_rotation/48/bkg_in_SB.h5\n",
      "./HVmodel/data/jet_rotation/49/sig_in_SR.h5\n",
      "./HVmodel/data/jet_rotation/49/sig_in_SB.h5\n",
      "./HVmodel/data/jet_rotation/49/bkg_in_SR.h5\n",
      "./HVmodel/data/jet_rotation/49/bkg_in_SB.h5\n",
      "./HVmodel/data/jet_rotation/50/sig_in_SR.h5\n",
      "./HVmodel/data/jet_rotation/50/sig_in_SB.h5\n",
      "./HVmodel/data/jet_rotation/50/bkg_in_SR.h5\n",
      "./HVmodel/data/jet_rotation/50/bkg_in_SB.h5\n"
     ]
    }
   ],
   "source": [
    "for n in range(34, 51):\n",
    "    h5_dir = './HVmodel/data/split_val'\n",
    "    out_dir = f'./HVmodel/data/jet_rotation/{n:02}'\n",
    "\n",
    "    # create output directory\n",
    "    if not os.path.exists(out_dir):\n",
    "        os.makedirs(out_dir)\n",
    "\n",
    "    for name in ['sig_in_SR', 'sig_in_SB', 'bkg_in_SR', 'bkg_in_SB']:\n",
    "        h5_path = os.path.join(h5_dir, f'{name}.h5')\n",
    "        out_h5 = os.path.join(out_dir, f'{name}.h5')\n",
    "        jet_rotation(h5_path, out_h5)"
   ]
  },
  {
   "cell_type": "markdown",
   "metadata": {},
   "source": [
    "# $p_\\text{T}$ smearing + Jet rotation"
   ]
  },
  {
   "cell_type": "code",
   "execution_count": 5,
   "metadata": {},
   "outputs": [],
   "source": [
    "def pt_smearing_jet_rotation(h5_path, out_h5, rot_range=np.pi):\n",
    "    # after pre-process, rotate the jet image with random angle\n",
    "    # rot_range: rotation range\n",
    "\n",
    "    shutil.copyfile(h5_path, out_h5)\n",
    "    \n",
    "    with h5py.File(out_h5, 'a') as f_out:\n",
    "        print(out_h5)     \n",
    "        \n",
    "        # Take pT, information\n",
    "        pt1, pt2 = f_out['J1/pt'][:], f_out['J2/pt'][:]\n",
    "\n",
    "        # Smearing pt\n",
    "        pt1_tmp = np.random.normal(loc=pt1, scale=pt_scale(pt1))\n",
    "        pt2_tmp = np.random.normal(loc=pt2, scale=pt_scale(pt2))\n",
    "\n",
    "        # set negative pt as 0\n",
    "        pt1_tmp[pt1_tmp < 0] = 0\n",
    "        pt2_tmp[pt2_tmp < 0] = 0\n",
    "\n",
    "        f_out['J1/pt'][:] = pt1_tmp\n",
    "        f_out['J2/pt'][:] = pt2_tmp\n",
    "\n",
    "        _, eta1_tmp, phi1_tmp = preprocess(f_out['J1/pt'][:], f_out['J1/eta'][:], f_out['J1/phi'][:])\n",
    "        _, eta2_tmp, phi2_tmp = preprocess(f_out['J2/pt'][:], f_out['J2/eta'][:], f_out['J2/phi'][:])\n",
    "\n",
    "        nevent = f_out['EVENT/signal'].shape[0]\n",
    "\n",
    "        # rotate eta and phi with random angle\n",
    "        angle = np.random.uniform(-rot_range, rot_range, size=nevent)[:, None]\n",
    "        eta1_rotat, phi1_rotat = rotation(eta1_tmp, phi1_tmp, angle)\n",
    "        angle = np.random.uniform(-rot_range, rot_range, size=nevent)[:, None]\n",
    "        eta2_rotat, phi2_rotat = rotation(eta2_tmp, phi2_tmp, angle)\n",
    "\n",
    "        f_out['J1/eta'][:] = eta1_rotat\n",
    "        f_out['J1/phi'][:] = phi1_rotat\n",
    "        f_out['J2/eta'][:] = eta2_rotat\n",
    "        f_out['J2/phi'][:] = phi2_rotat\n"
   ]
  },
  {
   "cell_type": "code",
   "execution_count": 6,
   "metadata": {},
   "outputs": [
    {
     "name": "stdout",
     "output_type": "stream",
     "text": [
      "./HVmodel/data/pt_smearing_jet_rotation/34/sig_in_SR.h5\n"
     ]
    },
    {
     "name": "stdout",
     "output_type": "stream",
     "text": [
      "./HVmodel/data/pt_smearing_jet_rotation/34/sig_in_SB.h5\n",
      "./HVmodel/data/pt_smearing_jet_rotation/34/bkg_in_SR.h5\n",
      "./HVmodel/data/pt_smearing_jet_rotation/34/bkg_in_SB.h5\n",
      "./HVmodel/data/pt_smearing_jet_rotation/35/sig_in_SR.h5\n",
      "./HVmodel/data/pt_smearing_jet_rotation/35/sig_in_SB.h5\n",
      "./HVmodel/data/pt_smearing_jet_rotation/35/bkg_in_SR.h5\n",
      "./HVmodel/data/pt_smearing_jet_rotation/35/bkg_in_SB.h5\n",
      "./HVmodel/data/pt_smearing_jet_rotation/36/sig_in_SR.h5\n",
      "./HVmodel/data/pt_smearing_jet_rotation/36/sig_in_SB.h5\n",
      "./HVmodel/data/pt_smearing_jet_rotation/36/bkg_in_SR.h5\n",
      "./HVmodel/data/pt_smearing_jet_rotation/36/bkg_in_SB.h5\n",
      "./HVmodel/data/pt_smearing_jet_rotation/37/sig_in_SR.h5\n",
      "./HVmodel/data/pt_smearing_jet_rotation/37/sig_in_SB.h5\n",
      "./HVmodel/data/pt_smearing_jet_rotation/37/bkg_in_SR.h5\n",
      "./HVmodel/data/pt_smearing_jet_rotation/37/bkg_in_SB.h5\n",
      "./HVmodel/data/pt_smearing_jet_rotation/38/sig_in_SR.h5\n",
      "./HVmodel/data/pt_smearing_jet_rotation/38/sig_in_SB.h5\n",
      "./HVmodel/data/pt_smearing_jet_rotation/38/bkg_in_SR.h5\n",
      "./HVmodel/data/pt_smearing_jet_rotation/38/bkg_in_SB.h5\n",
      "./HVmodel/data/pt_smearing_jet_rotation/39/sig_in_SR.h5\n",
      "./HVmodel/data/pt_smearing_jet_rotation/39/sig_in_SB.h5\n",
      "./HVmodel/data/pt_smearing_jet_rotation/39/bkg_in_SR.h5\n",
      "./HVmodel/data/pt_smearing_jet_rotation/39/bkg_in_SB.h5\n",
      "./HVmodel/data/pt_smearing_jet_rotation/40/sig_in_SR.h5\n",
      "./HVmodel/data/pt_smearing_jet_rotation/40/sig_in_SB.h5\n",
      "./HVmodel/data/pt_smearing_jet_rotation/40/bkg_in_SR.h5\n",
      "./HVmodel/data/pt_smearing_jet_rotation/40/bkg_in_SB.h5\n",
      "./HVmodel/data/pt_smearing_jet_rotation/41/sig_in_SR.h5\n",
      "./HVmodel/data/pt_smearing_jet_rotation/41/sig_in_SB.h5\n",
      "./HVmodel/data/pt_smearing_jet_rotation/41/bkg_in_SR.h5\n",
      "./HVmodel/data/pt_smearing_jet_rotation/41/bkg_in_SB.h5\n",
      "./HVmodel/data/pt_smearing_jet_rotation/42/sig_in_SR.h5\n",
      "./HVmodel/data/pt_smearing_jet_rotation/42/sig_in_SB.h5\n",
      "./HVmodel/data/pt_smearing_jet_rotation/42/bkg_in_SR.h5\n",
      "./HVmodel/data/pt_smearing_jet_rotation/42/bkg_in_SB.h5\n",
      "./HVmodel/data/pt_smearing_jet_rotation/43/sig_in_SR.h5\n",
      "./HVmodel/data/pt_smearing_jet_rotation/43/sig_in_SB.h5\n",
      "./HVmodel/data/pt_smearing_jet_rotation/43/bkg_in_SR.h5\n",
      "./HVmodel/data/pt_smearing_jet_rotation/43/bkg_in_SB.h5\n",
      "./HVmodel/data/pt_smearing_jet_rotation/44/sig_in_SR.h5\n",
      "./HVmodel/data/pt_smearing_jet_rotation/44/sig_in_SB.h5\n",
      "./HVmodel/data/pt_smearing_jet_rotation/44/bkg_in_SR.h5\n",
      "./HVmodel/data/pt_smearing_jet_rotation/44/bkg_in_SB.h5\n",
      "./HVmodel/data/pt_smearing_jet_rotation/45/sig_in_SR.h5\n",
      "./HVmodel/data/pt_smearing_jet_rotation/45/sig_in_SB.h5\n",
      "./HVmodel/data/pt_smearing_jet_rotation/45/bkg_in_SR.h5\n",
      "./HVmodel/data/pt_smearing_jet_rotation/45/bkg_in_SB.h5\n",
      "./HVmodel/data/pt_smearing_jet_rotation/46/sig_in_SR.h5\n",
      "./HVmodel/data/pt_smearing_jet_rotation/46/sig_in_SB.h5\n",
      "./HVmodel/data/pt_smearing_jet_rotation/46/bkg_in_SR.h5\n",
      "./HVmodel/data/pt_smearing_jet_rotation/46/bkg_in_SB.h5\n",
      "./HVmodel/data/pt_smearing_jet_rotation/47/sig_in_SR.h5\n",
      "./HVmodel/data/pt_smearing_jet_rotation/47/sig_in_SB.h5\n",
      "./HVmodel/data/pt_smearing_jet_rotation/47/bkg_in_SR.h5\n",
      "./HVmodel/data/pt_smearing_jet_rotation/47/bkg_in_SB.h5\n",
      "./HVmodel/data/pt_smearing_jet_rotation/48/sig_in_SR.h5\n",
      "./HVmodel/data/pt_smearing_jet_rotation/48/sig_in_SB.h5\n",
      "./HVmodel/data/pt_smearing_jet_rotation/48/bkg_in_SR.h5\n",
      "./HVmodel/data/pt_smearing_jet_rotation/48/bkg_in_SB.h5\n",
      "./HVmodel/data/pt_smearing_jet_rotation/49/sig_in_SR.h5\n",
      "./HVmodel/data/pt_smearing_jet_rotation/49/sig_in_SB.h5\n",
      "./HVmodel/data/pt_smearing_jet_rotation/49/bkg_in_SR.h5\n",
      "./HVmodel/data/pt_smearing_jet_rotation/49/bkg_in_SB.h5\n",
      "./HVmodel/data/pt_smearing_jet_rotation/50/sig_in_SR.h5\n",
      "./HVmodel/data/pt_smearing_jet_rotation/50/sig_in_SB.h5\n",
      "./HVmodel/data/pt_smearing_jet_rotation/50/bkg_in_SR.h5\n",
      "./HVmodel/data/pt_smearing_jet_rotation/50/bkg_in_SB.h5\n"
     ]
    }
   ],
   "source": [
    "for n in range(34, 51):\n",
    "    h5_dir = './HVmodel/data/split_val'\n",
    "    out_dir = f'./HVmodel/data/pt_smearing_jet_rotation/{n:02}'\n",
    "\n",
    "    # create output directory\n",
    "    if not os.path.exists(out_dir):\n",
    "        os.makedirs(out_dir)\n",
    "\n",
    "    for name in ['sig_in_SR', 'sig_in_SB', 'bkg_in_SR', 'bkg_in_SB']:\n",
    "        h5_path = os.path.join(h5_dir, f'{name}.h5')\n",
    "        out_h5 = os.path.join(out_dir, f'{name}.h5')\n",
    "        pt_smearing_jet_rotation(h5_path, out_h5)"
   ]
  },
  {
   "cell_type": "markdown",
   "metadata": {},
   "source": [
    "# $\\eta - \\phi$ smearing + $p_\\text{T}$ smearing + Jet rotation"
   ]
  },
  {
   "cell_type": "code",
   "execution_count": 7,
   "metadata": {},
   "outputs": [],
   "source": [
    "def eta_phi_pt_smearing_jet_rotation(h5_path, out_h5, std_scale=0.1, rot_range=np.pi):\n",
    "    # after pre-process, rotate the jet image with random angle\n",
    "    # rot_range: rotation range\n",
    "\n",
    "    shutil.copyfile(h5_path, out_h5)\n",
    "    \n",
    "    with h5py.File(out_h5, 'a') as f_out:\n",
    "        print(out_h5)     \n",
    "        \n",
    "        # Take pT, eta, phi information\n",
    "        pt1, pt2 = f_out['J1/pt'][:], f_out['J2/pt'][:]\n",
    "        eta1, eta2 = f_out['J1/eta'][:], f_out['J2/eta'][:]\n",
    "        phi1, phi2 = f_out['J1/phi'][:], f_out['J2/phi'][:]\n",
    "\n",
    "        # ete and phi smearing\n",
    "        std_1 = np.divide(std_scale, pt1, out=np.zeros_like(pt1), where=(pt1!=0))\n",
    "        std_2 = np.divide(std_scale, pt2, out=np.zeros_like(pt2), where=(pt2!=0))\n",
    "\n",
    "        f_out['J1/eta'][:] = np.random.normal(loc=eta1, scale=std_1)\n",
    "        f_out['J2/eta'][:] = np.random.normal(loc=eta2, scale=std_2)\n",
    "        f_out['J1/phi'][:] = std_phi(np.random.normal(loc=phi1, scale=std_1))\n",
    "        f_out['J2/phi'][:] = std_phi(np.random.normal(loc=phi2, scale=std_2))\n",
    "\n",
    "        # Smearing pt\n",
    "        pt1_tmp = np.random.normal(loc=pt1, scale=pt_scale(pt1))\n",
    "        pt2_tmp = np.random.normal(loc=pt2, scale=pt_scale(pt2))\n",
    "\n",
    "        # set negative pt as 0\n",
    "        pt1_tmp[pt1_tmp < 0] = 0\n",
    "        pt2_tmp[pt2_tmp < 0] = 0\n",
    "\n",
    "        f_out['J1/pt'][:] = pt1_tmp\n",
    "        f_out['J2/pt'][:] = pt2_tmp\n",
    "\n",
    "        _, eta1_tmp, phi1_tmp = preprocess(f_out['J1/pt'][:], f_out['J1/eta'][:], f_out['J1/phi'][:])\n",
    "        _, eta2_tmp, phi2_tmp = preprocess(f_out['J2/pt'][:], f_out['J2/eta'][:], f_out['J2/phi'][:])\n",
    "\n",
    "        nevent = f_out['EVENT/signal'].shape[0]\n",
    "\n",
    "        # rotate eta and phi with random angle\n",
    "        angle = np.random.uniform(-rot_range, rot_range, size=nevent)[:, None]\n",
    "        eta1_rotat, phi1_rotat = rotation(eta1_tmp, phi1_tmp, angle)\n",
    "        angle = np.random.uniform(-rot_range, rot_range, size=nevent)[:, None]\n",
    "        eta2_rotat, phi2_rotat = rotation(eta2_tmp, phi2_tmp, angle)\n",
    "\n",
    "        f_out['J1/eta'][:] = eta1_rotat\n",
    "        f_out['J1/phi'][:] = phi1_rotat\n",
    "        f_out['J2/eta'][:] = eta2_rotat\n",
    "        f_out['J2/phi'][:] = phi2_rotat\n"
   ]
  },
  {
   "cell_type": "code",
   "execution_count": 8,
   "metadata": {},
   "outputs": [
    {
     "name": "stdout",
     "output_type": "stream",
     "text": [
      "./HVmodel/data/eta_phi_pt_smearing_jet_rotation/23/sig_in_SR.h5\n",
      "./HVmodel/data/eta_phi_pt_smearing_jet_rotation/23/sig_in_SB.h5\n",
      "./HVmodel/data/eta_phi_pt_smearing_jet_rotation/23/bkg_in_SR.h5\n",
      "./HVmodel/data/eta_phi_pt_smearing_jet_rotation/23/bkg_in_SB.h5\n",
      "./HVmodel/data/eta_phi_pt_smearing_jet_rotation/24/sig_in_SR.h5\n",
      "./HVmodel/data/eta_phi_pt_smearing_jet_rotation/24/sig_in_SB.h5\n",
      "./HVmodel/data/eta_phi_pt_smearing_jet_rotation/24/bkg_in_SR.h5\n",
      "./HVmodel/data/eta_phi_pt_smearing_jet_rotation/24/bkg_in_SB.h5\n",
      "./HVmodel/data/eta_phi_pt_smearing_jet_rotation/25/sig_in_SR.h5\n",
      "./HVmodel/data/eta_phi_pt_smearing_jet_rotation/25/sig_in_SB.h5\n",
      "./HVmodel/data/eta_phi_pt_smearing_jet_rotation/25/bkg_in_SR.h5\n",
      "./HVmodel/data/eta_phi_pt_smearing_jet_rotation/25/bkg_in_SB.h5\n",
      "./HVmodel/data/eta_phi_pt_smearing_jet_rotation/26/sig_in_SR.h5\n",
      "./HVmodel/data/eta_phi_pt_smearing_jet_rotation/26/sig_in_SB.h5\n",
      "./HVmodel/data/eta_phi_pt_smearing_jet_rotation/26/bkg_in_SR.h5\n",
      "./HVmodel/data/eta_phi_pt_smearing_jet_rotation/26/bkg_in_SB.h5\n",
      "./HVmodel/data/eta_phi_pt_smearing_jet_rotation/27/sig_in_SR.h5\n",
      "./HVmodel/data/eta_phi_pt_smearing_jet_rotation/27/sig_in_SB.h5\n",
      "./HVmodel/data/eta_phi_pt_smearing_jet_rotation/27/bkg_in_SR.h5\n",
      "./HVmodel/data/eta_phi_pt_smearing_jet_rotation/27/bkg_in_SB.h5\n",
      "./HVmodel/data/eta_phi_pt_smearing_jet_rotation/28/sig_in_SR.h5\n",
      "./HVmodel/data/eta_phi_pt_smearing_jet_rotation/28/sig_in_SB.h5\n",
      "./HVmodel/data/eta_phi_pt_smearing_jet_rotation/28/bkg_in_SR.h5\n",
      "./HVmodel/data/eta_phi_pt_smearing_jet_rotation/28/bkg_in_SB.h5\n",
      "./HVmodel/data/eta_phi_pt_smearing_jet_rotation/29/sig_in_SR.h5\n",
      "./HVmodel/data/eta_phi_pt_smearing_jet_rotation/29/sig_in_SB.h5\n",
      "./HVmodel/data/eta_phi_pt_smearing_jet_rotation/29/bkg_in_SR.h5\n",
      "./HVmodel/data/eta_phi_pt_smearing_jet_rotation/29/bkg_in_SB.h5\n",
      "./HVmodel/data/eta_phi_pt_smearing_jet_rotation/30/sig_in_SR.h5\n",
      "./HVmodel/data/eta_phi_pt_smearing_jet_rotation/30/sig_in_SB.h5\n",
      "./HVmodel/data/eta_phi_pt_smearing_jet_rotation/30/bkg_in_SR.h5\n",
      "./HVmodel/data/eta_phi_pt_smearing_jet_rotation/30/bkg_in_SB.h5\n",
      "./HVmodel/data/eta_phi_pt_smearing_jet_rotation/31/sig_in_SR.h5\n",
      "./HVmodel/data/eta_phi_pt_smearing_jet_rotation/31/sig_in_SB.h5\n",
      "./HVmodel/data/eta_phi_pt_smearing_jet_rotation/31/bkg_in_SR.h5\n",
      "./HVmodel/data/eta_phi_pt_smearing_jet_rotation/31/bkg_in_SB.h5\n",
      "./HVmodel/data/eta_phi_pt_smearing_jet_rotation/32/sig_in_SR.h5\n",
      "./HVmodel/data/eta_phi_pt_smearing_jet_rotation/32/sig_in_SB.h5\n",
      "./HVmodel/data/eta_phi_pt_smearing_jet_rotation/32/bkg_in_SR.h5\n",
      "./HVmodel/data/eta_phi_pt_smearing_jet_rotation/32/bkg_in_SB.h5\n",
      "./HVmodel/data/eta_phi_pt_smearing_jet_rotation/33/sig_in_SR.h5\n",
      "./HVmodel/data/eta_phi_pt_smearing_jet_rotation/33/sig_in_SB.h5\n",
      "./HVmodel/data/eta_phi_pt_smearing_jet_rotation/33/bkg_in_SR.h5\n",
      "./HVmodel/data/eta_phi_pt_smearing_jet_rotation/33/bkg_in_SB.h5\n"
     ]
    }
   ],
   "source": [
    "for n in range(23, 34):\n",
    "    h5_dir = './HVmodel/data/split_val'\n",
    "    out_dir = f'./HVmodel/data/eta_phi_pt_smearing_jet_rotation/{n:02}'\n",
    "\n",
    "    # create output directory\n",
    "    if not os.path.exists(out_dir):\n",
    "        os.makedirs(out_dir)\n",
    "\n",
    "    for name in ['sig_in_SR', 'sig_in_SB', 'bkg_in_SR', 'bkg_in_SB']:\n",
    "        h5_path = os.path.join(h5_dir, f'{name}.h5')\n",
    "        out_h5 = os.path.join(out_dir, f'{name}.h5')\n",
    "        eta_phi_pt_smearing_jet_rotation(h5_path, out_h5)"
   ]
  },
  {
   "cell_type": "markdown",
   "metadata": {},
   "source": [
    "# Only shifting to $p_\\text{T}$ center"
   ]
  },
  {
   "cell_type": "code",
   "execution_count": 3,
   "metadata": {},
   "outputs": [],
   "source": [
    "def to_pt_center_h5(h5_path, out_h5):\n",
    "\n",
    "    shutil.copyfile(h5_path, out_h5)\n",
    "\n",
    "    with h5py.File(out_h5, 'a') as f_out:\n",
    "        print(out_h5)\n",
    "        _, eta1, phi1 = preprocess_only_centralization(f_out['J1/pt'][:], f_out['J1/eta'][:], f_out['J1/phi'][:])\n",
    "        _, eta2, phi2 = preprocess_only_centralization(f_out['J2/pt'][:], f_out['J2/eta'][:], f_out['J2/phi'][:])\n",
    "\n",
    "        f_out['J1/eta'][:] = eta1\n",
    "        f_out['J1/phi'][:] = phi1\n",
    "        f_out['J2/eta'][:] = eta2\n",
    "        f_out['J2/phi'][:] = phi2"
   ]
  },
  {
   "cell_type": "code",
   "execution_count": 6,
   "metadata": {},
   "outputs": [
    {
     "name": "stdout",
     "output_type": "stream",
     "text": [
      "./HVmodel/data/pt_center/sig_in_SR.h5\n",
      "./HVmodel/data/pt_center/sig_in_SB.h5\n",
      "./HVmodel/data/pt_center/bkg_in_SR.h5\n",
      "./HVmodel/data/pt_center/bkg_in_SB.h5\n",
      "./HVmodel/data/pt_center/val/sig_in_SR.h5\n",
      "./HVmodel/data/pt_center/val/sig_in_SB.h5\n",
      "./HVmodel/data/pt_center/val/bkg_in_SR.h5\n",
      "./HVmodel/data/pt_center/val/bkg_in_SB.h5\n"
     ]
    }
   ],
   "source": [
    "for name in ['sig_in_SR', 'sig_in_SB', 'bkg_in_SR', 'bkg_in_SB']:\n",
    "    h5_path = f'./HVmodel/data/split_val/{name}.h5'\n",
    "    out_h5 = f'./HVmodel/data/pt_center/{name}.h5'\n",
    "    to_pt_center_h5(h5_path, out_h5)\n",
    "\n",
    "for new_name, old_name in zip(['sig_in_SR', 'sig_in_SB', 'bkg_in_SR', 'bkg_in_SB'], \n",
    "                              ['sig-val_in_SR', 'sig-val_in_SB', 'bkg-val_in_SR', 'bkg-val_in_SB']):\n",
    "    h5_path = f'./HVmodel/data/split_val/{old_name}.h5'\n",
    "    out_h5 = f'./HVmodel/data/pt_center/val/{new_name}.h5'\n",
    "    to_pt_center_h5(h5_path, out_h5)"
   ]
  },
  {
   "cell_type": "markdown",
   "metadata": {},
   "source": [
    "# $m_{jj}$ normalization"
   ]
  },
  {
   "cell_type": "code",
   "execution_count": 3,
   "metadata": {},
   "outputs": [],
   "source": [
    "def mjj_normalization(h5_path, out_h5):\n",
    "\n",
    "    shutil.copyfile(h5_path, out_h5)\n",
    "\n",
    "    center_of_SR = 5100\n",
    "\n",
    "    with h5py.File(out_h5, 'a') as f_out:\n",
    "        print(out_h5)\n",
    "        # Take pT information\n",
    "        pt1, pt2 = f_out['J1/pt'][:], f_out['J2/pt'][:]\n",
    "\n",
    "        # Take mjj information\n",
    "        mjj = f_out['EVENT/Mjj'][:][:, None]\n",
    "\n",
    "        # Normalize pT\n",
    "        f_out['J1/pt'][:] = pt1 / mjj * center_of_SR\n",
    "        f_out['J2/pt'][:] = pt2 / mjj * center_of_SR\n",
    "\n",
    "        _, eta1, phi1 = preprocess(f_out['J1/pt'][:], f_out['J1/eta'][:], f_out['J1/phi'][:])\n",
    "        _, eta2, phi2 = preprocess(f_out['J2/pt'][:], f_out['J2/eta'][:], f_out['J2/phi'][:])\n",
    "\n",
    "        f_out['J1/eta'][:] = eta1\n",
    "        f_out['J1/phi'][:] = phi1\n",
    "        f_out['J2/eta'][:] = eta2\n",
    "        f_out['J2/phi'][:] = phi2"
   ]
  },
  {
   "cell_type": "code",
   "execution_count": 4,
   "metadata": {},
   "outputs": [
    {
     "name": "stdout",
     "output_type": "stream",
     "text": [
      "./HVmodel/data/pt_normalization/sig_in_SR.h5\n",
      "./HVmodel/data/pt_normalization/sig_in_SB.h5\n",
      "./HVmodel/data/pt_normalization/bkg_in_SR.h5\n",
      "./HVmodel/data/pt_normalization/bkg_in_SB.h5\n",
      "./HVmodel/data/pt_normalization/val/sig_in_SR.h5\n",
      "./HVmodel/data/pt_normalization/val/sig_in_SB.h5\n",
      "./HVmodel/data/pt_normalization/val/bkg_in_SR.h5\n",
      "./HVmodel/data/pt_normalization/val/bkg_in_SB.h5\n"
     ]
    }
   ],
   "source": [
    "for name in ['sig_in_SR', 'sig_in_SB', 'bkg_in_SR', 'bkg_in_SB']:\n",
    "    h5_path = f'./HVmodel/data/split_val/{name}.h5'\n",
    "    out_h5 = f'./HVmodel/data/mjj_normalization/{name}.h5'\n",
    "    mjj_normalization(h5_path, out_h5)\n",
    "\n",
    "for new_name, old_name in zip(['sig_in_SR', 'sig_in_SB', 'bkg_in_SR', 'bkg_in_SB'], \n",
    "                              ['sig-val_in_SR', 'sig-val_in_SB', 'bkg-val_in_SR', 'bkg-val_in_SB']):\n",
    "    h5_path = f'./HVmodel/data/split_val/{old_name}.h5'\n",
    "    out_h5 = f'./HVmodel/data/mjj_normalization/val/{new_name}.h5'\n",
    "    mjj_normalization(h5_path, out_h5)"
   ]
  },
  {
   "cell_type": "code",
   "execution_count": 6,
   "metadata": {},
   "outputs": [
    {
     "name": "stdout",
     "output_type": "stream",
     "text": [
      "./HVmodel/data/pt_normalization/testing/mix_sample_test-4.h5\n"
     ]
    }
   ],
   "source": [
    "name = 'mix_sample_test-4'\n",
    "h5_path = f'./HVmodel/data/split_val/{name}.h5'\n",
    "out_h5 = f'./HVmodel/data/mjj_normalization/testing/{name}.h5'\n",
    "mjj_normalization(h5_path, out_h5)"
   ]
  },
  {
   "cell_type": "markdown",
   "metadata": {},
   "source": [
    "# Take invariant mass"
   ]
  },
  {
   "cell_type": "code",
   "execution_count": 1,
   "metadata": {},
   "outputs": [],
   "source": [
    "def get_mjj_from_h5(h5_path, out_npy):\n",
    "\n",
    "    with h5py.File(h5_path, 'r') as f:\n",
    "        mjj = f['EVENT/Mjj'][:]\n",
    "        np.save(out_npy, mjj)"
   ]
  },
  {
   "cell_type": "code",
   "execution_count": 4,
   "metadata": {},
   "outputs": [],
   "source": [
    "for name in ['sig_in_SR', 'sig_in_SB', 'bkg_in_SR', 'bkg_in_SB']:\n",
    "    h5_path = f'./HVmodel/data/origin/{name}.h5'\n",
    "    out_npy = f'./HVmodel/data/origin/{name}-mjj.npy'\n",
    "    get_mjj_from_h5(h5_path, out_npy)"
   ]
  },
  {
   "cell_type": "markdown",
   "metadata": {},
   "source": [
    "# Testing sample"
   ]
  },
  {
   "cell_type": "code",
   "execution_count": 3,
   "metadata": {},
   "outputs": [
    {
     "name": "stdout",
     "output_type": "stream",
     "text": [
      "./HVmodel/data/split_val/testing/mix_sample_test-mjj.h5\n"
     ]
    }
   ],
   "source": [
    "name = 'mix_sample_test-mjj'\n",
    "h5_path = f'./HVmodel/data/split_val/{name}.h5'\n",
    "out_h5 = f'./HVmodel/data/split_val/testing/{name}.h5'\n",
    "to_origin_h5(h5_path, out_h5)"
   ]
  },
  {
   "cell_type": "code",
   "execution_count": 9,
   "metadata": {},
   "outputs": [
    {
     "name": "stdout",
     "output_type": "stream",
     "text": [
      "./HVmodel/data/split_val/testing/mix_sample_test-2.h5\n"
     ]
    }
   ],
   "source": [
    "name = 'mix_sample_test-2'\n",
    "h5_path = f'./HVmodel/data/split_val/{name}.h5'\n",
    "out_h5 = f'./HVmodel/data/split_val/testing/{name}.h5'\n",
    "to_origin_h5(h5_path, out_h5)"
   ]
  },
  {
   "cell_type": "code",
   "execution_count": 4,
   "metadata": {},
   "outputs": [
    {
     "name": "stdout",
     "output_type": "stream",
     "text": [
      "./HVmodel/data/split_val/testing/mix_sample_test-3.h5\n"
     ]
    }
   ],
   "source": [
    "name = 'mix_sample_test-3'\n",
    "h5_path = f'./HVmodel/data/split_val/{name}.h5'\n",
    "out_h5 = f'./HVmodel/data/split_val/testing/{name}.h5'\n",
    "to_origin_h5(h5_path, out_h5)"
   ]
  },
  {
   "cell_type": "code",
   "execution_count": 5,
   "metadata": {},
   "outputs": [
    {
     "name": "stdout",
     "output_type": "stream",
     "text": [
      "./HVmodel/data/split_val/testing/mix_sample_test-4.h5\n"
     ]
    }
   ],
   "source": [
    "name = 'mix_sample_test-4'\n",
    "h5_path = f'./HVmodel/data/split_val/{name}.h5'\n",
    "out_h5 = f'./HVmodel/data/split_val/testing/{name}.h5'\n",
    "to_origin_h5(h5_path, out_h5)"
   ]
  },
  {
   "cell_type": "markdown",
   "metadata": {},
   "source": [
    "# Pixelization"
   ]
  },
  {
   "cell_type": "code",
   "execution_count": 6,
   "metadata": {},
   "outputs": [
    {
     "name": "stdout",
     "output_type": "stream",
     "text": [
      "python pixelization.py ./HVmodel/data/origin/sig_in_SR.h5 ./HVmodel/data/origin/75x75/sig_in_SR.npy 75 &\n",
      "python pixelization.py ./HVmodel/data/origin/sig_in_SB.h5 ./HVmodel/data/origin/75x75/sig_in_SB.npy 75 &\n",
      "python pixelization.py ./HVmodel/data/origin/bkg_in_SR.h5 ./HVmodel/data/origin/75x75/bkg_in_SR.npy 75 &\n",
      "python pixelization.py ./HVmodel/data/origin/bkg_in_SB.h5 ./HVmodel/data/origin/75x75/bkg_in_SB.npy 75 &\n",
      "python pixelization.py ./HVmodel/data/origin/val/sig_in_SR.h5 ./HVmodel/data/origin/75x75/val/sig_in_SR.npy 75 &\n",
      "python pixelization.py ./HVmodel/data/origin/val/sig_in_SB.h5 ./HVmodel/data/origin/75x75/val/sig_in_SB.npy 75 &\n",
      "python pixelization.py ./HVmodel/data/origin/val/bkg_in_SR.h5 ./HVmodel/data/origin/75x75/val/bkg_in_SR.npy 75 &\n",
      "python pixelization.py ./HVmodel/data/origin/val/bkg_in_SB.h5 ./HVmodel/data/origin/75x75/val/bkg_in_SB.npy 75 &\n"
     ]
    }
   ],
   "source": [
    "res = 75\n",
    "h5_dir = './HVmodel/data/origin'\n",
    "npy_dir = f'./HVmodel/data/origin/{res}x{res}'\n",
    "\n",
    "# create output directory\n",
    "if not os.path.exists(npy_dir):\n",
    "    os.makedirs(npy_dir)\n",
    "\n",
    "for name in ['sig_in_SR', 'sig_in_SB', 'bkg_in_SR', 'bkg_in_SB']:\n",
    "    h5_path = os.path.join(h5_dir, f'{name}.h5')\n",
    "    npy_path = os.path.join(npy_dir, f'{name}.npy')\n",
    "    cmd = f'python pixelization.py {h5_path} {npy_path} {res} &'\n",
    "    print(cmd)\n",
    "\n",
    "h5_dir = './HVmodel/data/origin/val'\n",
    "npy_dir = f'./HVmodel/data/origin/{res}x{res}/val'\n",
    "\n",
    "# create output directory\n",
    "if not os.path.exists(npy_dir):\n",
    "    os.makedirs(npy_dir)\n",
    "\n",
    "for name in ['sig_in_SR', 'sig_in_SB', 'bkg_in_SR', 'bkg_in_SB']:\n",
    "    h5_path = os.path.join(h5_dir, f'{name}.h5')\n",
    "    npy_path = os.path.join(npy_dir, f'{name}.npy')\n",
    "    cmd = f'python pixelization.py {h5_path} {npy_path} {res} &'\n",
    "    print(cmd)"
   ]
  },
  {
   "cell_type": "markdown",
   "metadata": {},
   "source": [
    "## Only shifting to $p_\\text{T}$ center"
   ]
  },
  {
   "cell_type": "code",
   "execution_count": 7,
   "metadata": {},
   "outputs": [
    {
     "name": "stdout",
     "output_type": "stream",
     "text": [
      "python pixelization.py ./HVmodel/data/pt_center/sig_in_SR.h5 ./HVmodel/data/pt_center/25x25/sig_in_SR.npy 25 &\n",
      "python pixelization.py ./HVmodel/data/pt_center/sig_in_SB.h5 ./HVmodel/data/pt_center/25x25/sig_in_SB.npy 25 &\n",
      "python pixelization.py ./HVmodel/data/pt_center/bkg_in_SR.h5 ./HVmodel/data/pt_center/25x25/bkg_in_SR.npy 25 &\n",
      "python pixelization.py ./HVmodel/data/pt_center/bkg_in_SB.h5 ./HVmodel/data/pt_center/25x25/bkg_in_SB.npy 25 &\n",
      "python pixelization.py ./HVmodel/data/pt_center/val/sig_in_SR.h5 ./HVmodel/data/pt_center/25x25/val/sig_in_SR.npy 25 &\n",
      "python pixelization.py ./HVmodel/data/pt_center/val/sig_in_SB.h5 ./HVmodel/data/pt_center/25x25/val/sig_in_SB.npy 25 &\n",
      "python pixelization.py ./HVmodel/data/pt_center/val/bkg_in_SR.h5 ./HVmodel/data/pt_center/25x25/val/bkg_in_SR.npy 25 &\n",
      "python pixelization.py ./HVmodel/data/pt_center/val/bkg_in_SB.h5 ./HVmodel/data/pt_center/25x25/val/bkg_in_SB.npy 25 &\n"
     ]
    }
   ],
   "source": [
    "res = 25\n",
    "h5_dir = './HVmodel/data/pt_center'\n",
    "out_dir = f'./HVmodel/data/pt_center/{res}x{res}'\n",
    "\n",
    "for name in ['sig_in_SR', 'sig_in_SB', 'bkg_in_SR', 'bkg_in_SB']:\n",
    "    h5_path = os.path.join(h5_dir, f'{name}.h5')\n",
    "    npy_path = os.path.join(out_dir, f'{name}.npy')\n",
    "\n",
    "    # create output directory\n",
    "    if not os.path.exists(out_dir):\n",
    "        os.makedirs(out_dir)\n",
    "\n",
    "    cmd = f'python pixelization.py {h5_path} {npy_path} {res} &'\n",
    "    print(cmd)\n",
    "\n",
    "h5_dir = './HVmodel/data/pt_center/val'\n",
    "out_dir = f'./HVmodel/data/pt_center/{res}x{res}/val'\n",
    "\n",
    "for name in ['sig_in_SR', 'sig_in_SB', 'bkg_in_SR', 'bkg_in_SB']:\n",
    "    h5_path = os.path.join(h5_dir, f'{name}.h5')\n",
    "    npy_path = os.path.join(out_dir, f'{name}.npy')\n",
    "    \n",
    "    # create output directory\n",
    "    if not os.path.exists(out_dir):\n",
    "        os.makedirs(out_dir)\n",
    "\n",
    "    cmd = f'python pixelization.py {h5_path} {npy_path} {res} &'\n",
    "    print(cmd)"
   ]
  },
  {
   "cell_type": "code",
   "execution_count": 6,
   "metadata": {},
   "outputs": [
    {
     "name": "stdout",
     "output_type": "stream",
     "text": [
      "python pixelization.py ./HVmodel/data/eta_phi_smearing/01/sig_in_SR.h5 ./HVmodel/data/eta_phi_smearing/25x25/01/sig_in_SR.npy 25 &\n",
      "python pixelization.py ./HVmodel/data/eta_phi_smearing/01/sig_in_SB.h5 ./HVmodel/data/eta_phi_smearing/25x25/01/sig_in_SB.npy 25 &\n",
      "python pixelization.py ./HVmodel/data/eta_phi_smearing/01/bkg_in_SR.h5 ./HVmodel/data/eta_phi_smearing/25x25/01/bkg_in_SR.npy 25 &\n",
      "python pixelization.py ./HVmodel/data/eta_phi_smearing/01/bkg_in_SB.h5 ./HVmodel/data/eta_phi_smearing/25x25/01/bkg_in_SB.npy 25 &\n",
      "python pixelization.py ./HVmodel/data/eta_phi_smearing/02/sig_in_SR.h5 ./HVmodel/data/eta_phi_smearing/25x25/02/sig_in_SR.npy 25 &\n",
      "python pixelization.py ./HVmodel/data/eta_phi_smearing/02/sig_in_SB.h5 ./HVmodel/data/eta_phi_smearing/25x25/02/sig_in_SB.npy 25 &\n",
      "python pixelization.py ./HVmodel/data/eta_phi_smearing/02/bkg_in_SR.h5 ./HVmodel/data/eta_phi_smearing/25x25/02/bkg_in_SR.npy 25 &\n",
      "python pixelization.py ./HVmodel/data/eta_phi_smearing/02/bkg_in_SB.h5 ./HVmodel/data/eta_phi_smearing/25x25/02/bkg_in_SB.npy 25 &\n",
      "python pixelization.py ./HVmodel/data/eta_phi_smearing/03/sig_in_SR.h5 ./HVmodel/data/eta_phi_smearing/25x25/03/sig_in_SR.npy 25 &\n",
      "python pixelization.py ./HVmodel/data/eta_phi_smearing/03/sig_in_SB.h5 ./HVmodel/data/eta_phi_smearing/25x25/03/sig_in_SB.npy 25 &\n",
      "python pixelization.py ./HVmodel/data/eta_phi_smearing/03/bkg_in_SR.h5 ./HVmodel/data/eta_phi_smearing/25x25/03/bkg_in_SR.npy 25 &\n",
      "python pixelization.py ./HVmodel/data/eta_phi_smearing/03/bkg_in_SB.h5 ./HVmodel/data/eta_phi_smearing/25x25/03/bkg_in_SB.npy 25 &\n"
     ]
    }
   ],
   "source": [
    "res = 25\n",
    "for n in range(1, 4):\n",
    "\n",
    "    h5_dir = f'./HVmodel/data/eta_phi_smearing/{n:02}'\n",
    "    out_dir = f'./HVmodel/data/eta_phi_smearing/{res}x{res}/{n:02}'\n",
    "\n",
    "    # create output directory\n",
    "    if not os.path.exists(out_dir):\n",
    "        os.makedirs(out_dir)\n",
    "\n",
    "    for name in ['sig_in_SR', 'sig_in_SB', 'bkg_in_SR', 'bkg_in_SB']:\n",
    "        h5_path = os.path.join(h5_dir, f'{name}.h5')\n",
    "        npy_path = os.path.join(out_dir, f'{name}.npy')\n",
    "        cmd = f'python pixelization.py {h5_path} {npy_path} {res} &'\n",
    "        print(cmd)\n"
   ]
  },
  {
   "cell_type": "code",
   "execution_count": null,
   "metadata": {},
   "outputs": [
    {
     "name": "stdout",
     "output_type": "stream",
     "text": [
      "python pixelization.py ./HVmodel/data/pt_smearing/01/sig_in_SR.h5 ./HVmodel/data/pt_smearing/25x25/01/sig_in_SR.npy 25 &\n",
      "python pixelization.py ./HVmodel/data/pt_smearing/01/sig_in_SB.h5 ./HVmodel/data/pt_smearing/25x25/01/sig_in_SB.npy 25 &\n",
      "python pixelization.py ./HVmodel/data/pt_smearing/01/bkg_in_SR.h5 ./HVmodel/data/pt_smearing/25x25/01/bkg_in_SR.npy 25 &\n",
      "python pixelization.py ./HVmodel/data/pt_smearing/01/bkg_in_SB.h5 ./HVmodel/data/pt_smearing/25x25/01/bkg_in_SB.npy 25 &\n",
      "python pixelization.py ./HVmodel/data/pt_smearing/02/sig_in_SR.h5 ./HVmodel/data/pt_smearing/25x25/02/sig_in_SR.npy 25 &\n",
      "python pixelization.py ./HVmodel/data/pt_smearing/02/sig_in_SB.h5 ./HVmodel/data/pt_smearing/25x25/02/sig_in_SB.npy 25 &\n",
      "python pixelization.py ./HVmodel/data/pt_smearing/02/bkg_in_SR.h5 ./HVmodel/data/pt_smearing/25x25/02/bkg_in_SR.npy 25 &\n",
      "python pixelization.py ./HVmodel/data/pt_smearing/02/bkg_in_SB.h5 ./HVmodel/data/pt_smearing/25x25/02/bkg_in_SB.npy 25 &\n",
      "python pixelization.py ./HVmodel/data/pt_smearing/03/sig_in_SR.h5 ./HVmodel/data/pt_smearing/25x25/03/sig_in_SR.npy 25 &\n",
      "python pixelization.py ./HVmodel/data/pt_smearing/03/sig_in_SB.h5 ./HVmodel/data/pt_smearing/25x25/03/sig_in_SB.npy 25 &\n",
      "python pixelization.py ./HVmodel/data/pt_smearing/03/bkg_in_SR.h5 ./HVmodel/data/pt_smearing/25x25/03/bkg_in_SR.npy 25 &\n",
      "python pixelization.py ./HVmodel/data/pt_smearing/03/bkg_in_SB.h5 ./HVmodel/data/pt_smearing/25x25/03/bkg_in_SB.npy 25 &\n",
      "python pixelization.py ./HVmodel/data/pt_smearing/04/sig_in_SR.h5 ./HVmodel/data/pt_smearing/25x25/04/sig_in_SR.npy 25 &\n",
      "python pixelization.py ./HVmodel/data/pt_smearing/04/sig_in_SB.h5 ./HVmodel/data/pt_smearing/25x25/04/sig_in_SB.npy 25 &\n",
      "python pixelization.py ./HVmodel/data/pt_smearing/04/bkg_in_SR.h5 ./HVmodel/data/pt_smearing/25x25/04/bkg_in_SR.npy 25 &\n",
      "python pixelization.py ./HVmodel/data/pt_smearing/04/bkg_in_SB.h5 ./HVmodel/data/pt_smearing/25x25/04/bkg_in_SB.npy 25 &\n",
      "python pixelization.py ./HVmodel/data/pt_smearing/05/sig_in_SR.h5 ./HVmodel/data/pt_smearing/25x25/05/sig_in_SR.npy 25 &\n",
      "python pixelization.py ./HVmodel/data/pt_smearing/05/sig_in_SB.h5 ./HVmodel/data/pt_smearing/25x25/05/sig_in_SB.npy 25 &\n",
      "python pixelization.py ./HVmodel/data/pt_smearing/05/bkg_in_SR.h5 ./HVmodel/data/pt_smearing/25x25/05/bkg_in_SR.npy 25 &\n",
      "python pixelization.py ./HVmodel/data/pt_smearing/05/bkg_in_SB.h5 ./HVmodel/data/pt_smearing/25x25/05/bkg_in_SB.npy 25 &\n"
     ]
    }
   ],
   "source": [
    "res = 25\n",
    "for n in range(1, 6):\n",
    "\n",
    "    h5_dir = f'./HVmodel/data/pt_smearing/{n:02}'\n",
    "    out_dir = f'./HVmodel/data/pt_smearing/{res}x{res}/{n:02}'\n",
    "\n",
    "    # create output directory\n",
    "    if not os.path.exists(out_dir):\n",
    "        os.makedirs(out_dir)\n",
    "\n",
    "    for name in ['sig_in_SR', 'sig_in_SB', 'bkg_in_SR', 'bkg_in_SB']:\n",
    "        h5_path = os.path.join(h5_dir, f'{name}.h5')\n",
    "        npy_path = os.path.join(out_dir, f'{name}.npy')\n",
    "        cmd = f'python pixelization.py {h5_path} {npy_path} {res} &'\n",
    "        print(cmd)\n"
   ]
  },
  {
   "cell_type": "markdown",
   "metadata": {},
   "source": [
    "## Jet rotation"
   ]
  },
  {
   "cell_type": "code",
   "execution_count": 7,
   "metadata": {},
   "outputs": [
    {
     "name": "stdout",
     "output_type": "stream",
     "text": [
      "python pixelization.py ./HVmodel/data/jet_rotation/34/sig_in_SR.h5 ./HVmodel/data/jet_rotation/25x25/34/sig_in_SR.npy 25 &\n",
      "python pixelization.py ./HVmodel/data/jet_rotation/34/sig_in_SB.h5 ./HVmodel/data/jet_rotation/25x25/34/sig_in_SB.npy 25 &\n",
      "python pixelization.py ./HVmodel/data/jet_rotation/34/bkg_in_SR.h5 ./HVmodel/data/jet_rotation/25x25/34/bkg_in_SR.npy 25 &\n",
      "python pixelization.py ./HVmodel/data/jet_rotation/34/bkg_in_SB.h5 ./HVmodel/data/jet_rotation/25x25/34/bkg_in_SB.npy 25 &\n",
      "python pixelization.py ./HVmodel/data/jet_rotation/35/sig_in_SR.h5 ./HVmodel/data/jet_rotation/25x25/35/sig_in_SR.npy 25 &\n",
      "python pixelization.py ./HVmodel/data/jet_rotation/35/sig_in_SB.h5 ./HVmodel/data/jet_rotation/25x25/35/sig_in_SB.npy 25 &\n",
      "python pixelization.py ./HVmodel/data/jet_rotation/35/bkg_in_SR.h5 ./HVmodel/data/jet_rotation/25x25/35/bkg_in_SR.npy 25 &\n",
      "python pixelization.py ./HVmodel/data/jet_rotation/35/bkg_in_SB.h5 ./HVmodel/data/jet_rotation/25x25/35/bkg_in_SB.npy 25 &\n",
      "python pixelization.py ./HVmodel/data/jet_rotation/36/sig_in_SR.h5 ./HVmodel/data/jet_rotation/25x25/36/sig_in_SR.npy 25 &\n",
      "python pixelization.py ./HVmodel/data/jet_rotation/36/sig_in_SB.h5 ./HVmodel/data/jet_rotation/25x25/36/sig_in_SB.npy 25 &\n",
      "python pixelization.py ./HVmodel/data/jet_rotation/36/bkg_in_SR.h5 ./HVmodel/data/jet_rotation/25x25/36/bkg_in_SR.npy 25 &\n",
      "python pixelization.py ./HVmodel/data/jet_rotation/36/bkg_in_SB.h5 ./HVmodel/data/jet_rotation/25x25/36/bkg_in_SB.npy 25 &\n",
      "python pixelization.py ./HVmodel/data/jet_rotation/37/sig_in_SR.h5 ./HVmodel/data/jet_rotation/25x25/37/sig_in_SR.npy 25 &\n",
      "python pixelization.py ./HVmodel/data/jet_rotation/37/sig_in_SB.h5 ./HVmodel/data/jet_rotation/25x25/37/sig_in_SB.npy 25 &\n",
      "python pixelization.py ./HVmodel/data/jet_rotation/37/bkg_in_SR.h5 ./HVmodel/data/jet_rotation/25x25/37/bkg_in_SR.npy 25 &\n",
      "python pixelization.py ./HVmodel/data/jet_rotation/37/bkg_in_SB.h5 ./HVmodel/data/jet_rotation/25x25/37/bkg_in_SB.npy 25 &\n",
      "python pixelization.py ./HVmodel/data/jet_rotation/38/sig_in_SR.h5 ./HVmodel/data/jet_rotation/25x25/38/sig_in_SR.npy 25 &\n",
      "python pixelization.py ./HVmodel/data/jet_rotation/38/sig_in_SB.h5 ./HVmodel/data/jet_rotation/25x25/38/sig_in_SB.npy 25 &\n",
      "python pixelization.py ./HVmodel/data/jet_rotation/38/bkg_in_SR.h5 ./HVmodel/data/jet_rotation/25x25/38/bkg_in_SR.npy 25 &\n",
      "python pixelization.py ./HVmodel/data/jet_rotation/38/bkg_in_SB.h5 ./HVmodel/data/jet_rotation/25x25/38/bkg_in_SB.npy 25 &\n",
      "python pixelization.py ./HVmodel/data/jet_rotation/39/sig_in_SR.h5 ./HVmodel/data/jet_rotation/25x25/39/sig_in_SR.npy 25 &\n",
      "python pixelization.py ./HVmodel/data/jet_rotation/39/sig_in_SB.h5 ./HVmodel/data/jet_rotation/25x25/39/sig_in_SB.npy 25 &\n",
      "python pixelization.py ./HVmodel/data/jet_rotation/39/bkg_in_SR.h5 ./HVmodel/data/jet_rotation/25x25/39/bkg_in_SR.npy 25 &\n",
      "python pixelization.py ./HVmodel/data/jet_rotation/39/bkg_in_SB.h5 ./HVmodel/data/jet_rotation/25x25/39/bkg_in_SB.npy 25 &\n",
      "python pixelization.py ./HVmodel/data/jet_rotation/40/sig_in_SR.h5 ./HVmodel/data/jet_rotation/25x25/40/sig_in_SR.npy 25 &\n",
      "python pixelization.py ./HVmodel/data/jet_rotation/40/sig_in_SB.h5 ./HVmodel/data/jet_rotation/25x25/40/sig_in_SB.npy 25 &\n",
      "python pixelization.py ./HVmodel/data/jet_rotation/40/bkg_in_SR.h5 ./HVmodel/data/jet_rotation/25x25/40/bkg_in_SR.npy 25 &\n",
      "python pixelization.py ./HVmodel/data/jet_rotation/40/bkg_in_SB.h5 ./HVmodel/data/jet_rotation/25x25/40/bkg_in_SB.npy 25 &\n",
      "python pixelization.py ./HVmodel/data/jet_rotation/41/sig_in_SR.h5 ./HVmodel/data/jet_rotation/25x25/41/sig_in_SR.npy 25 &\n",
      "python pixelization.py ./HVmodel/data/jet_rotation/41/sig_in_SB.h5 ./HVmodel/data/jet_rotation/25x25/41/sig_in_SB.npy 25 &\n",
      "python pixelization.py ./HVmodel/data/jet_rotation/41/bkg_in_SR.h5 ./HVmodel/data/jet_rotation/25x25/41/bkg_in_SR.npy 25 &\n",
      "python pixelization.py ./HVmodel/data/jet_rotation/41/bkg_in_SB.h5 ./HVmodel/data/jet_rotation/25x25/41/bkg_in_SB.npy 25 &\n",
      "python pixelization.py ./HVmodel/data/jet_rotation/42/sig_in_SR.h5 ./HVmodel/data/jet_rotation/25x25/42/sig_in_SR.npy 25 &\n",
      "python pixelization.py ./HVmodel/data/jet_rotation/42/sig_in_SB.h5 ./HVmodel/data/jet_rotation/25x25/42/sig_in_SB.npy 25 &\n",
      "python pixelization.py ./HVmodel/data/jet_rotation/42/bkg_in_SR.h5 ./HVmodel/data/jet_rotation/25x25/42/bkg_in_SR.npy 25 &\n",
      "python pixelization.py ./HVmodel/data/jet_rotation/42/bkg_in_SB.h5 ./HVmodel/data/jet_rotation/25x25/42/bkg_in_SB.npy 25 &\n",
      "python pixelization.py ./HVmodel/data/jet_rotation/43/sig_in_SR.h5 ./HVmodel/data/jet_rotation/25x25/43/sig_in_SR.npy 25 &\n",
      "python pixelization.py ./HVmodel/data/jet_rotation/43/sig_in_SB.h5 ./HVmodel/data/jet_rotation/25x25/43/sig_in_SB.npy 25 &\n",
      "python pixelization.py ./HVmodel/data/jet_rotation/43/bkg_in_SR.h5 ./HVmodel/data/jet_rotation/25x25/43/bkg_in_SR.npy 25 &\n",
      "python pixelization.py ./HVmodel/data/jet_rotation/43/bkg_in_SB.h5 ./HVmodel/data/jet_rotation/25x25/43/bkg_in_SB.npy 25 &\n",
      "python pixelization.py ./HVmodel/data/jet_rotation/44/sig_in_SR.h5 ./HVmodel/data/jet_rotation/25x25/44/sig_in_SR.npy 25 &\n",
      "python pixelization.py ./HVmodel/data/jet_rotation/44/sig_in_SB.h5 ./HVmodel/data/jet_rotation/25x25/44/sig_in_SB.npy 25 &\n",
      "python pixelization.py ./HVmodel/data/jet_rotation/44/bkg_in_SR.h5 ./HVmodel/data/jet_rotation/25x25/44/bkg_in_SR.npy 25 &\n",
      "python pixelization.py ./HVmodel/data/jet_rotation/44/bkg_in_SB.h5 ./HVmodel/data/jet_rotation/25x25/44/bkg_in_SB.npy 25 &\n",
      "python pixelization.py ./HVmodel/data/jet_rotation/45/sig_in_SR.h5 ./HVmodel/data/jet_rotation/25x25/45/sig_in_SR.npy 25 &\n",
      "python pixelization.py ./HVmodel/data/jet_rotation/45/sig_in_SB.h5 ./HVmodel/data/jet_rotation/25x25/45/sig_in_SB.npy 25 &\n",
      "python pixelization.py ./HVmodel/data/jet_rotation/45/bkg_in_SR.h5 ./HVmodel/data/jet_rotation/25x25/45/bkg_in_SR.npy 25 &\n",
      "python pixelization.py ./HVmodel/data/jet_rotation/45/bkg_in_SB.h5 ./HVmodel/data/jet_rotation/25x25/45/bkg_in_SB.npy 25 &\n",
      "python pixelization.py ./HVmodel/data/jet_rotation/46/sig_in_SR.h5 ./HVmodel/data/jet_rotation/25x25/46/sig_in_SR.npy 25 &\n",
      "python pixelization.py ./HVmodel/data/jet_rotation/46/sig_in_SB.h5 ./HVmodel/data/jet_rotation/25x25/46/sig_in_SB.npy 25 &\n",
      "python pixelization.py ./HVmodel/data/jet_rotation/46/bkg_in_SR.h5 ./HVmodel/data/jet_rotation/25x25/46/bkg_in_SR.npy 25 &\n",
      "python pixelization.py ./HVmodel/data/jet_rotation/46/bkg_in_SB.h5 ./HVmodel/data/jet_rotation/25x25/46/bkg_in_SB.npy 25 &\n",
      "python pixelization.py ./HVmodel/data/jet_rotation/47/sig_in_SR.h5 ./HVmodel/data/jet_rotation/25x25/47/sig_in_SR.npy 25 &\n",
      "python pixelization.py ./HVmodel/data/jet_rotation/47/sig_in_SB.h5 ./HVmodel/data/jet_rotation/25x25/47/sig_in_SB.npy 25 &\n",
      "python pixelization.py ./HVmodel/data/jet_rotation/47/bkg_in_SR.h5 ./HVmodel/data/jet_rotation/25x25/47/bkg_in_SR.npy 25 &\n",
      "python pixelization.py ./HVmodel/data/jet_rotation/47/bkg_in_SB.h5 ./HVmodel/data/jet_rotation/25x25/47/bkg_in_SB.npy 25 &\n",
      "python pixelization.py ./HVmodel/data/jet_rotation/48/sig_in_SR.h5 ./HVmodel/data/jet_rotation/25x25/48/sig_in_SR.npy 25 &\n",
      "python pixelization.py ./HVmodel/data/jet_rotation/48/sig_in_SB.h5 ./HVmodel/data/jet_rotation/25x25/48/sig_in_SB.npy 25 &\n",
      "python pixelization.py ./HVmodel/data/jet_rotation/48/bkg_in_SR.h5 ./HVmodel/data/jet_rotation/25x25/48/bkg_in_SR.npy 25 &\n",
      "python pixelization.py ./HVmodel/data/jet_rotation/48/bkg_in_SB.h5 ./HVmodel/data/jet_rotation/25x25/48/bkg_in_SB.npy 25 &\n",
      "python pixelization.py ./HVmodel/data/jet_rotation/49/sig_in_SR.h5 ./HVmodel/data/jet_rotation/25x25/49/sig_in_SR.npy 25 &\n",
      "python pixelization.py ./HVmodel/data/jet_rotation/49/sig_in_SB.h5 ./HVmodel/data/jet_rotation/25x25/49/sig_in_SB.npy 25 &\n",
      "python pixelization.py ./HVmodel/data/jet_rotation/49/bkg_in_SR.h5 ./HVmodel/data/jet_rotation/25x25/49/bkg_in_SR.npy 25 &\n",
      "python pixelization.py ./HVmodel/data/jet_rotation/49/bkg_in_SB.h5 ./HVmodel/data/jet_rotation/25x25/49/bkg_in_SB.npy 25 &\n",
      "python pixelization.py ./HVmodel/data/jet_rotation/50/sig_in_SR.h5 ./HVmodel/data/jet_rotation/25x25/50/sig_in_SR.npy 25 &\n",
      "python pixelization.py ./HVmodel/data/jet_rotation/50/sig_in_SB.h5 ./HVmodel/data/jet_rotation/25x25/50/sig_in_SB.npy 25 &\n",
      "python pixelization.py ./HVmodel/data/jet_rotation/50/bkg_in_SR.h5 ./HVmodel/data/jet_rotation/25x25/50/bkg_in_SR.npy 25 &\n",
      "python pixelization.py ./HVmodel/data/jet_rotation/50/bkg_in_SB.h5 ./HVmodel/data/jet_rotation/25x25/50/bkg_in_SB.npy 25 &\n"
     ]
    }
   ],
   "source": [
    "res = 25\n",
    "for n in range(34, 51):\n",
    "\n",
    "    h5_dir = f'./HVmodel/data/jet_rotation/{n:02}'\n",
    "    out_dir = f'./HVmodel/data/jet_rotation/{res}x{res}/{n:02}'\n",
    "\n",
    "    # create output directory\n",
    "    if not os.path.exists(out_dir):\n",
    "        os.makedirs(out_dir)\n",
    "\n",
    "    for name in ['sig_in_SR', 'sig_in_SB', 'bkg_in_SR', 'bkg_in_SB']:\n",
    "        h5_path = os.path.join(h5_dir, f'{name}.h5')\n",
    "        npy_path = os.path.join(out_dir, f'{name}.npy')\n",
    "        cmd = f'python pixelization.py {h5_path} {npy_path} {res} &'\n",
    "        print(cmd)\n"
   ]
  },
  {
   "cell_type": "markdown",
   "metadata": {},
   "source": [
    "## $p_\\text{T}$ smearing + Jet rotation"
   ]
  },
  {
   "cell_type": "code",
   "execution_count": 3,
   "metadata": {},
   "outputs": [
    {
     "name": "stdout",
     "output_type": "stream",
     "text": [
      "python pixelization.py ./HVmodel/data/pt_smearing_jet_rotation/34/sig_in_SR.h5 ./HVmodel/data/pt_smearing_jet_rotation/25x25/34/sig_in_SR.npy 25 &\n",
      "python pixelization.py ./HVmodel/data/pt_smearing_jet_rotation/34/sig_in_SB.h5 ./HVmodel/data/pt_smearing_jet_rotation/25x25/34/sig_in_SB.npy 25 &\n",
      "python pixelization.py ./HVmodel/data/pt_smearing_jet_rotation/34/bkg_in_SR.h5 ./HVmodel/data/pt_smearing_jet_rotation/25x25/34/bkg_in_SR.npy 25 &\n",
      "python pixelization.py ./HVmodel/data/pt_smearing_jet_rotation/34/bkg_in_SB.h5 ./HVmodel/data/pt_smearing_jet_rotation/25x25/34/bkg_in_SB.npy 25 &\n",
      "python pixelization.py ./HVmodel/data/pt_smearing_jet_rotation/35/sig_in_SR.h5 ./HVmodel/data/pt_smearing_jet_rotation/25x25/35/sig_in_SR.npy 25 &\n",
      "python pixelization.py ./HVmodel/data/pt_smearing_jet_rotation/35/sig_in_SB.h5 ./HVmodel/data/pt_smearing_jet_rotation/25x25/35/sig_in_SB.npy 25 &\n",
      "python pixelization.py ./HVmodel/data/pt_smearing_jet_rotation/35/bkg_in_SR.h5 ./HVmodel/data/pt_smearing_jet_rotation/25x25/35/bkg_in_SR.npy 25 &\n",
      "python pixelization.py ./HVmodel/data/pt_smearing_jet_rotation/35/bkg_in_SB.h5 ./HVmodel/data/pt_smearing_jet_rotation/25x25/35/bkg_in_SB.npy 25 &\n",
      "python pixelization.py ./HVmodel/data/pt_smearing_jet_rotation/36/sig_in_SR.h5 ./HVmodel/data/pt_smearing_jet_rotation/25x25/36/sig_in_SR.npy 25 &\n",
      "python pixelization.py ./HVmodel/data/pt_smearing_jet_rotation/36/sig_in_SB.h5 ./HVmodel/data/pt_smearing_jet_rotation/25x25/36/sig_in_SB.npy 25 &\n",
      "python pixelization.py ./HVmodel/data/pt_smearing_jet_rotation/36/bkg_in_SR.h5 ./HVmodel/data/pt_smearing_jet_rotation/25x25/36/bkg_in_SR.npy 25 &\n",
      "python pixelization.py ./HVmodel/data/pt_smearing_jet_rotation/36/bkg_in_SB.h5 ./HVmodel/data/pt_smearing_jet_rotation/25x25/36/bkg_in_SB.npy 25 &\n",
      "python pixelization.py ./HVmodel/data/pt_smearing_jet_rotation/37/sig_in_SR.h5 ./HVmodel/data/pt_smearing_jet_rotation/25x25/37/sig_in_SR.npy 25 &\n",
      "python pixelization.py ./HVmodel/data/pt_smearing_jet_rotation/37/sig_in_SB.h5 ./HVmodel/data/pt_smearing_jet_rotation/25x25/37/sig_in_SB.npy 25 &\n",
      "python pixelization.py ./HVmodel/data/pt_smearing_jet_rotation/37/bkg_in_SR.h5 ./HVmodel/data/pt_smearing_jet_rotation/25x25/37/bkg_in_SR.npy 25 &\n",
      "python pixelization.py ./HVmodel/data/pt_smearing_jet_rotation/37/bkg_in_SB.h5 ./HVmodel/data/pt_smearing_jet_rotation/25x25/37/bkg_in_SB.npy 25 &\n",
      "python pixelization.py ./HVmodel/data/pt_smearing_jet_rotation/38/sig_in_SR.h5 ./HVmodel/data/pt_smearing_jet_rotation/25x25/38/sig_in_SR.npy 25 &\n",
      "python pixelization.py ./HVmodel/data/pt_smearing_jet_rotation/38/sig_in_SB.h5 ./HVmodel/data/pt_smearing_jet_rotation/25x25/38/sig_in_SB.npy 25 &\n",
      "python pixelization.py ./HVmodel/data/pt_smearing_jet_rotation/38/bkg_in_SR.h5 ./HVmodel/data/pt_smearing_jet_rotation/25x25/38/bkg_in_SR.npy 25 &\n",
      "python pixelization.py ./HVmodel/data/pt_smearing_jet_rotation/38/bkg_in_SB.h5 ./HVmodel/data/pt_smearing_jet_rotation/25x25/38/bkg_in_SB.npy 25 &\n",
      "python pixelization.py ./HVmodel/data/pt_smearing_jet_rotation/39/sig_in_SR.h5 ./HVmodel/data/pt_smearing_jet_rotation/25x25/39/sig_in_SR.npy 25 &\n",
      "python pixelization.py ./HVmodel/data/pt_smearing_jet_rotation/39/sig_in_SB.h5 ./HVmodel/data/pt_smearing_jet_rotation/25x25/39/sig_in_SB.npy 25 &\n",
      "python pixelization.py ./HVmodel/data/pt_smearing_jet_rotation/39/bkg_in_SR.h5 ./HVmodel/data/pt_smearing_jet_rotation/25x25/39/bkg_in_SR.npy 25 &\n",
      "python pixelization.py ./HVmodel/data/pt_smearing_jet_rotation/39/bkg_in_SB.h5 ./HVmodel/data/pt_smearing_jet_rotation/25x25/39/bkg_in_SB.npy 25 &\n",
      "python pixelization.py ./HVmodel/data/pt_smearing_jet_rotation/40/sig_in_SR.h5 ./HVmodel/data/pt_smearing_jet_rotation/25x25/40/sig_in_SR.npy 25 &\n",
      "python pixelization.py ./HVmodel/data/pt_smearing_jet_rotation/40/sig_in_SB.h5 ./HVmodel/data/pt_smearing_jet_rotation/25x25/40/sig_in_SB.npy 25 &\n",
      "python pixelization.py ./HVmodel/data/pt_smearing_jet_rotation/40/bkg_in_SR.h5 ./HVmodel/data/pt_smearing_jet_rotation/25x25/40/bkg_in_SR.npy 25 &\n",
      "python pixelization.py ./HVmodel/data/pt_smearing_jet_rotation/40/bkg_in_SB.h5 ./HVmodel/data/pt_smearing_jet_rotation/25x25/40/bkg_in_SB.npy 25 &\n",
      "python pixelization.py ./HVmodel/data/pt_smearing_jet_rotation/41/sig_in_SR.h5 ./HVmodel/data/pt_smearing_jet_rotation/25x25/41/sig_in_SR.npy 25 &\n",
      "python pixelization.py ./HVmodel/data/pt_smearing_jet_rotation/41/sig_in_SB.h5 ./HVmodel/data/pt_smearing_jet_rotation/25x25/41/sig_in_SB.npy 25 &\n",
      "python pixelization.py ./HVmodel/data/pt_smearing_jet_rotation/41/bkg_in_SR.h5 ./HVmodel/data/pt_smearing_jet_rotation/25x25/41/bkg_in_SR.npy 25 &\n",
      "python pixelization.py ./HVmodel/data/pt_smearing_jet_rotation/41/bkg_in_SB.h5 ./HVmodel/data/pt_smearing_jet_rotation/25x25/41/bkg_in_SB.npy 25 &\n",
      "python pixelization.py ./HVmodel/data/pt_smearing_jet_rotation/42/sig_in_SR.h5 ./HVmodel/data/pt_smearing_jet_rotation/25x25/42/sig_in_SR.npy 25 &\n",
      "python pixelization.py ./HVmodel/data/pt_smearing_jet_rotation/42/sig_in_SB.h5 ./HVmodel/data/pt_smearing_jet_rotation/25x25/42/sig_in_SB.npy 25 &\n",
      "python pixelization.py ./HVmodel/data/pt_smearing_jet_rotation/42/bkg_in_SR.h5 ./HVmodel/data/pt_smearing_jet_rotation/25x25/42/bkg_in_SR.npy 25 &\n",
      "python pixelization.py ./HVmodel/data/pt_smearing_jet_rotation/42/bkg_in_SB.h5 ./HVmodel/data/pt_smearing_jet_rotation/25x25/42/bkg_in_SB.npy 25 &\n",
      "python pixelization.py ./HVmodel/data/pt_smearing_jet_rotation/43/sig_in_SR.h5 ./HVmodel/data/pt_smearing_jet_rotation/25x25/43/sig_in_SR.npy 25 &\n",
      "python pixelization.py ./HVmodel/data/pt_smearing_jet_rotation/43/sig_in_SB.h5 ./HVmodel/data/pt_smearing_jet_rotation/25x25/43/sig_in_SB.npy 25 &\n",
      "python pixelization.py ./HVmodel/data/pt_smearing_jet_rotation/43/bkg_in_SR.h5 ./HVmodel/data/pt_smearing_jet_rotation/25x25/43/bkg_in_SR.npy 25 &\n",
      "python pixelization.py ./HVmodel/data/pt_smearing_jet_rotation/43/bkg_in_SB.h5 ./HVmodel/data/pt_smearing_jet_rotation/25x25/43/bkg_in_SB.npy 25 &\n",
      "python pixelization.py ./HVmodel/data/pt_smearing_jet_rotation/44/sig_in_SR.h5 ./HVmodel/data/pt_smearing_jet_rotation/25x25/44/sig_in_SR.npy 25 &\n",
      "python pixelization.py ./HVmodel/data/pt_smearing_jet_rotation/44/sig_in_SB.h5 ./HVmodel/data/pt_smearing_jet_rotation/25x25/44/sig_in_SB.npy 25 &\n",
      "python pixelization.py ./HVmodel/data/pt_smearing_jet_rotation/44/bkg_in_SR.h5 ./HVmodel/data/pt_smearing_jet_rotation/25x25/44/bkg_in_SR.npy 25 &\n",
      "python pixelization.py ./HVmodel/data/pt_smearing_jet_rotation/44/bkg_in_SB.h5 ./HVmodel/data/pt_smearing_jet_rotation/25x25/44/bkg_in_SB.npy 25 &\n",
      "python pixelization.py ./HVmodel/data/pt_smearing_jet_rotation/45/sig_in_SR.h5 ./HVmodel/data/pt_smearing_jet_rotation/25x25/45/sig_in_SR.npy 25 &\n",
      "python pixelization.py ./HVmodel/data/pt_smearing_jet_rotation/45/sig_in_SB.h5 ./HVmodel/data/pt_smearing_jet_rotation/25x25/45/sig_in_SB.npy 25 &\n",
      "python pixelization.py ./HVmodel/data/pt_smearing_jet_rotation/45/bkg_in_SR.h5 ./HVmodel/data/pt_smearing_jet_rotation/25x25/45/bkg_in_SR.npy 25 &\n",
      "python pixelization.py ./HVmodel/data/pt_smearing_jet_rotation/45/bkg_in_SB.h5 ./HVmodel/data/pt_smearing_jet_rotation/25x25/45/bkg_in_SB.npy 25 &\n",
      "python pixelization.py ./HVmodel/data/pt_smearing_jet_rotation/46/sig_in_SR.h5 ./HVmodel/data/pt_smearing_jet_rotation/25x25/46/sig_in_SR.npy 25 &\n",
      "python pixelization.py ./HVmodel/data/pt_smearing_jet_rotation/46/sig_in_SB.h5 ./HVmodel/data/pt_smearing_jet_rotation/25x25/46/sig_in_SB.npy 25 &\n",
      "python pixelization.py ./HVmodel/data/pt_smearing_jet_rotation/46/bkg_in_SR.h5 ./HVmodel/data/pt_smearing_jet_rotation/25x25/46/bkg_in_SR.npy 25 &\n",
      "python pixelization.py ./HVmodel/data/pt_smearing_jet_rotation/46/bkg_in_SB.h5 ./HVmodel/data/pt_smearing_jet_rotation/25x25/46/bkg_in_SB.npy 25 &\n",
      "python pixelization.py ./HVmodel/data/pt_smearing_jet_rotation/47/sig_in_SR.h5 ./HVmodel/data/pt_smearing_jet_rotation/25x25/47/sig_in_SR.npy 25 &\n",
      "python pixelization.py ./HVmodel/data/pt_smearing_jet_rotation/47/sig_in_SB.h5 ./HVmodel/data/pt_smearing_jet_rotation/25x25/47/sig_in_SB.npy 25 &\n",
      "python pixelization.py ./HVmodel/data/pt_smearing_jet_rotation/47/bkg_in_SR.h5 ./HVmodel/data/pt_smearing_jet_rotation/25x25/47/bkg_in_SR.npy 25 &\n",
      "python pixelization.py ./HVmodel/data/pt_smearing_jet_rotation/47/bkg_in_SB.h5 ./HVmodel/data/pt_smearing_jet_rotation/25x25/47/bkg_in_SB.npy 25 &\n",
      "python pixelization.py ./HVmodel/data/pt_smearing_jet_rotation/48/sig_in_SR.h5 ./HVmodel/data/pt_smearing_jet_rotation/25x25/48/sig_in_SR.npy 25 &\n",
      "python pixelization.py ./HVmodel/data/pt_smearing_jet_rotation/48/sig_in_SB.h5 ./HVmodel/data/pt_smearing_jet_rotation/25x25/48/sig_in_SB.npy 25 &\n",
      "python pixelization.py ./HVmodel/data/pt_smearing_jet_rotation/48/bkg_in_SR.h5 ./HVmodel/data/pt_smearing_jet_rotation/25x25/48/bkg_in_SR.npy 25 &\n",
      "python pixelization.py ./HVmodel/data/pt_smearing_jet_rotation/48/bkg_in_SB.h5 ./HVmodel/data/pt_smearing_jet_rotation/25x25/48/bkg_in_SB.npy 25 &\n",
      "python pixelization.py ./HVmodel/data/pt_smearing_jet_rotation/49/sig_in_SR.h5 ./HVmodel/data/pt_smearing_jet_rotation/25x25/49/sig_in_SR.npy 25 &\n",
      "python pixelization.py ./HVmodel/data/pt_smearing_jet_rotation/49/sig_in_SB.h5 ./HVmodel/data/pt_smearing_jet_rotation/25x25/49/sig_in_SB.npy 25 &\n",
      "python pixelization.py ./HVmodel/data/pt_smearing_jet_rotation/49/bkg_in_SR.h5 ./HVmodel/data/pt_smearing_jet_rotation/25x25/49/bkg_in_SR.npy 25 &\n",
      "python pixelization.py ./HVmodel/data/pt_smearing_jet_rotation/49/bkg_in_SB.h5 ./HVmodel/data/pt_smearing_jet_rotation/25x25/49/bkg_in_SB.npy 25 &\n",
      "python pixelization.py ./HVmodel/data/pt_smearing_jet_rotation/50/sig_in_SR.h5 ./HVmodel/data/pt_smearing_jet_rotation/25x25/50/sig_in_SR.npy 25 &\n",
      "python pixelization.py ./HVmodel/data/pt_smearing_jet_rotation/50/sig_in_SB.h5 ./HVmodel/data/pt_smearing_jet_rotation/25x25/50/sig_in_SB.npy 25 &\n",
      "python pixelization.py ./HVmodel/data/pt_smearing_jet_rotation/50/bkg_in_SR.h5 ./HVmodel/data/pt_smearing_jet_rotation/25x25/50/bkg_in_SR.npy 25 &\n",
      "python pixelization.py ./HVmodel/data/pt_smearing_jet_rotation/50/bkg_in_SB.h5 ./HVmodel/data/pt_smearing_jet_rotation/25x25/50/bkg_in_SB.npy 25 &\n"
     ]
    }
   ],
   "source": [
    "res = 25\n",
    "for n in range(34, 51):\n",
    "\n",
    "    h5_dir = f'./HVmodel/data/pt_smearing_jet_rotation/{n:02}'\n",
    "    out_dir = f'./HVmodel/data/pt_smearing_jet_rotation/{res}x{res}/{n:02}'\n",
    "\n",
    "    # create output directory\n",
    "    if not os.path.exists(out_dir):\n",
    "        os.makedirs(out_dir)\n",
    "\n",
    "    for name in ['sig_in_SR', 'sig_in_SB', 'bkg_in_SR', 'bkg_in_SB']:\n",
    "        h5_path = os.path.join(h5_dir, f'{name}.h5')\n",
    "        npy_path = os.path.join(out_dir, f'{name}.npy')\n",
    "        cmd = f'python pixelization.py {h5_path} {npy_path} {res} &'\n",
    "        print(cmd)\n"
   ]
  },
  {
   "cell_type": "markdown",
   "metadata": {},
   "source": [
    "## $m_{jj}$ normalization"
   ]
  },
  {
   "cell_type": "code",
   "execution_count": 7,
   "metadata": {},
   "outputs": [
    {
     "name": "stdout",
     "output_type": "stream",
     "text": [
      "python pixelization.py ./HVmodel/data/pt_normalization/sig_in_SR.h5 ./HVmodel/data/pt_normalization/25x25/sig_in_SR.npy 25 &\n",
      "python pixelization.py ./HVmodel/data/pt_normalization/sig_in_SB.h5 ./HVmodel/data/pt_normalization/25x25/sig_in_SB.npy 25 &\n",
      "python pixelization.py ./HVmodel/data/pt_normalization/bkg_in_SR.h5 ./HVmodel/data/pt_normalization/25x25/bkg_in_SR.npy 25 &\n",
      "python pixelization.py ./HVmodel/data/pt_normalization/bkg_in_SB.h5 ./HVmodel/data/pt_normalization/25x25/bkg_in_SB.npy 25 &\n",
      "python pixelization.py ./HVmodel/data/pt_normalization/val/sig_in_SR.h5 ./HVmodel/data/pt_normalization/25x25/val/sig_in_SR.npy 25 &\n",
      "python pixelization.py ./HVmodel/data/pt_normalization/val/sig_in_SB.h5 ./HVmodel/data/pt_normalization/25x25/val/sig_in_SB.npy 25 &\n",
      "python pixelization.py ./HVmodel/data/pt_normalization/val/bkg_in_SR.h5 ./HVmodel/data/pt_normalization/25x25/val/bkg_in_SR.npy 25 &\n",
      "python pixelization.py ./HVmodel/data/pt_normalization/val/bkg_in_SB.h5 ./HVmodel/data/pt_normalization/25x25/val/bkg_in_SB.npy 25 &\n",
      "python pixelization.py ./HVmodel/data/pt_normalization/testing/mix_sample_test-4.h5 ./HVmodel/data/pt_normalization/25x25/mix_sample_test-4.npy 25 &\n"
     ]
    }
   ],
   "source": [
    "res = 25\n",
    "h5_dir = './HVmodel/data/mjj_normalization'\n",
    "out_dir = f'./HVmodel/data/mjj_normalization/{res}x{res}'\n",
    "\n",
    "for name in ['sig_in_SR', 'sig_in_SB', 'bkg_in_SR', 'bkg_in_SB']:\n",
    "    h5_path = os.path.join(h5_dir, f'{name}.h5')\n",
    "    npy_path = os.path.join(out_dir, f'{name}.npy')\n",
    "\n",
    "    # create output directory\n",
    "    if not os.path.exists(out_dir):\n",
    "        os.makedirs(out_dir)\n",
    "\n",
    "    cmd = f'python pixelization.py {h5_path} {npy_path} {res} &'\n",
    "    print(cmd)\n",
    "\n",
    "h5_dir = './HVmodel/data/mjj_normalization/val'\n",
    "out_dir = f'./HVmodel/data/mjj_normalization/{res}x{res}/val'\n",
    "\n",
    "for name in ['sig_in_SR', 'sig_in_SB', 'bkg_in_SR', 'bkg_in_SB']:\n",
    "    h5_path = os.path.join(h5_dir, f'{name}.h5')\n",
    "    npy_path = os.path.join(out_dir, f'{name}.npy')\n",
    "    \n",
    "    # create output directory\n",
    "    if not os.path.exists(out_dir):\n",
    "        os.makedirs(out_dir)\n",
    "\n",
    "    cmd = f'python pixelization.py {h5_path} {npy_path} {res} &'\n",
    "    print(cmd)\n",
    "\n",
    "h5_dir = './HVmodel/data/mjj_normalization/testing'\n",
    "npy_dir = f'./HVmodel/data/mjj_normalization/{res}x{res}'\n",
    "\n",
    "name = 'mix_sample_test-4'\n",
    "h5_path = os.path.join(h5_dir, f'{name}.h5')\n",
    "npy_path = os.path.join(npy_dir, f'{name}.npy')\n",
    "cmd = f'python pixelization.py {h5_path} {npy_path} {res} &'\n",
    "print(cmd)"
   ]
  },
  {
   "cell_type": "markdown",
   "metadata": {},
   "source": [
    "## Testing sample"
   ]
  },
  {
   "cell_type": "code",
   "execution_count": 4,
   "metadata": {},
   "outputs": [
    {
     "name": "stdout",
     "output_type": "stream",
     "text": [
      "python pixelization.py ./HVmodel/data/split_val/testing/mix_sample_test-mjj.h5 ./HVmodel/data/split_val/25x25/mix_sample_test-mjj.npy 25 &\n"
     ]
    }
   ],
   "source": [
    "res = 25\n",
    "h5_dir = './HVmodel/data/split_val/testing'\n",
    "npy_dir = f'./HVmodel/data/split_val/{res}x{res}'\n",
    "\n",
    "name = 'mix_sample_test-mjj'\n",
    "h5_path = os.path.join(h5_dir, f'{name}.h5')\n",
    "npy_path = os.path.join(npy_dir, f'{name}.npy')\n",
    "cmd = f'python pixelization.py {h5_path} {npy_path} {res} &'\n",
    "print(cmd)"
   ]
  },
  {
   "cell_type": "code",
   "execution_count": 10,
   "metadata": {},
   "outputs": [
    {
     "name": "stdout",
     "output_type": "stream",
     "text": [
      "python pixelization.py ./HVmodel/data/split_val/testing/mix_sample_test-2.h5 ./HVmodel/data/split_val/25x25/mix_sample_test-2.npy 25 &\n"
     ]
    }
   ],
   "source": [
    "res = 25\n",
    "h5_dir = './HVmodel/data/split_val/testing'\n",
    "npy_dir = f'./HVmodel/data/split_val/{res}x{res}'\n",
    "\n",
    "name = 'mix_sample_test-2'\n",
    "h5_path = os.path.join(h5_dir, f'{name}.h5')\n",
    "npy_path = os.path.join(npy_dir, f'{name}.npy')\n",
    "cmd = f'python pixelization.py {h5_path} {npy_path} {res} &'\n",
    "print(cmd)"
   ]
  },
  {
   "cell_type": "code",
   "execution_count": 5,
   "metadata": {},
   "outputs": [
    {
     "name": "stdout",
     "output_type": "stream",
     "text": [
      "python pixelization.py ./HVmodel/data/split_val/testing/mix_sample_test-3.h5 ./HVmodel/data/split_val/25x25/mix_sample_test-3.npy 25 &\n"
     ]
    }
   ],
   "source": [
    "res = 25\n",
    "h5_dir = './HVmodel/data/split_val/testing'\n",
    "npy_dir = f'./HVmodel/data/split_val/{res}x{res}'\n",
    "\n",
    "name = 'mix_sample_test-3'\n",
    "h5_path = os.path.join(h5_dir, f'{name}.h5')\n",
    "npy_path = os.path.join(npy_dir, f'{name}.npy')\n",
    "cmd = f'python pixelization.py {h5_path} {npy_path} {res} &'\n",
    "print(cmd)"
   ]
  },
  {
   "cell_type": "code",
   "execution_count": 6,
   "metadata": {},
   "outputs": [
    {
     "name": "stdout",
     "output_type": "stream",
     "text": [
      "python pixelization.py ./HVmodel/data/split_val/testing/mix_sample_test-4.h5 ./HVmodel/data/split_val/25x25/mix_sample_test-4.npy 25 &\n"
     ]
    }
   ],
   "source": [
    "res = 25\n",
    "h5_dir = './HVmodel/data/split_val/testing'\n",
    "npy_dir = f'./HVmodel/data/split_val/{res}x{res}'\n",
    "\n",
    "name = 'mix_sample_test-4'\n",
    "h5_path = os.path.join(h5_dir, f'{name}.h5')\n",
    "npy_path = os.path.join(npy_dir, f'{name}.npy')\n",
    "cmd = f'python pixelization.py {h5_path} {npy_path} {res} &'\n",
    "print(cmd)"
   ]
  },
  {
   "cell_type": "code",
   "execution_count": 3,
   "metadata": {},
   "outputs": [
    {
     "name": "stdout",
     "output_type": "stream",
     "text": [
      "python pixelization.py ./HVmodel/data/split_val/testing/mix_sample_test.h5 ./HVmodel/data/split_val/75x75/mix_sample_test.npy 75 &\n"
     ]
    }
   ],
   "source": [
    "res = 75\n",
    "h5_dir = './HVmodel/data/split_val/testing'\n",
    "npy_dir = f'./HVmodel/data/split_val/{res}x{res}'\n",
    "\n",
    "name = 'mix_sample_test'\n",
    "h5_path = os.path.join(h5_dir, f'{name}.h5')\n",
    "npy_path = os.path.join(npy_dir, f'{name}.npy')\n",
    "cmd = f'python pixelization.py {h5_path} {npy_path} {res} &'\n",
    "print(cmd)\n"
   ]
  },
  {
   "cell_type": "code",
   "execution_count": 3,
   "metadata": {},
   "outputs": [
    {
     "name": "stdout",
     "output_type": "stream",
     "text": [
      "python pixelization.py ./HVmodel/data/split_val/testing/mix_sample_test-SB.h5 ./HVmodel/data/split_val/75x75/mix_sample_test-SB.npy 75 &\n"
     ]
    }
   ],
   "source": [
    "res = 75\n",
    "h5_dir = './HVmodel/data/split_val/testing'\n",
    "npy_dir = f'./HVmodel/data/split_val/{res}x{res}'\n",
    "\n",
    "name = 'mix_sample_test-SB'\n",
    "h5_path = os.path.join(h5_dir, f'{name}.h5')\n",
    "npy_path = os.path.join(npy_dir, f'{name}.npy')\n",
    "cmd = f'python pixelization.py {h5_path} {npy_path} {res} &'\n",
    "print(cmd)\n"
   ]
  }
 ],
 "metadata": {
  "kernelspec": {
   "display_name": "jupyter",
   "language": "python",
   "name": "python3"
  },
  "language_info": {
   "codemirror_mode": {
    "name": "ipython",
    "version": 3
   },
   "file_extension": ".py",
   "mimetype": "text/x-python",
   "name": "python",
   "nbconvert_exporter": "python",
   "pygments_lexer": "ipython3",
   "version": "3.8.16"
  }
 },
 "nbformat": 4,
 "nbformat_minor": 2
}
