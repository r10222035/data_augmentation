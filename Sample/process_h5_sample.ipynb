{
 "cells": [
  {
   "cell_type": "code",
   "execution_count": 1,
   "metadata": {},
   "outputs": [],
   "source": [
    "import os\n",
    "import h5py\n",
    "import shutil\n",
    "import numpy as np\n",
    "\n",
    "from tqdm import tqdm\n",
    "\n",
    "from utils import rotation, preprocess"
   ]
  },
  {
   "cell_type": "markdown",
   "metadata": {},
   "source": [
    "# Split SR and SB samples "
   ]
  },
  {
   "cell_type": "code",
   "execution_count": 2,
   "metadata": {},
   "outputs": [],
   "source": [
    "def get_dataset_keys(f):\n",
    "    keys = []\n",
    "    f.visit(lambda key : keys.append(key) if isinstance(f[key], h5py.Dataset) else None)\n",
    "    return keys\n",
    "\n",
    "def create_dataset(f, nevent, MAX_JETS):\n",
    "\n",
    "    f.create_dataset('J1/MASK', (nevent, MAX_JETS), maxshape=(None, MAX_JETS), dtype='|b1')\n",
    "    f.create_dataset('J1/pt', (nevent, MAX_JETS), maxshape=(None, MAX_JETS), dtype='<f4')\n",
    "    f.create_dataset('J1/eta', (nevent, MAX_JETS), maxshape=(None, MAX_JETS), dtype='<f4')\n",
    "    f.create_dataset('J1/phi', (nevent, MAX_JETS), maxshape=(None, MAX_JETS), dtype='<f4')\n",
    "\n",
    "    f.create_dataset('J2/MASK', (nevent, MAX_JETS), maxshape=(None, MAX_JETS), dtype='|b1')\n",
    "    f.create_dataset('J2/pt', (nevent, MAX_JETS), maxshape=(None, MAX_JETS), dtype='<f4')\n",
    "    f.create_dataset('J2/eta', (nevent, MAX_JETS), maxshape=(None, MAX_JETS), dtype='<f4')\n",
    "    f.create_dataset('J2/phi', (nevent, MAX_JETS), maxshape=(None, MAX_JETS), dtype='<f4')\n",
    "\n",
    "    f.create_dataset('EVENT/Mjj', (nevent,), maxshape=(None,), dtype='<f4')\n",
    "    f.create_dataset('EVENT/signal', (nevent,), maxshape=(None,), dtype='<i8')"
   ]
  },
  {
   "cell_type": "code",
   "execution_count": 3,
   "metadata": {},
   "outputs": [],
   "source": [
    "def split_SR_SB(h5_path, output_path, SRSB_region=[4400, 4700, 5500, 5800]):\n",
    "\n",
    "    # read data\n",
    "    with h5py.File(h5_path, 'r') as f:\n",
    "        mjj = f['EVENT/Mjj'][:]\n",
    "\n",
    "        SR_range = (mjj > SRSB_region[1]) & (mjj < SRSB_region[2])\n",
    "        SB_range = ((mjj > SRSB_region[0]) & (mjj < SRSB_region[1])) | ((mjj > SRSB_region[2]) & (mjj < SRSB_region[3]))\n",
    "        \n",
    "        root, _ = os.path.splitext(output_path)\n",
    "        SR_path = f'{root}_in_SR.h5'\n",
    "        SB_path = f'{root}_in_SB.h5'\n",
    "\n",
    "        with h5py.File(SR_path, 'w') as f_SR, h5py.File(SB_path, 'w') as f_SB:\n",
    "\n",
    "            MAX_JETS = 300 \n",
    "            create_dataset(f_SR, SR_range.sum(), MAX_JETS)\n",
    "            create_dataset(f_SB, SB_range.sum(), MAX_JETS)\n",
    "\n",
    "            keys = get_dataset_keys(f_SR)\n",
    "            for key in keys:\n",
    "                f_SR[key][:] = f[key][:][SR_range]\n",
    "                f_SB[key][:] = f[key][:][SB_range]"
   ]
  },
  {
   "cell_type": "code",
   "execution_count": 4,
   "metadata": {},
   "outputs": [],
   "source": [
    "h5_path = 'HVmodel/data/split_val/signal.h5'\n",
    "output_path = 'HVmodel/data/split_val/sig.h5'\n",
    "split_SR_SB(h5_path, output_path)\n",
    "\n",
    "h5_path = 'HVmodel/data/split_val/background.h5'\n",
    "output_path = 'HVmodel/data/split_val/bkg.h5'\n",
    "split_SR_SB(h5_path, output_path)"
   ]
  },
  {
   "cell_type": "markdown",
   "metadata": {},
   "source": [
    "# Origin dataset"
   ]
  },
  {
   "cell_type": "code",
   "execution_count": 5,
   "metadata": {},
   "outputs": [],
   "source": [
    "def to_origin_h5(h5_path, out_h5):\n",
    "\n",
    "    shutil.copyfile(h5_path, out_h5)\n",
    "\n",
    "    with h5py.File(out_h5, 'a') as f_out:\n",
    "        print(out_h5)\n",
    "        _, eta1, phi1 = preprocess(f_out['J1/pt'][:], f_out['J1/eta'][:], f_out['J1/phi'][:])\n",
    "        _, eta2, phi2 = preprocess(f_out['J2/pt'][:], f_out['J2/eta'][:], f_out['J2/phi'][:])\n",
    "\n",
    "        f_out['J1/eta'][:] = eta1\n",
    "        f_out['J1/phi'][:] = phi1\n",
    "        f_out['J2/eta'][:] = eta2\n",
    "        f_out['J2/phi'][:] = phi2\n"
   ]
  },
  {
   "cell_type": "code",
   "execution_count": 6,
   "metadata": {},
   "outputs": [
    {
     "name": "stdout",
     "output_type": "stream",
     "text": [
      "HVmodel/data/origin/sig_in_SR.h5\n",
      "HVmodel/data/origin/sig_in_SB.h5\n",
      "HVmodel/data/origin/bkg_in_SR.h5\n",
      "HVmodel/data/origin/bkg_in_SB.h5\n"
     ]
    }
   ],
   "source": [
    "h5_path = 'HVmodel/data/split_val/sig_in_SR.h5'\n",
    "out_h5 = 'HVmodel/data/origin/sig_in_SR.h5'\n",
    "to_origin_h5(h5_path, out_h5)\n",
    "\n",
    "h5_path = 'HVmodel/data/split_val/sig_in_SB.h5'\n",
    "out_h5 = 'HVmodel/data/origin/sig_in_SB.h5'\n",
    "to_origin_h5(h5_path, out_h5)\n",
    "\n",
    "h5_path = 'HVmodel/data/split_val/bkg_in_SR.h5'\n",
    "out_h5 = 'HVmodel/data/origin/bkg_in_SR.h5'\n",
    "to_origin_h5(h5_path, out_h5)\n",
    "\n",
    "h5_path = 'HVmodel/data/split_val/bkg_in_SB.h5'\n",
    "out_h5 = 'HVmodel/data/origin/bkg_in_SB.h5'\n",
    "to_origin_h5(h5_path, out_h5)"
   ]
  },
  {
   "cell_type": "markdown",
   "metadata": {},
   "source": [
    "# Jet rotation"
   ]
  },
  {
   "cell_type": "code",
   "execution_count": 7,
   "metadata": {},
   "outputs": [],
   "source": [
    "def jet_rotation(h5_path, out_h5, rot_range=np.pi):\n",
    "    # after pre-process, rotate the jet image with random angle\n",
    "    # save results in h5 file\n",
    "    # rot_range: rotation range\n",
    "\n",
    "    shutil.copyfile(h5_path, out_h5)\n",
    "\n",
    "    # preprocess the eta and phi\n",
    "    with h5py.File(out_h5, 'a') as f_out:\n",
    "        print(out_h5)\n",
    "        _, eta1, phi1 = preprocess(f_out['J1/pt'][:], f_out['J1/eta'][:], f_out['J1/phi'][:])\n",
    "        _, eta2, phi2 = preprocess(f_out['J2/pt'][:], f_out['J2/eta'][:], f_out['J2/phi'][:])\n",
    "\n",
    "        f_out['J1/eta'][:] = eta1\n",
    "        f_out['J1/phi'][:] = phi1\n",
    "        f_out['J2/eta'][:] = eta2\n",
    "        f_out['J2/phi'][:] = phi2\n",
    "\n",
    "    with h5py.File(out_h5, 'a') as f_out:\n",
    "        nevent = f_out['EVENT/signal'].shape[0]\n",
    "\n",
    "        # rotate eta and phi with random angle\n",
    "        angle = np.random.uniform(-rot_range, rot_range, size=nevent)[:, None]\n",
    "        eta1_rotat, phi1_rotat = rotation(eta1, phi1, angle)\n",
    "        angle = np.random.uniform(-rot_range, rot_range, size=nevent)[:, None]\n",
    "        eta2_rotat, phi2_rotat = rotation(eta2, phi2, angle)\n",
    "\n",
    "        f_out['J1/eta'][:] = eta1_rotat\n",
    "        f_out['J1/phi'][:] = phi1_rotat\n",
    "        f_out['J2/eta'][:] = eta2_rotat\n",
    "        f_out['J2/phi'][:] = phi2_rotat        "
   ]
  },
  {
   "cell_type": "code",
   "execution_count": 8,
   "metadata": {},
   "outputs": [
    {
     "name": "stdout",
     "output_type": "stream",
     "text": [
      "./HVmodel/data/jet_rotation/01/sig_in_SR.h5\n",
      "./HVmodel/data/jet_rotation/01/sig_in_SB.h5\n",
      "./HVmodel/data/jet_rotation/01/bkg_in_SR.h5\n",
      "./HVmodel/data/jet_rotation/01/bkg_in_SB.h5\n",
      "./HVmodel/data/jet_rotation/02/sig_in_SR.h5\n",
      "./HVmodel/data/jet_rotation/02/sig_in_SB.h5\n",
      "./HVmodel/data/jet_rotation/02/bkg_in_SR.h5\n",
      "./HVmodel/data/jet_rotation/02/bkg_in_SB.h5\n",
      "./HVmodel/data/jet_rotation/03/sig_in_SR.h5\n",
      "./HVmodel/data/jet_rotation/03/sig_in_SB.h5\n",
      "./HVmodel/data/jet_rotation/03/bkg_in_SR.h5\n",
      "./HVmodel/data/jet_rotation/03/bkg_in_SB.h5\n",
      "./HVmodel/data/jet_rotation/04/sig_in_SR.h5\n",
      "./HVmodel/data/jet_rotation/04/sig_in_SB.h5\n",
      "./HVmodel/data/jet_rotation/04/bkg_in_SR.h5\n",
      "./HVmodel/data/jet_rotation/04/bkg_in_SB.h5\n",
      "./HVmodel/data/jet_rotation/05/sig_in_SR.h5\n",
      "./HVmodel/data/jet_rotation/05/sig_in_SB.h5\n",
      "./HVmodel/data/jet_rotation/05/bkg_in_SR.h5\n",
      "./HVmodel/data/jet_rotation/05/bkg_in_SB.h5\n"
     ]
    }
   ],
   "source": [
    "for n in range(1, 6):\n",
    "    h5_dir = './HVmodel/data/split_val'\n",
    "    out_dir = f'./HVmodel/data/jet_rotation/{n:02}'\n",
    "\n",
    "    # create output directory\n",
    "    if not os.path.exists(out_dir):\n",
    "        os.makedirs(out_dir)\n",
    "\n",
    "    for name in ['sig_in_SR', 'sig_in_SB', 'bkg_in_SR', 'bkg_in_SB']:\n",
    "        h5_path = os.path.join(h5_dir, f'{name}.h5')\n",
    "        out_h5 = os.path.join(out_dir, f'{name}.h5')\n",
    "        jet_rotation(h5_path, out_h5)"
   ]
  },
  {
   "cell_type": "markdown",
   "metadata": {},
   "source": [
    "# Pixelization"
   ]
  },
  {
   "cell_type": "code",
   "execution_count": 9,
   "metadata": {},
   "outputs": [
    {
     "name": "stdout",
     "output_type": "stream",
     "text": [
      "python pixelization.py ./HVmodel/data/origin/sig_in_SR.h5 ./HVmodel/data/origin/25x25/sig_in_SR.npy 25 &\n",
      "python pixelization.py ./HVmodel/data/origin/sig_in_SB.h5 ./HVmodel/data/origin/25x25/sig_in_SB.npy 25 &\n",
      "python pixelization.py ./HVmodel/data/origin/bkg_in_SR.h5 ./HVmodel/data/origin/25x25/bkg_in_SR.npy 25 &\n",
      "python pixelization.py ./HVmodel/data/origin/bkg_in_SB.h5 ./HVmodel/data/origin/25x25/bkg_in_SB.npy 25 &\n"
     ]
    }
   ],
   "source": [
    "res = 25\n",
    "h5_dir = './HVmodel/data/origin'\n",
    "npy_dir = f'./HVmodel/data/origin/{res}x{res}'\n",
    "\n",
    "for name in ['sig_in_SR', 'sig_in_SB', 'bkg_in_SR', 'bkg_in_SB']:\n",
    "    h5_path = os.path.join(h5_dir, f'{name}.h5')\n",
    "    npy_path = os.path.join(npy_dir, f'{name}.npy')\n",
    "    cmd = f'python pixelization.py {h5_path} {npy_path} {res} &'\n",
    "    print(cmd)\n"
   ]
  },
  {
   "cell_type": "code",
   "execution_count": 10,
   "metadata": {},
   "outputs": [
    {
     "name": "stdout",
     "output_type": "stream",
     "text": [
      "python pixelization.py ./HVmodel/data/jet_rotation/sig_in_SR.h5 ./HVmodel/data/jet_rotation/25x25/sig_in_SR.npy 25 &\n",
      "python pixelization.py ./HVmodel/data/jet_rotation/sig_in_SB.h5 ./HVmodel/data/jet_rotation/25x25/sig_in_SB.npy 25 &\n",
      "python pixelization.py ./HVmodel/data/jet_rotation/bkg_in_SR.h5 ./HVmodel/data/jet_rotation/25x25/bkg_in_SR.npy 25 &\n",
      "python pixelization.py ./HVmodel/data/jet_rotation/bkg_in_SB.h5 ./HVmodel/data/jet_rotation/25x25/bkg_in_SB.npy 25 &\n"
     ]
    }
   ],
   "source": [
    "res = 25\n",
    "h5_dir = './HVmodel/data/jet_rotation'\n",
    "npy_dir = f'./HVmodel/data/jet_rotation/{res}x{res}'\n",
    "\n",
    "for name in ['sig_in_SR', 'sig_in_SB', 'bkg_in_SR', 'bkg_in_SB']:\n",
    "    h5_path = os.path.join(h5_dir, f'{name}.h5')\n",
    "    npy_path = os.path.join(npy_dir, f'{name}.npy')\n",
    "    cmd = f'python pixelization.py {h5_path} {npy_path} {res} &'\n",
    "    print(cmd)\n"
   ]
  }
 ],
 "metadata": {
  "kernelspec": {
   "display_name": "jupyter",
   "language": "python",
   "name": "python3"
  },
  "language_info": {
   "codemirror_mode": {
    "name": "ipython",
    "version": 3
   },
   "file_extension": ".py",
   "mimetype": "text/x-python",
   "name": "python",
   "nbconvert_exporter": "python",
   "pygments_lexer": "ipython3",
   "version": "3.8.16"
  }
 },
 "nbformat": 4,
 "nbformat_minor": 2
}
