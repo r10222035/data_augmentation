{
 "cells": [
  {
   "cell_type": "code",
   "execution_count": 1,
   "metadata": {},
   "outputs": [],
   "source": [
    "import os\n",
    "import h5py\n",
    "import shutil\n",
    "import numpy as np\n",
    "import matplotlib.pyplot as plt\n",
    "\n",
    "from tqdm import tqdm"
   ]
  },
  {
   "cell_type": "code",
   "execution_count": 2,
   "metadata": {},
   "outputs": [],
   "source": [
    "def std_phi(phi):\n",
    "    # return the phi in range [-pi, pi]\n",
    "    while np.any(phi > np.pi):\n",
    "        phi[phi > np.pi] -= 2 * np.pi\n",
    "    while np.any(phi < -np.pi):\n",
    "        phi[phi < -np.pi] += 2 * np.pi\n",
    "    return phi"
   ]
  },
  {
   "cell_type": "code",
   "execution_count": 3,
   "metadata": {},
   "outputs": [],
   "source": [
    "def get_dataset_keys(f):\n",
    "    keys = []\n",
    "    f.visit(lambda key : keys.append(key) if isinstance(f[key], h5py.Dataset) else None)\n",
    "    return keys"
   ]
  },
  {
   "cell_type": "markdown",
   "metadata": {},
   "source": [
    "# $\\eta - \\phi$ smearing"
   ]
  },
  {
   "cell_type": "code",
   "execution_count": 4,
   "metadata": {},
   "outputs": [],
   "source": [
    "def eta_phi_smearing(origin_file, output_path, n=3, std_scale=0.1):\n",
    "\n",
    "    with h5py.File(origin_file, 'r') as f:\n",
    "        nevent = f['EVENT/signal'].shape[0]\n",
    "        print(nevent)\n",
    "        pt1, pt2 = f['J1/pt'][:], f['J2/pt'][:]\n",
    "        eta1, eta2 = f['J1/eta'][:], f['J2/eta'][:]\n",
    "        phi1, phi2 = f['J1/phi'][:], f['J2/phi'][:]\n",
    "\n",
    "    shutil.copyfile(origin_file, 'tmp.h5')\n",
    "    shutil.copyfile(origin_file, output_path)\n",
    "\n",
    "    with h5py.File(output_path, 'a') as f_out:\n",
    "        keys = get_dataset_keys(f_out)\n",
    "\n",
    "        total_size = nevent\n",
    "        for i in tqdm(range(n)):\n",
    "            total_size += nevent\n",
    "            with h5py.File('tmp.h5', 'a') as f_tmp:\n",
    "                \n",
    "                std_1 = np.divide(std_scale, pt1, out=np.zeros_like(pt1), where=(pt1!=0))\n",
    "                std_2 = np.divide(std_scale, pt2, out=np.zeros_like(pt2), where=(pt2!=0))\n",
    "\n",
    "                f_tmp['J1/eta'][:] = np.random.normal(loc=eta1, scale=std_1)\n",
    "                f_tmp['J2/eta'][:] = np.random.normal(loc=eta2, scale=std_2)\n",
    "                f_tmp['J1/phi'][:] = std_phi(np.random.normal(loc=phi1, scale=std_1))\n",
    "                f_tmp['J2/phi'][:] = std_phi(np.random.normal(loc=phi2, scale=std_2))\n",
    "            \n",
    "                for key in keys:\n",
    "                    f_out[key].resize(total_size, axis=0)\n",
    "                    f_out[key][-nevent:] = f_tmp[key]\n",
    "\n",
    "    os.remove('tmp.h5')"
   ]
  },
  {
   "cell_type": "code",
   "execution_count": 5,
   "metadata": {},
   "outputs": [
    {
     "name": "stdout",
     "output_type": "stream",
     "text": [
      "31324\n"
     ]
    },
    {
     "name": "stderr",
     "output_type": "stream",
     "text": [
      "100%|██████████| 1/1 [00:02<00:00,  2.44s/it]\n"
     ]
    },
    {
     "name": "stdout",
     "output_type": "stream",
     "text": [
      "31460\n"
     ]
    },
    {
     "name": "stderr",
     "output_type": "stream",
     "text": [
      "100%|██████████| 1/1 [00:02<00:00,  2.72s/it]\n"
     ]
    },
    {
     "name": "stdout",
     "output_type": "stream",
     "text": [
      "31597\n"
     ]
    },
    {
     "name": "stderr",
     "output_type": "stream",
     "text": [
      "100%|██████████| 1/1 [00:02<00:00,  2.43s/it]\n"
     ]
    },
    {
     "name": "stdout",
     "output_type": "stream",
     "text": [
      "31734\n"
     ]
    },
    {
     "name": "stderr",
     "output_type": "stream",
     "text": [
      "100%|██████████| 1/1 [00:02<00:00,  2.47s/it]\n"
     ]
    },
    {
     "name": "stdout",
     "output_type": "stream",
     "text": [
      "31871\n"
     ]
    },
    {
     "name": "stderr",
     "output_type": "stream",
     "text": [
      "100%|██████████| 1/1 [00:02<00:00,  2.44s/it]\n"
     ]
    },
    {
     "name": "stdout",
     "output_type": "stream",
     "text": [
      "32008\n"
     ]
    },
    {
     "name": "stderr",
     "output_type": "stream",
     "text": [
      "100%|██████████| 1/1 [00:02<00:00,  2.45s/it]\n"
     ]
    },
    {
     "name": "stdout",
     "output_type": "stream",
     "text": [
      "32144\n"
     ]
    },
    {
     "name": "stderr",
     "output_type": "stream",
     "text": [
      "100%|██████████| 1/1 [00:02<00:00,  2.46s/it]\n"
     ]
    },
    {
     "name": "stdout",
     "output_type": "stream",
     "text": [
      "32281\n"
     ]
    },
    {
     "name": "stderr",
     "output_type": "stream",
     "text": [
      "100%|██████████| 1/1 [00:02<00:00,  2.48s/it]\n"
     ]
    },
    {
     "name": "stdout",
     "output_type": "stream",
     "text": [
      "32418\n"
     ]
    },
    {
     "name": "stderr",
     "output_type": "stream",
     "text": [
      "100%|██████████| 1/1 [00:02<00:00,  2.48s/it]\n"
     ]
    },
    {
     "name": "stdout",
     "output_type": "stream",
     "text": [
      "32555\n"
     ]
    },
    {
     "name": "stderr",
     "output_type": "stream",
     "text": [
      "100%|██████████| 1/1 [00:02<00:00,  2.49s/it]\n"
     ]
    },
    {
     "name": "stdout",
     "output_type": "stream",
     "text": [
      "32692\n"
     ]
    },
    {
     "name": "stderr",
     "output_type": "stream",
     "text": [
      "100%|██████████| 1/1 [00:02<00:00,  2.50s/it]\n"
     ]
    }
   ],
   "source": [
    "for i in range(11):\n",
    "\n",
    "    origin_file = f'./HVmodel/data/split_val/mix_sample_{i:.1f}.h5'\n",
    "    output_path = f'./HVmodel/data/split_val/mix_sample_{i:.1f}_aug_1.h5'\n",
    "\n",
    "    eta_phi_smearing(origin_file, output_path, n=1)"
   ]
  },
  {
   "cell_type": "code",
   "execution_count": 5,
   "metadata": {},
   "outputs": [
    {
     "name": "stdout",
     "output_type": "stream",
     "text": [
      "31324\n"
     ]
    },
    {
     "name": "stderr",
     "output_type": "stream",
     "text": [
      "100%|██████████| 3/3 [00:07<00:00,  2.41s/it]\n"
     ]
    },
    {
     "name": "stdout",
     "output_type": "stream",
     "text": [
      "31460\n"
     ]
    },
    {
     "name": "stderr",
     "output_type": "stream",
     "text": [
      "100%|██████████| 3/3 [00:07<00:00,  2.39s/it]\n"
     ]
    },
    {
     "name": "stdout",
     "output_type": "stream",
     "text": [
      "31597\n"
     ]
    },
    {
     "name": "stderr",
     "output_type": "stream",
     "text": [
      "100%|██████████| 3/3 [00:07<00:00,  2.38s/it]\n"
     ]
    },
    {
     "name": "stdout",
     "output_type": "stream",
     "text": [
      "31734\n"
     ]
    },
    {
     "name": "stderr",
     "output_type": "stream",
     "text": [
      "100%|██████████| 3/3 [00:07<00:00,  2.39s/it]\n"
     ]
    },
    {
     "name": "stdout",
     "output_type": "stream",
     "text": [
      "31871\n"
     ]
    },
    {
     "name": "stderr",
     "output_type": "stream",
     "text": [
      "100%|██████████| 3/3 [00:07<00:00,  2.41s/it]\n"
     ]
    },
    {
     "name": "stdout",
     "output_type": "stream",
     "text": [
      "32008\n"
     ]
    },
    {
     "name": "stderr",
     "output_type": "stream",
     "text": [
      "100%|██████████| 3/3 [00:07<00:00,  2.39s/it]\n"
     ]
    },
    {
     "name": "stdout",
     "output_type": "stream",
     "text": [
      "32144\n"
     ]
    },
    {
     "name": "stderr",
     "output_type": "stream",
     "text": [
      "100%|██████████| 3/3 [00:07<00:00,  2.41s/it]\n"
     ]
    },
    {
     "name": "stdout",
     "output_type": "stream",
     "text": [
      "32281\n"
     ]
    },
    {
     "name": "stderr",
     "output_type": "stream",
     "text": [
      "100%|██████████| 3/3 [00:07<00:00,  2.41s/it]\n"
     ]
    },
    {
     "name": "stdout",
     "output_type": "stream",
     "text": [
      "32418\n"
     ]
    },
    {
     "name": "stderr",
     "output_type": "stream",
     "text": [
      "100%|██████████| 3/3 [00:07<00:00,  2.42s/it]\n"
     ]
    },
    {
     "name": "stdout",
     "output_type": "stream",
     "text": [
      "32555\n"
     ]
    },
    {
     "name": "stderr",
     "output_type": "stream",
     "text": [
      "100%|██████████| 3/3 [00:07<00:00,  2.43s/it]\n"
     ]
    },
    {
     "name": "stdout",
     "output_type": "stream",
     "text": [
      "32692\n"
     ]
    },
    {
     "name": "stderr",
     "output_type": "stream",
     "text": [
      "100%|██████████| 3/3 [00:07<00:00,  2.47s/it]\n"
     ]
    }
   ],
   "source": [
    "for i in range(11):\n",
    "\n",
    "    origin_file = f'./HVmodel/data/split_val/mix_sample_{i:.1f}.h5'\n",
    "    output_path = f'./HVmodel/data/split_val/mix_sample_{i:.1f}_aug_3.h5'\n",
    "\n",
    "    eta_phi_smearing(origin_file, output_path, n=3)"
   ]
  },
  {
   "cell_type": "code",
   "execution_count": 5,
   "metadata": {},
   "outputs": [
    {
     "name": "stdout",
     "output_type": "stream",
     "text": [
      "31324\n"
     ]
    },
    {
     "name": "stderr",
     "output_type": "stream",
     "text": [
      "100%|██████████| 1/1 [00:02<00:00,  2.85s/it]\n"
     ]
    },
    {
     "name": "stdout",
     "output_type": "stream",
     "text": [
      "31460\n"
     ]
    },
    {
     "name": "stderr",
     "output_type": "stream",
     "text": [
      "100%|██████████| 1/1 [00:02<00:00,  2.61s/it]\n"
     ]
    },
    {
     "name": "stdout",
     "output_type": "stream",
     "text": [
      "31597\n"
     ]
    },
    {
     "name": "stderr",
     "output_type": "stream",
     "text": [
      "100%|██████████| 1/1 [00:02<00:00,  2.62s/it]\n"
     ]
    },
    {
     "name": "stdout",
     "output_type": "stream",
     "text": [
      "31734\n"
     ]
    },
    {
     "name": "stderr",
     "output_type": "stream",
     "text": [
      "100%|██████████| 1/1 [00:02<00:00,  2.62s/it]\n"
     ]
    },
    {
     "name": "stdout",
     "output_type": "stream",
     "text": [
      "31871\n"
     ]
    },
    {
     "name": "stderr",
     "output_type": "stream",
     "text": [
      "100%|██████████| 1/1 [00:02<00:00,  2.65s/it]\n"
     ]
    },
    {
     "name": "stdout",
     "output_type": "stream",
     "text": [
      "32008\n"
     ]
    },
    {
     "name": "stderr",
     "output_type": "stream",
     "text": [
      "100%|██████████| 1/1 [00:02<00:00,  2.68s/it]\n"
     ]
    },
    {
     "name": "stdout",
     "output_type": "stream",
     "text": [
      "32144\n"
     ]
    },
    {
     "name": "stderr",
     "output_type": "stream",
     "text": [
      "100%|██████████| 1/1 [00:02<00:00,  2.71s/it]\n"
     ]
    },
    {
     "name": "stdout",
     "output_type": "stream",
     "text": [
      "32281\n"
     ]
    },
    {
     "name": "stderr",
     "output_type": "stream",
     "text": [
      "100%|██████████| 1/1 [00:02<00:00,  2.70s/it]\n"
     ]
    },
    {
     "name": "stdout",
     "output_type": "stream",
     "text": [
      "32418\n"
     ]
    },
    {
     "name": "stderr",
     "output_type": "stream",
     "text": [
      "100%|██████████| 1/1 [00:02<00:00,  2.68s/it]\n"
     ]
    },
    {
     "name": "stdout",
     "output_type": "stream",
     "text": [
      "32555\n"
     ]
    },
    {
     "name": "stderr",
     "output_type": "stream",
     "text": [
      "100%|██████████| 1/1 [00:02<00:00,  2.73s/it]\n"
     ]
    },
    {
     "name": "stdout",
     "output_type": "stream",
     "text": [
      "32692\n"
     ]
    },
    {
     "name": "stderr",
     "output_type": "stream",
     "text": [
      "100%|██████████| 1/1 [00:02<00:00,  2.77s/it]\n"
     ]
    }
   ],
   "source": [
    "for i in range(11):\n",
    "\n",
    "    origin_file = f'./HVmodel/data/split_val/mix_sample_{i:.1f}.h5'\n",
    "    output_path = f'./HVmodel/data/smearing_scale_02/mix_sample_{i:.1f}_aug_1.h5'\n",
    "\n",
    "    eta_phi_smearing(origin_file, output_path, n=1, std_scale=0.2)"
   ]
  },
  {
   "cell_type": "code",
   "execution_count": 6,
   "metadata": {},
   "outputs": [
    {
     "name": "stdout",
     "output_type": "stream",
     "text": [
      "31324\n"
     ]
    },
    {
     "name": "stderr",
     "output_type": "stream",
     "text": [
      "100%|██████████| 1/1 [00:02<00:00,  2.65s/it]\n"
     ]
    },
    {
     "name": "stdout",
     "output_type": "stream",
     "text": [
      "31460\n"
     ]
    },
    {
     "name": "stderr",
     "output_type": "stream",
     "text": [
      "100%|██████████| 1/1 [00:02<00:00,  2.67s/it]\n"
     ]
    },
    {
     "name": "stdout",
     "output_type": "stream",
     "text": [
      "31597\n"
     ]
    },
    {
     "name": "stderr",
     "output_type": "stream",
     "text": [
      "100%|██████████| 1/1 [00:02<00:00,  2.62s/it]\n"
     ]
    },
    {
     "name": "stdout",
     "output_type": "stream",
     "text": [
      "31734\n"
     ]
    },
    {
     "name": "stderr",
     "output_type": "stream",
     "text": [
      "100%|██████████| 1/1 [00:02<00:00,  2.76s/it]\n"
     ]
    },
    {
     "name": "stdout",
     "output_type": "stream",
     "text": [
      "31871\n"
     ]
    },
    {
     "name": "stderr",
     "output_type": "stream",
     "text": [
      "100%|██████████| 1/1 [00:02<00:00,  2.74s/it]\n"
     ]
    },
    {
     "name": "stdout",
     "output_type": "stream",
     "text": [
      "32008\n"
     ]
    },
    {
     "name": "stderr",
     "output_type": "stream",
     "text": [
      "100%|██████████| 1/1 [00:02<00:00,  2.75s/it]\n"
     ]
    },
    {
     "name": "stdout",
     "output_type": "stream",
     "text": [
      "32144\n"
     ]
    },
    {
     "name": "stderr",
     "output_type": "stream",
     "text": [
      "100%|██████████| 1/1 [00:02<00:00,  2.75s/it]\n"
     ]
    },
    {
     "name": "stdout",
     "output_type": "stream",
     "text": [
      "32281\n"
     ]
    },
    {
     "name": "stderr",
     "output_type": "stream",
     "text": [
      "100%|██████████| 1/1 [00:02<00:00,  2.88s/it]\n"
     ]
    },
    {
     "name": "stdout",
     "output_type": "stream",
     "text": [
      "32418\n"
     ]
    },
    {
     "name": "stderr",
     "output_type": "stream",
     "text": [
      "100%|██████████| 1/1 [00:03<00:00,  3.19s/it]\n"
     ]
    },
    {
     "name": "stdout",
     "output_type": "stream",
     "text": [
      "32555\n"
     ]
    },
    {
     "name": "stderr",
     "output_type": "stream",
     "text": [
      "100%|██████████| 1/1 [00:03<00:00,  3.12s/it]\n"
     ]
    },
    {
     "name": "stdout",
     "output_type": "stream",
     "text": [
      "32692\n"
     ]
    },
    {
     "name": "stderr",
     "output_type": "stream",
     "text": [
      "100%|██████████| 1/1 [00:03<00:00,  3.18s/it]\n"
     ]
    }
   ],
   "source": [
    "for i in range(11):\n",
    "\n",
    "    origin_file = f'./HVmodel/data/split_val/mix_sample_{i:.1f}.h5'\n",
    "    output_path = f'./HVmodel/data/smearing_scale_05/mix_sample_{i:.1f}_aug_1.h5'\n",
    "\n",
    "    eta_phi_smearing(origin_file, output_path, n=1, std_scale=0.5)"
   ]
  },
  {
   "cell_type": "markdown",
   "metadata": {},
   "source": [
    "# Plot"
   ]
  },
  {
   "cell_type": "code",
   "execution_count": 5,
   "metadata": {},
   "outputs": [
    {
     "data": {
      "image/png": "[encoded data removed]",
      "text/plain": [
       "<Figure size 500x400 with 1 Axes>"
      ]
     },
     "metadata": {},
     "output_type": "display_data"
    }
   ],
   "source": [
    "with h5py.File('./HVmodel/data/new/signal.h5', 'r') as f:\n",
    "    M1, M2 = f['J1/MASK'][:], f['J2/MASK'][:]\n",
    "\n",
    "    pt1_s = np.concatenate([row[:M1[i].sum()] for i, row in enumerate(f['J1/pt'][:])])\n",
    "    pt2_s = np.concatenate([row[:M2[i].sum()] for i, row in enumerate(f['J2/pt'][:])])\n",
    "\n",
    "with h5py.File('./HVmodel/data/new/background_03.h5', 'r') as f:\n",
    "    M1, M2 = f['J1/MASK'][:], f['J2/MASK'][:]\n",
    "\n",
    "    pt1_b = np.concatenate([row[:M1[i].sum()] for i, row in enumerate(f['J1/pt'][:])])\n",
    "    pt2_b = np.concatenate([row[:M2[i].sum()] for i, row in enumerate(f['J2/pt'][:])])\n",
    "\n",
    "fig, ax = plt.subplots(1,1, figsize=(5,4))\n",
    "\n",
    "ax.hist(pt1_s, bins=50, range=(0,10), histtype='step', label='Leading S', density=True)\n",
    "ax.hist(pt1_b, bins=50, range=(0,10), histtype='step', label='Leading B', density=True)\n",
    "\n",
    "ax.hist(pt2_s, bins=50, range=(0,10), histtype='step', label='Sub-leading S', density=True)\n",
    "ax.hist(pt2_b, bins=50, range=(0,10), histtype='step', label='Sub-leading B', density=True)\n",
    "\n",
    "ax.legend()\n",
    "ax.set_xlabel('$p_{\\mathrm{T}}$ [GeV]')\n",
    "ax.set_ylabel('Normalized')\n",
    "ax.legend(frameon=False)\n",
    "\n",
    "plt.savefig('../figures/hv_model_pt_distribution.pdf', dpi=300, facecolor='White', bbox_inches='tight')\n",
    "plt.show()"
   ]
  },
  {
   "cell_type": "code",
   "execution_count": 6,
   "metadata": {},
   "outputs": [],
   "source": [
    "with h5py.File('./HVmodel/data/new/signal.h5', 'r') as f:\n",
    "    M1, M2 = f['J1/MASK'][:], f['J2/MASK'][:]\n",
    "    eta1_ori_s = np.concatenate([row[:M1[i].sum()] for i, row in enumerate(f['J1/eta'][:])])\n",
    "    eta2_ori_s = np.concatenate([row[:M2[i].sum()] for i, row in enumerate(f['J2/eta'][:])])\n",
    "\n",
    "with h5py.File('./HVmodel/data/new/signal_aug_1.h5', 'r') as f:\n",
    "    M1, M2 = f['J1/MASK'][:], f['J2/MASK'][:]\n",
    "    eta1_aug_s = np.concatenate([row[:M1[i].sum()] for i, row in enumerate(f['J1/eta'][:])])\n",
    "    eta2_aug_s = np.concatenate([row[:M2[i].sum()] for i, row in enumerate(f['J2/eta'][:])])\n",
    "\n",
    "with h5py.File('./HVmodel/data/new/background_03.h5', 'r') as f:\n",
    "    M1, M2 = f['J1/MASK'][:], f['J2/MASK'][:]\n",
    "    eta1_ori_b = np.concatenate([row[:M1[i].sum()] for i, row in enumerate(f['J1/eta'][:])])\n",
    "    eta2_ori_b = np.concatenate([row[:M2[i].sum()] for i, row in enumerate(f['J2/eta'][:])])\n",
    "\n",
    "with h5py.File('./HVmodel/data/new/background_aug_1.h5', 'r') as f:\n",
    "    M1, M2 = f['J1/MASK'][:], f['J2/MASK'][:]\n",
    "    eta1_aug_b = np.concatenate([row[:M1[i].sum()] for i, row in enumerate(f['J1/eta'][:])])\n",
    "    eta2_aug_b = np.concatenate([row[:M2[i].sum()] for i, row in enumerate(f['J2/eta'][:])])"
   ]
  },
  {
   "cell_type": "code",
   "execution_count": 7,
   "metadata": {},
   "outputs": [
    {
     "data": {
      "image/png": "[encoded data removed]",
      "text/plain": [
       "<Figure size 500x400 with 1 Axes>"
      ]
     },
     "metadata": {},
     "output_type": "display_data"
    },
    {
     "data": {
      "image/png": "[encoded data removed]",
      "text/plain": [
       "<Figure size 500x400 with 1 Axes>"
      ]
     },
     "metadata": {},
     "output_type": "display_data"
    }
   ],
   "source": [
    "fig, ax = plt.subplots(1,1, figsize=(5,4))\n",
    "\n",
    "ax.hist(eta1_ori_s, bins=100, range=(-5, 5), histtype='step', label='Original S', density=True)\n",
    "ax.hist(eta1_ori_b, bins=100, range=(-5, 5), histtype='step', label='Original B', density=True)\n",
    "ax.hist(eta1_aug_s, bins=100, range=(-5, 5), histtype='step', label='$\\eta - \\phi$ smearing S', density=True)\n",
    "ax.hist(eta1_aug_b, bins=100, range=(-5, 5), histtype='step', label='$\\eta - \\phi$ smearing B', density=True)\n",
    "\n",
    "ax.legend()\n",
    "ax.set_xlabel('$\\eta_1$')\n",
    "ax.set_ylabel('Normalized')\n",
    "ax.set_ylim(0, 0.57)\n",
    "ax.legend(frameon=False, fontsize=9, loc='upper right')\n",
    "\n",
    "# plt.savefig('../figures/hv_model_eta1_distribution_eta_phi_smearing.pdf', dpi=300, facecolor='White', bbox_inches='tight')\n",
    "plt.show()\n",
    "\n",
    "fig, ax = plt.subplots(1,1, figsize=(5,4))\n",
    "\n",
    "ax.hist(eta2_ori_s, bins=100, range=(-5, 5), histtype='step', label='Original S', density=True)\n",
    "ax.hist(eta2_ori_b, bins=100, range=(-5, 5), histtype='step', label='Original B', density=True)\n",
    "ax.hist(eta2_aug_s, bins=100, range=(-5, 5), histtype='step', label='$\\eta - \\phi$ smearing S', density=True)\n",
    "ax.hist(eta2_aug_b, bins=100, range=(-5, 5), histtype='step', label='$\\eta - \\phi$ smearing B', density=True)\n",
    "\n",
    "ax.legend()\n",
    "ax.set_xlabel('$\\eta_2$')\n",
    "ax.set_ylabel('Normalized')\n",
    "ax.set_ylim(0, 0.57)\n",
    "ax.legend(frameon=False, fontsize=9, loc='upper right')\n",
    "\n",
    "# plt.savefig('../figures/hv_model_eta2_distribution_eta_phi_smearing.pdf', dpi=300, facecolor='White', bbox_inches='tight')\n",
    "plt.show()"
   ]
  },
  {
   "cell_type": "code",
   "execution_count": 8,
   "metadata": {},
   "outputs": [],
   "source": [
    "with h5py.File('./HVmodel/data/new/signal.h5', 'r') as f:\n",
    "    M1, M2 = f['J1/MASK'][:], f['J2/MASK'][:]\n",
    "    phi1_ori_s = np.concatenate([row[:M1[i].sum()] for i, row in enumerate(f['J1/phi'][:])])\n",
    "    phi2_ori_s = np.concatenate([row[:M2[i].sum()] for i, row in enumerate(f['J2/phi'][:])])\n",
    "\n",
    "with h5py.File('./HVmodel/data/new/signal_aug_1.h5', 'r') as f:\n",
    "    M1, M2 = f['J1/MASK'][:], f['J2/MASK'][:]\n",
    "    phi1_aug_s = np.concatenate([row[:M1[i].sum()] for i, row in enumerate(f['J1/phi'][:])])\n",
    "    phi2_aug_s = np.concatenate([row[:M2[i].sum()] for i, row in enumerate(f['J2/phi'][:])])\n",
    "\n",
    "with h5py.File('./HVmodel/data/new/background_03.h5', 'r') as f:\n",
    "    M1, M2 = f['J1/MASK'][:], f['J2/MASK'][:]\n",
    "    phi1_ori_b = np.concatenate([row[:M1[i].sum()] for i, row in enumerate(f['J1/phi'][:])])\n",
    "    phi2_ori_b = np.concatenate([row[:M2[i].sum()] for i, row in enumerate(f['J2/phi'][:])])\n",
    "\n",
    "with h5py.File('./HVmodel/data/new/background_aug_1.h5', 'r') as f:\n",
    "    M1, M2 = f['J1/MASK'][:], f['J2/MASK'][:]\n",
    "    phi1_aug_b = np.concatenate([row[:M1[i].sum()] for i, row in enumerate(f['J1/phi'][:])])\n",
    "    phi2_aug_b = np.concatenate([row[:M2[i].sum()] for i, row in enumerate(f['J2/phi'][:])])"
   ]
  },
  {
   "cell_type": "code",
   "execution_count": 9,
   "metadata": {},
   "outputs": [
    {
     "data": {
      "image/png": "[encoded data removed]",
      "text/plain": [
       "<Figure size 500x400 with 1 Axes>"
      ]
     },
     "metadata": {},
     "output_type": "display_data"
    },
    {
     "data": {
      "image/png": "[encoded data removed]",
      "text/plain": [
       "<Figure size 500x400 with 1 Axes>"
      ]
     },
     "metadata": {},
     "output_type": "display_data"
    }
   ],
   "source": [
    "fig, ax = plt.subplots(1,1, figsize=(5,4))\n",
    "\n",
    "ax.hist(phi1_ori_s, bins=100, range=(-3.2, 3.2), histtype='step', label='Original S', density=True)\n",
    "ax.hist(phi1_ori_b, bins=100, range=(-3.2, 3.2), histtype='step', label='Original B', density=True)\n",
    "ax.hist(phi1_aug_s, bins=100, range=(-3.2, 3.2), histtype='step', label='$\\eta - \\phi$ smearing S', density=True)\n",
    "ax.hist(phi1_aug_b, bins=100, range=(-3.2, 3.2), histtype='step', label='$\\eta - \\phi$ smearing B', density=True)\n",
    "\n",
    "ax.legend()\n",
    "ax.set_xlabel('$\\phi_1$')\n",
    "ax.set_ylabel('Normalized')\n",
    "\n",
    "ax.legend(frameon=False, loc='lower center')\n",
    "\n",
    "plt.savefig('../figures/hv_model_phi1_distribution_eta_phi_smearing.pdf', dpi=300, facecolor='White', bbox_inches='tight')\n",
    "plt.show()\n",
    "\n",
    "fig, ax = plt.subplots(1,1, figsize=(5,4))\n",
    "\n",
    "ax.hist(phi2_ori_s, bins=100, range=(-3.2, 3.2), histtype='step', label='Original S', density=True)\n",
    "ax.hist(phi2_ori_b, bins=100, range=(-3.2, 3.2), histtype='step', label='Original B', density=True)\n",
    "ax.hist(phi2_aug_s, bins=100, range=(-3.2, 3.2), histtype='step', label='$\\eta - \\phi$ smearing S', density=True)\n",
    "ax.hist(phi2_aug_b, bins=100, range=(-3.2, 3.2), histtype='step', label='$\\eta - \\phi$ smearing B', density=True)\n",
    "\n",
    "ax.legend()\n",
    "ax.set_xlabel('$\\phi_2$')\n",
    "ax.set_ylabel('Normalized')\n",
    "\n",
    "ax.legend(frameon=False, loc='lower center')\n",
    "\n",
    "plt.savefig('../figures/hv_model_phi2_distribution_eta_phi_smearing.pdf', dpi=300, facecolor='White', bbox_inches='tight')\n",
    "plt.show()"
   ]
  },
  {
   "cell_type": "code",
   "execution_count": null,
   "metadata": {},
   "outputs": [],
   "source": []
  }
 ],
 "metadata": {
  "kernelspec": {
   "display_name": "jupyter",
   "language": "python",
   "name": "python3"
  },
  "language_info": {
   "codemirror_mode": {
    "name": "ipython",
    "version": 3
   },
   "file_extension": ".py",
   "mimetype": "text/x-python",
   "name": "python",
   "nbconvert_exporter": "python",
   "pygments_lexer": "ipython3",
   "version": "3.8.16"
  }
 },
 "nbformat": 4,
 "nbformat_minor": 2
}
