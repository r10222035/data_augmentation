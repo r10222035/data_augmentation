{
 "cells": [
  {
   "cell_type": "code",
   "execution_count": 1,
   "metadata": {},
   "outputs": [],
   "source": [
    "import h5py\n",
    "import shutil\n",
    "import numpy as np\n",
    "import matplotlib.pyplot as plt\n",
    "\n",
    "from tqdm import tqdm"
   ]
  },
  {
   "cell_type": "code",
   "execution_count": 2,
   "metadata": {},
   "outputs": [],
   "source": [
    "def std_phi(phi):\n",
    "    # return the phi in range [-pi, pi]\n",
    "    while np.any(phi > np.pi):\n",
    "        phi[phi > np.pi] -= 2 * np.pi\n",
    "    while np.any(phi < -np.pi):\n",
    "        phi[phi < -np.pi] += 2 * np.pi\n",
    "    return phi"
   ]
  },
  {
   "cell_type": "code",
   "execution_count": 3,
   "metadata": {},
   "outputs": [],
   "source": [
    "def get_dataset_keys(f):\n",
    "    keys = []\n",
    "    f.visit(lambda key : keys.append(key) if isinstance(f[key], h5py.Dataset) else None)\n",
    "    return keys"
   ]
  },
  {
   "cell_type": "markdown",
   "metadata": {},
   "source": [
    "# $\\eta - \\phi$ smearing"
   ]
  },
  {
   "cell_type": "code",
   "execution_count": 4,
   "metadata": {},
   "outputs": [],
   "source": [
    "def remove_inf(arr):\n",
    "    return np.nan_to_num(arr, nan=0.0, posinf=0.0, neginf=0.0)\n",
    "\n",
    "def pt_scale(pt):\n",
    "    return np.sqrt(0.052*pt*pt + 1.502*pt)\n",
    "\n",
    "def eta_phi_smearing(origin_file, output_path, n=3):\n",
    "\n",
    "    with h5py.File(origin_file, 'r') as f:\n",
    "        nevent = f['EVENT/signal'].shape[0]\n",
    "        print(nevent)\n",
    "        pt1, pt2 = f['J1/pt'][:], f['J2/pt'][:]\n",
    "        eta1, eta2 = f['J1/eta'][:], f['J2/eta'][:]\n",
    "        phi1, phi2 = f['J1/phi'][:], f['J2/phi'][:]\n",
    "\n",
    "    shutil.copyfile(origin_file, 'tmp.h5')\n",
    "    shutil.copyfile(origin_file, output_path)\n",
    "\n",
    "    with h5py.File(output_path, 'a') as f_out:\n",
    "        keys = get_dataset_keys(f_out)\n",
    "\n",
    "        std_scale = 0.1\n",
    "\n",
    "        total_size = nevent\n",
    "        for i in tqdm(range(n)):\n",
    "            total_size += nevent\n",
    "            with h5py.File('tmp.h5', 'a') as f_tmp:\n",
    "\n",
    "                f_tmp['J1/eta'][:] = remove_inf(np.random.normal(loc=eta1, scale=std_scale/pt1))\n",
    "                f_tmp['J2/eta'][:] = remove_inf(np.random.normal(loc=eta2, scale=std_scale/pt2))\n",
    "                f_tmp['J1/phi'][:] = std_phi(remove_inf(np.random.normal(loc=phi1, scale=std_scale/pt1)))\n",
    "                f_tmp['J2/phi'][:] = std_phi(remove_inf(np.random.normal(loc=phi2, scale=std_scale/pt2)))\n",
    "\n",
    "                # f_tmp['J1/pt'][:] = np.random.normal(loc=pt1, scale=pt_scale(pt1))\n",
    "                # f_tmp['J2/pt'][:] = np.random.normal(loc=pt2, scale=pt_scale(pt2))\n",
    "            \n",
    "                for key in keys:\n",
    "                    f_out[key].resize(total_size, axis=0)\n",
    "                    f_out[key][-nevent:] = f_tmp[key]"
   ]
  },
  {
   "cell_type": "code",
   "execution_count": 5,
   "metadata": {},
   "outputs": [
    {
     "name": "stdout",
     "output_type": "stream",
     "text": [
      "48465\n"
     ]
    },
    {
     "name": "stderr",
     "output_type": "stream",
     "text": [
      "  0%|          | 0/3 [00:00<?, ?it/s]/tmp/ipykernel_2391909/4052669954.py:30: RuntimeWarning: divide by zero encountered in divide\n",
      "  f_tmp['J1/eta'][:] = remove_inf(np.random.normal(loc=eta1, scale=std_scale/pt1))\n",
      "/tmp/ipykernel_2391909/4052669954.py:31: RuntimeWarning: divide by zero encountered in divide\n",
      "  f_tmp['J2/eta'][:] = remove_inf(np.random.normal(loc=eta2, scale=std_scale/pt2))\n",
      "/tmp/ipykernel_2391909/4052669954.py:32: RuntimeWarning: divide by zero encountered in divide\n",
      "  f_tmp['J1/phi'][:] = std_phi(remove_inf(np.random.normal(loc=phi1, scale=std_scale/pt1)))\n",
      "/tmp/ipykernel_2391909/4052669954.py:33: RuntimeWarning: divide by zero encountered in divide\n",
      "  f_tmp['J2/phi'][:] = std_phi(remove_inf(np.random.normal(loc=phi2, scale=std_scale/pt2)))\n",
      "100%|██████████| 3/3 [00:13<00:00,  4.66s/it]\n"
     ]
    }
   ],
   "source": [
    "origin_file = './HVmodel/data/DA/mix_sample.h5'\n",
    "output_path = './HVmodel/data/DA/mix_sample_aug_3.h5'\n",
    "\n",
    "eta_phi_smearing(origin_file, output_path, n=3)"
   ]
  },
  {
   "cell_type": "code",
   "execution_count": 7,
   "metadata": {},
   "outputs": [
    {
     "name": "stdout",
     "output_type": "stream",
     "text": [
      "48289\n"
     ]
    },
    {
     "name": "stderr",
     "output_type": "stream",
     "text": [
      "  0%|          | 0/1 [00:00<?, ?it/s]/tmp/ipykernel_2433416/1105156996.py:29: RuntimeWarning: divide by zero encountered in divide\n",
      "  f_tmp['J1/eta'][:] = remove_inf(np.random.normal(loc=eta1, scale=std_scale/pt1))\n",
      "/tmp/ipykernel_2433416/1105156996.py:30: RuntimeWarning: divide by zero encountered in divide\n",
      "  f_tmp['J2/eta'][:] = remove_inf(np.random.normal(loc=eta2, scale=std_scale/pt2))\n",
      "/tmp/ipykernel_2433416/1105156996.py:31: RuntimeWarning: divide by zero encountered in divide\n",
      "  f_tmp['J1/phi'][:] = std_phi(remove_inf(np.random.normal(loc=phi1, scale=std_scale/pt1)))\n",
      "/tmp/ipykernel_2433416/1105156996.py:32: RuntimeWarning: divide by zero encountered in divide\n",
      "  f_tmp['J2/phi'][:] = std_phi(remove_inf(np.random.normal(loc=phi2, scale=std_scale/pt2)))\n",
      "100%|██████████| 1/1 [00:04<00:00,  4.75s/it]\n"
     ]
    },
    {
     "name": "stdout",
     "output_type": "stream",
     "text": [
      "48465\n"
     ]
    },
    {
     "name": "stderr",
     "output_type": "stream",
     "text": [
      "100%|██████████| 1/1 [00:04<00:00,  4.71s/it]\n"
     ]
    },
    {
     "name": "stdout",
     "output_type": "stream",
     "text": [
      "48643\n"
     ]
    },
    {
     "name": "stderr",
     "output_type": "stream",
     "text": [
      "100%|██████████| 1/1 [00:04<00:00,  4.75s/it]\n"
     ]
    },
    {
     "name": "stdout",
     "output_type": "stream",
     "text": [
      "48819\n"
     ]
    },
    {
     "name": "stderr",
     "output_type": "stream",
     "text": [
      "100%|██████████| 1/1 [00:04<00:00,  4.73s/it]\n"
     ]
    },
    {
     "name": "stdout",
     "output_type": "stream",
     "text": [
      "48997\n"
     ]
    },
    {
     "name": "stderr",
     "output_type": "stream",
     "text": [
      "100%|██████████| 1/1 [00:04<00:00,  4.72s/it]\n"
     ]
    },
    {
     "name": "stdout",
     "output_type": "stream",
     "text": [
      "49174\n"
     ]
    },
    {
     "name": "stderr",
     "output_type": "stream",
     "text": [
      "100%|██████████| 1/1 [00:04<00:00,  4.78s/it]\n"
     ]
    },
    {
     "name": "stdout",
     "output_type": "stream",
     "text": [
      "49351\n"
     ]
    },
    {
     "name": "stderr",
     "output_type": "stream",
     "text": [
      "100%|██████████| 1/1 [00:04<00:00,  4.81s/it]\n"
     ]
    },
    {
     "name": "stdout",
     "output_type": "stream",
     "text": [
      "49528\n"
     ]
    },
    {
     "name": "stderr",
     "output_type": "stream",
     "text": [
      "100%|██████████| 1/1 [00:04<00:00,  4.76s/it]\n"
     ]
    },
    {
     "name": "stdout",
     "output_type": "stream",
     "text": [
      "49705\n"
     ]
    },
    {
     "name": "stderr",
     "output_type": "stream",
     "text": [
      "100%|██████████| 1/1 [00:04<00:00,  4.82s/it]\n"
     ]
    },
    {
     "name": "stdout",
     "output_type": "stream",
     "text": [
      "49883\n"
     ]
    },
    {
     "name": "stderr",
     "output_type": "stream",
     "text": [
      "100%|██████████| 1/1 [00:04<00:00,  4.83s/it]\n"
     ]
    },
    {
     "name": "stdout",
     "output_type": "stream",
     "text": [
      "50060\n"
     ]
    },
    {
     "name": "stderr",
     "output_type": "stream",
     "text": [
      "100%|██████████| 1/1 [00:04<00:00,  4.85s/it]\n"
     ]
    }
   ],
   "source": [
    "for i in range(11):\n",
    "\n",
    "    origin_file = f'./HVmodel/data/DA/mix_sample_{i:.1f}.h5'\n",
    "    output_path = f'./HVmodel/data/DA/mix_sample_{i:.1f}_aug_1.h5'\n",
    "\n",
    "    eta_phi_smearing(origin_file, output_path, n=1)"
   ]
  },
  {
   "cell_type": "code",
   "execution_count": 5,
   "metadata": {},
   "outputs": [
    {
     "name": "stdout",
     "output_type": "stream",
     "text": [
      "48289\n"
     ]
    },
    {
     "name": "stderr",
     "output_type": "stream",
     "text": [
      "  0%|          | 0/3 [00:00<?, ?it/s]/tmp/ipykernel_2415367/1105156996.py:29: RuntimeWarning: divide by zero encountered in divide\n",
      "  f_tmp['J1/eta'][:] = remove_inf(np.random.normal(loc=eta1, scale=std_scale/pt1))\n",
      "/tmp/ipykernel_2415367/1105156996.py:30: RuntimeWarning: divide by zero encountered in divide\n",
      "  f_tmp['J2/eta'][:] = remove_inf(np.random.normal(loc=eta2, scale=std_scale/pt2))\n",
      "/tmp/ipykernel_2415367/1105156996.py:31: RuntimeWarning: divide by zero encountered in divide\n",
      "  f_tmp['J1/phi'][:] = std_phi(remove_inf(np.random.normal(loc=phi1, scale=std_scale/pt1)))\n",
      "/tmp/ipykernel_2415367/1105156996.py:32: RuntimeWarning: divide by zero encountered in divide\n",
      "  f_tmp['J2/phi'][:] = std_phi(remove_inf(np.random.normal(loc=phi2, scale=std_scale/pt2)))\n",
      "100%|██████████| 3/3 [00:13<00:00,  4.66s/it]\n"
     ]
    },
    {
     "name": "stdout",
     "output_type": "stream",
     "text": [
      "48465\n"
     ]
    },
    {
     "name": "stderr",
     "output_type": "stream",
     "text": [
      "100%|██████████| 3/3 [00:14<00:00,  4.71s/it]\n"
     ]
    },
    {
     "name": "stdout",
     "output_type": "stream",
     "text": [
      "48643\n"
     ]
    },
    {
     "name": "stderr",
     "output_type": "stream",
     "text": [
      "100%|██████████| 3/3 [00:14<00:00,  4.74s/it]\n"
     ]
    },
    {
     "name": "stdout",
     "output_type": "stream",
     "text": [
      "48819\n"
     ]
    },
    {
     "name": "stderr",
     "output_type": "stream",
     "text": [
      "100%|██████████| 3/3 [00:14<00:00,  4.71s/it]\n"
     ]
    },
    {
     "name": "stdout",
     "output_type": "stream",
     "text": [
      "48997\n"
     ]
    },
    {
     "name": "stderr",
     "output_type": "stream",
     "text": [
      "100%|██████████| 3/3 [00:14<00:00,  4.76s/it]\n"
     ]
    },
    {
     "name": "stdout",
     "output_type": "stream",
     "text": [
      "49174\n"
     ]
    },
    {
     "name": "stderr",
     "output_type": "stream",
     "text": [
      "100%|██████████| 3/3 [00:14<00:00,  4.73s/it]\n"
     ]
    },
    {
     "name": "stdout",
     "output_type": "stream",
     "text": [
      "49351\n"
     ]
    },
    {
     "name": "stderr",
     "output_type": "stream",
     "text": [
      "100%|██████████| 3/3 [00:14<00:00,  4.75s/it]\n"
     ]
    },
    {
     "name": "stdout",
     "output_type": "stream",
     "text": [
      "49528\n"
     ]
    },
    {
     "name": "stderr",
     "output_type": "stream",
     "text": [
      "100%|██████████| 3/3 [00:14<00:00,  4.77s/it]\n"
     ]
    },
    {
     "name": "stdout",
     "output_type": "stream",
     "text": [
      "49705\n"
     ]
    },
    {
     "name": "stderr",
     "output_type": "stream",
     "text": [
      "100%|██████████| 3/3 [00:14<00:00,  4.83s/it]\n"
     ]
    },
    {
     "name": "stdout",
     "output_type": "stream",
     "text": [
      "49883\n"
     ]
    },
    {
     "name": "stderr",
     "output_type": "stream",
     "text": [
      "100%|██████████| 3/3 [00:14<00:00,  4.90s/it]\n"
     ]
    },
    {
     "name": "stdout",
     "output_type": "stream",
     "text": [
      "50060\n"
     ]
    },
    {
     "name": "stderr",
     "output_type": "stream",
     "text": [
      "100%|██████████| 3/3 [00:14<00:00,  4.84s/it]\n"
     ]
    }
   ],
   "source": [
    "for i in range(11):\n",
    "\n",
    "    origin_file = f'./HVmodel/data/DA/mix_sample_{i:.1f}.h5'\n",
    "    output_path = f'./HVmodel/data/DA/mix_sample_{i:.1f}_aug_3.h5'\n",
    "\n",
    "    eta_phi_smearing(origin_file, output_path, n=3)"
   ]
  },
  {
   "cell_type": "code",
   "execution_count": 6,
   "metadata": {},
   "outputs": [
    {
     "name": "stdout",
     "output_type": "stream",
     "text": [
      "48289\n"
     ]
    },
    {
     "name": "stderr",
     "output_type": "stream",
     "text": [
      "  0%|          | 0/5 [00:00<?, ?it/s]/tmp/ipykernel_2415367/1105156996.py:29: RuntimeWarning: divide by zero encountered in divide\n",
      "  f_tmp['J1/eta'][:] = remove_inf(np.random.normal(loc=eta1, scale=std_scale/pt1))\n",
      "/tmp/ipykernel_2415367/1105156996.py:30: RuntimeWarning: divide by zero encountered in divide\n",
      "  f_tmp['J2/eta'][:] = remove_inf(np.random.normal(loc=eta2, scale=std_scale/pt2))\n",
      "/tmp/ipykernel_2415367/1105156996.py:31: RuntimeWarning: divide by zero encountered in divide\n",
      "  f_tmp['J1/phi'][:] = std_phi(remove_inf(np.random.normal(loc=phi1, scale=std_scale/pt1)))\n",
      "/tmp/ipykernel_2415367/1105156996.py:32: RuntimeWarning: divide by zero encountered in divide\n",
      "  f_tmp['J2/phi'][:] = std_phi(remove_inf(np.random.normal(loc=phi2, scale=std_scale/pt2)))\n",
      "100%|██████████| 5/5 [00:23<00:00,  4.69s/it]\n"
     ]
    },
    {
     "name": "stdout",
     "output_type": "stream",
     "text": [
      "48465\n"
     ]
    },
    {
     "name": "stderr",
     "output_type": "stream",
     "text": [
      "100%|██████████| 5/5 [00:25<00:00,  5.14s/it]\n"
     ]
    },
    {
     "name": "stdout",
     "output_type": "stream",
     "text": [
      "48643\n"
     ]
    },
    {
     "name": "stderr",
     "output_type": "stream",
     "text": [
      "100%|██████████| 5/5 [00:25<00:00,  5.10s/it]\n"
     ]
    },
    {
     "name": "stdout",
     "output_type": "stream",
     "text": [
      "48819\n"
     ]
    },
    {
     "name": "stderr",
     "output_type": "stream",
     "text": [
      "100%|██████████| 5/5 [00:23<00:00,  4.79s/it]\n"
     ]
    },
    {
     "name": "stdout",
     "output_type": "stream",
     "text": [
      "48997\n"
     ]
    },
    {
     "name": "stderr",
     "output_type": "stream",
     "text": [
      "100%|██████████| 5/5 [00:25<00:00,  5.10s/it]\n"
     ]
    },
    {
     "name": "stdout",
     "output_type": "stream",
     "text": [
      "49174\n"
     ]
    },
    {
     "name": "stderr",
     "output_type": "stream",
     "text": [
      "100%|██████████| 5/5 [01:03<00:00, 12.67s/it]\n"
     ]
    },
    {
     "name": "stdout",
     "output_type": "stream",
     "text": [
      "49351\n"
     ]
    },
    {
     "name": "stderr",
     "output_type": "stream",
     "text": [
      "100%|██████████| 5/5 [02:19<00:00, 27.83s/it]\n"
     ]
    },
    {
     "name": "stdout",
     "output_type": "stream",
     "text": [
      "49528\n"
     ]
    },
    {
     "name": "stderr",
     "output_type": "stream",
     "text": [
      "100%|██████████| 5/5 [01:37<00:00, 19.43s/it]\n"
     ]
    },
    {
     "name": "stdout",
     "output_type": "stream",
     "text": [
      "49705\n"
     ]
    },
    {
     "name": "stderr",
     "output_type": "stream",
     "text": [
      "100%|██████████| 5/5 [01:00<00:00, 12.12s/it]\n"
     ]
    },
    {
     "name": "stdout",
     "output_type": "stream",
     "text": [
      "49883\n"
     ]
    },
    {
     "name": "stderr",
     "output_type": "stream",
     "text": [
      "100%|██████████| 5/5 [00:48<00:00,  9.61s/it]\n"
     ]
    },
    {
     "name": "stdout",
     "output_type": "stream",
     "text": [
      "50060\n"
     ]
    },
    {
     "name": "stderr",
     "output_type": "stream",
     "text": [
      "100%|██████████| 5/5 [00:24<00:00,  4.93s/it]\n"
     ]
    }
   ],
   "source": [
    "for i in range(11):\n",
    "\n",
    "    origin_file = f'./HVmodel/data/DA/mix_sample_{i:.1f}.h5'\n",
    "    output_path = f'./HVmodel/data/DA/mix_sample_{i:.1f}_aug_5.h5'\n",
    "\n",
    "    eta_phi_smearing(origin_file, output_path, n=5)"
   ]
  },
  {
   "cell_type": "markdown",
   "metadata": {},
   "source": [
    "# Plot"
   ]
  },
  {
   "cell_type": "code",
   "execution_count": 6,
   "metadata": {},
   "outputs": [
    {
     "data": {
      "image/png": "[encoded data removed]",
      "text/plain": [
       "<Figure size 500x400 with 1 Axes>"
      ]
     },
     "metadata": {},
     "output_type": "display_data"
    }
   ],
   "source": [
    "fig, ax = plt.subplots(1,1, figsize=(5,4))\n",
    "\n",
    "with h5py.File('./HVmodel/data/DA/mix_sample_1.0.h5', 'r') as f:\n",
    "    M1, M2 = f['J1/MASK'][:], f['J2/MASK'][:]\n",
    "\n",
    "    pt1 = np.concatenate([row[:M1[i].sum()] for i, row in enumerate(f['J1/pt'][:])])\n",
    "    pt2 = np.concatenate([row[:M2[i].sum()] for i, row in enumerate(f['J2/pt'][:])])\n",
    "\n",
    "ax.hist(pt1, bins=100, range=(0,10), histtype='step', label='Leading jet constituents', density=True)\n",
    "ax.hist(pt2, bins=100, range=(0,10), histtype='step', label='Sub-leading jet constituents', density=True)\n",
    "\n",
    "\n",
    "ax.legend()\n",
    "ax.set_xlabel('$p_{\\mathrm{T}}$')\n",
    "ax.set_ylabel('Normalized')\n",
    "ax.legend(frameon=False)\n",
    "\n",
    "# plt.savefig('./figures/eta1_distribution_pt_smearing.pdf', dpi=300, facecolor='White', bbox_inches='tight')\n",
    "plt.show()"
   ]
  },
  {
   "cell_type": "code",
   "execution_count": 8,
   "metadata": {},
   "outputs": [
    {
     "data": {
      "image/png": "[encoded data removed]",
      "text/plain": [
       "<Figure size 500x400 with 1 Axes>"
      ]
     },
     "metadata": {},
     "output_type": "display_data"
    }
   ],
   "source": [
    "fig, ax = plt.subplots(1,1, figsize=(5,4))\n",
    "\n",
    "with h5py.File('./HVmodel/data/DA/mix_sample_1.0.h5', 'r') as f:\n",
    "    M1, M2 = f['J1/MASK'][:], f['J2/MASK'][:]\n",
    "    eta1 = np.concatenate([row[:M1[i].sum()] for i, row in enumerate(f['J1/eta'][:])])\n",
    "ax.hist(eta1, bins=100, range=(-5, 5), histtype='step', label='Origin', density=True)\n",
    "\n",
    "with h5py.File('./HVmodel/data/DA/mix_sample_1.0_aug_3.h5', 'r') as f:\n",
    "    M1, M2 = f['J1/MASK'][:], f['J2/MASK'][:]\n",
    "    eta1 = np.concatenate([row[:M1[i].sum()] for i, row in enumerate(f['J1/eta'][:])])\n",
    "ax.hist(eta1, bins=100, range=(-5, 5), histtype='step', label='$\\eta - \\phi$ smearing', density=True)\n",
    "\n",
    "ax.legend()\n",
    "ax.set_xlabel('$\\eta_1$')\n",
    "ax.set_ylabel('Normalized')\n",
    "ax.legend(frameon=False)\n",
    "\n",
    "# plt.savefig('./figures/eta1_distribution_pt_smearing.pdf', dpi=300, facecolor='White', bbox_inches='tight')\n",
    "plt.show()"
   ]
  },
  {
   "cell_type": "code",
   "execution_count": null,
   "metadata": {},
   "outputs": [],
   "source": []
  }
 ],
 "metadata": {
  "kernelspec": {
   "display_name": "jupyter",
   "language": "python",
   "name": "python3"
  },
  "language_info": {
   "codemirror_mode": {
    "name": "ipython",
    "version": 3
   },
   "file_extension": ".py",
   "mimetype": "text/x-python",
   "name": "python",
   "nbconvert_exporter": "python",
   "pygments_lexer": "ipython3",
   "version": "3.8.16"
  }
 },
 "nbformat": 4,
 "nbformat_minor": 2
}
