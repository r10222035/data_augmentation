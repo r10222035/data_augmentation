{
 "cells": [
  {
   "cell_type": "code",
   "execution_count": 1,
   "metadata": {},
   "outputs": [],
   "source": [
    "import numpy as np"
   ]
  },
  {
   "cell_type": "code",
   "execution_count": 8,
   "metadata": {},
   "outputs": [],
   "source": [
    "# Merge two arrays from npy files\n",
    "\n",
    "def merge_npy(file1, file2, output_file):\n",
    "    a1 = np.load(file1)\n",
    "    a2 = np.load(file2)\n",
    "    c = np.concatenate((a1, a2))\n",
    "    np.save(output_file, c)\n"
   ]
  },
  {
   "cell_type": "code",
   "execution_count": 9,
   "metadata": {},
   "outputs": [
    {
     "name": "stdout",
     "output_type": "stream",
     "text": [
      "./HVmodel/data/new/mix_sample_0.0-data.npy ./HVmodel/data/new/mix_sample_0.0-data.npy ./HVmodel/data/new/mix_sample_0.0_copy_1_no_shuffle-data.npy\n",
      "./HVmodel/data/new/mix_sample_0.0-label.npy ./HVmodel/data/new/mix_sample_0.0-label.npy ./HVmodel/data/new/mix_sample_0.0_copy_1_no_shuffle-label.npy\n",
      "./HVmodel/data/new/mix_sample_1.0-data.npy ./HVmodel/data/new/mix_sample_1.0-data.npy ./HVmodel/data/new/mix_sample_1.0_copy_1_no_shuffle-data.npy\n",
      "./HVmodel/data/new/mix_sample_1.0-label.npy ./HVmodel/data/new/mix_sample_1.0-label.npy ./HVmodel/data/new/mix_sample_1.0_copy_1_no_shuffle-label.npy\n",
      "./HVmodel/data/new/mix_sample_2.0-data.npy ./HVmodel/data/new/mix_sample_2.0-data.npy ./HVmodel/data/new/mix_sample_2.0_copy_1_no_shuffle-data.npy\n",
      "./HVmodel/data/new/mix_sample_2.0-label.npy ./HVmodel/data/new/mix_sample_2.0-label.npy ./HVmodel/data/new/mix_sample_2.0_copy_1_no_shuffle-label.npy\n",
      "./HVmodel/data/new/mix_sample_3.0-data.npy ./HVmodel/data/new/mix_sample_3.0-data.npy ./HVmodel/data/new/mix_sample_3.0_copy_1_no_shuffle-data.npy\n",
      "./HVmodel/data/new/mix_sample_3.0-label.npy ./HVmodel/data/new/mix_sample_3.0-label.npy ./HVmodel/data/new/mix_sample_3.0_copy_1_no_shuffle-label.npy\n",
      "./HVmodel/data/new/mix_sample_4.0-data.npy ./HVmodel/data/new/mix_sample_4.0-data.npy ./HVmodel/data/new/mix_sample_4.0_copy_1_no_shuffle-data.npy\n",
      "./HVmodel/data/new/mix_sample_4.0-label.npy ./HVmodel/data/new/mix_sample_4.0-label.npy ./HVmodel/data/new/mix_sample_4.0_copy_1_no_shuffle-label.npy\n",
      "./HVmodel/data/new/mix_sample_5.0-data.npy ./HVmodel/data/new/mix_sample_5.0-data.npy ./HVmodel/data/new/mix_sample_5.0_copy_1_no_shuffle-data.npy\n",
      "./HVmodel/data/new/mix_sample_5.0-label.npy ./HVmodel/data/new/mix_sample_5.0-label.npy ./HVmodel/data/new/mix_sample_5.0_copy_1_no_shuffle-label.npy\n",
      "./HVmodel/data/new/mix_sample_6.0-data.npy ./HVmodel/data/new/mix_sample_6.0-data.npy ./HVmodel/data/new/mix_sample_6.0_copy_1_no_shuffle-data.npy\n",
      "./HVmodel/data/new/mix_sample_6.0-label.npy ./HVmodel/data/new/mix_sample_6.0-label.npy ./HVmodel/data/new/mix_sample_6.0_copy_1_no_shuffle-label.npy\n",
      "./HVmodel/data/new/mix_sample_7.0-data.npy ./HVmodel/data/new/mix_sample_7.0-data.npy ./HVmodel/data/new/mix_sample_7.0_copy_1_no_shuffle-data.npy\n",
      "./HVmodel/data/new/mix_sample_7.0-label.npy ./HVmodel/data/new/mix_sample_7.0-label.npy ./HVmodel/data/new/mix_sample_7.0_copy_1_no_shuffle-label.npy\n",
      "./HVmodel/data/new/mix_sample_8.0-data.npy ./HVmodel/data/new/mix_sample_8.0-data.npy ./HVmodel/data/new/mix_sample_8.0_copy_1_no_shuffle-data.npy\n",
      "./HVmodel/data/new/mix_sample_8.0-label.npy ./HVmodel/data/new/mix_sample_8.0-label.npy ./HVmodel/data/new/mix_sample_8.0_copy_1_no_shuffle-label.npy\n",
      "./HVmodel/data/new/mix_sample_9.0-data.npy ./HVmodel/data/new/mix_sample_9.0-data.npy ./HVmodel/data/new/mix_sample_9.0_copy_1_no_shuffle-data.npy\n",
      "./HVmodel/data/new/mix_sample_9.0-label.npy ./HVmodel/data/new/mix_sample_9.0-label.npy ./HVmodel/data/new/mix_sample_9.0_copy_1_no_shuffle-label.npy\n",
      "./HVmodel/data/new/mix_sample_10.0-data.npy ./HVmodel/data/new/mix_sample_10.0-data.npy ./HVmodel/data/new/mix_sample_10.0_copy_1_no_shuffle-data.npy\n",
      "./HVmodel/data/new/mix_sample_10.0-label.npy ./HVmodel/data/new/mix_sample_10.0-label.npy ./HVmodel/data/new/mix_sample_10.0_copy_1_no_shuffle-label.npy\n"
     ]
    }
   ],
   "source": [
    "for i in range(11):\n",
    "    file1 = f'./HVmodel/data/new/mix_sample_{i:.1f}-data.npy'\n",
    "    file2 = f'./HVmodel/data/new/mix_sample_{i:.1f}-data.npy'\n",
    "    output_file = f'./HVmodel/data/new/mix_sample_{i:.1f}_copy_1_no_shuffle-data.npy'\n",
    "\n",
    "    print(file1, file2, output_file)\n",
    "    merge_npy(file1, file2, output_file)\n",
    "\n",
    "    file1 = f'./HVmodel/data/new/mix_sample_{i:.1f}-label.npy'\n",
    "    file2 = f'./HVmodel/data/new/mix_sample_{i:.1f}-label.npy'\n",
    "    output_file = f'./HVmodel/data/new/mix_sample_{i:.1f}_copy_1_no_shuffle-label.npy'\n",
    "\n",
    "    print(file1, file2, output_file)\n",
    "    merge_npy(file1, file2, output_file)"
   ]
  },
  {
   "cell_type": "code",
   "execution_count": null,
   "metadata": {},
   "outputs": [],
   "source": []
  }
 ],
 "metadata": {
  "kernelspec": {
   "display_name": "jupyter",
   "language": "python",
   "name": "python3"
  },
  "language_info": {
   "codemirror_mode": {
    "name": "ipython",
    "version": 3
   },
   "file_extension": ".py",
   "mimetype": "text/x-python",
   "name": "python",
   "nbconvert_exporter": "python",
   "pygments_lexer": "ipython3",
   "version": "3.8.16"
  }
 },
 "nbformat": 4,
 "nbformat_minor": 2
}
