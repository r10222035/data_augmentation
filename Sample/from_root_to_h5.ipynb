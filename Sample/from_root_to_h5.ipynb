{
 "cells": [
  {
   "cell_type": "code",
   "execution_count": 1,
   "metadata": {},
   "outputs": [
    {
     "name": "stdout",
     "output_type": "stream",
     "text": [
      "Welcome to JupyROOT 6.20/08\n"
     ]
    }
   ],
   "source": [
    "import h5py\n",
    "import ROOT\n",
    "\n",
    "import numpy as np\n",
    "import matplotlib.pyplot as plt\n",
    "import multiprocessing as mp\n",
    "\n",
    "from tqdm import tqdm\n",
    "from itertools import repeat\n",
    "\n",
    "ROOT.gROOT.ProcessLine('.include /usr/local/Delphes-3.4.2/')\n",
    "ROOT.gROOT.ProcessLine('.include /usr/local/Delphes-3.4.2/external/')\n",
    "ROOT.gInterpreter.Declare('#include \"/usr/local/Delphes-3.4.2/classes/DelphesClasses.h\"')\n",
    "ROOT.gInterpreter.Declare('#include \"/usr/local/Delphes-3.4.2/external/ExRootAnalysis/ExRootTreeReader.h\"')\n",
    "ROOT.gInterpreter.Declare('#include \"/usr/local/Delphes-3.4.2/external/ExRootAnalysis/ExRootConfReader.h\"')\n",
    "ROOT.gInterpreter.Declare('#include \"/usr/local/Delphes-3.4.2/external/ExRootAnalysis/ExRootTask.h\"')\n",
    "ROOT.gSystem.Load(\"/usr/local/Delphes-3.4.2/install/lib/libDelphes\")\n",
    "\n",
    "MAX_JETS = 300\n",
    "N_CORES = 8"
   ]
  },
  {
   "cell_type": "code",
   "execution_count": 2,
   "metadata": {},
   "outputs": [],
   "source": [
    "def Mjets(*arg):\n",
    "    # arg: list of jets\n",
    "    # return: invariant mass of jets\n",
    "    e_tot, px_tot, py_tot, pz_tot = 0, 0, 0, 0\n",
    "    \n",
    "    for jet in arg:\n",
    "        pt, eta, phi, m = jet[0], jet[1], jet[2], jet[3]\n",
    "        \n",
    "        px, py, pz = pt*np.cos(phi), pt*np.sin(phi), pt*np.sinh(eta)\n",
    "        e = np.sqrt(m**2 + px**2 + py**2 + pz**2)\n",
    "        \n",
    "        px_tot += px\n",
    "        py_tot += py\n",
    "        pz_tot += pz\n",
    "        e_tot += e\n",
    "    \n",
    "    return np.sqrt(e_tot**2 - px_tot**2 - py_tot**2 - pz_tot**2)"
   ]
  },
  {
   "cell_type": "markdown",
   "metadata": {},
   "source": [
    "# Basic Information"
   ]
  },
  {
   "cell_type": "code",
   "execution_count": 3,
   "metadata": {},
   "outputs": [],
   "source": [
    "def get_number_of_constituents(tree):\n",
    "    # Hidden Valley model selection\n",
    "    # 1. 2 jets\n",
    "    # 2. pT > 750 GeV\n",
    "    # 3. |eta| < 2.0\n",
    "    # 4. 4300 < Mjj < 5900 GeV\n",
    "    \n",
    "    n_consti = [[],[]]\n",
    "\n",
    "    for event_id, event in tqdm(enumerate(tree)):\n",
    "\n",
    "        if event.Jet_size < 2:\n",
    "            continue\n",
    "\n",
    "        if event.Jet[1].PT < 750:\n",
    "            continue\n",
    "\n",
    "        if abs(event.Jet[0].Eta) > 2.0 or abs(event.Jet[1].Eta) > 2.0:\n",
    "            continue\n",
    "\n",
    "        jets = [[event.Jet[i].PT, event.Jet[i].Eta, event.Jet[i].Phi, event.Jet[i].Mass] for i in range(2)]\n",
    "        mjj = Mjets(*jets)\n",
    "\n",
    "        if mjj < 4300 or mjj > 5900:\n",
    "            continue\n",
    "\n",
    "        # Get number of constituents\n",
    "        constituents = [consti for consti in event.Jet[0].Constituents if consti != 0]\n",
    "        n_consti[0].append(len(constituents))\n",
    "\n",
    "        constituents = [consti for consti in event.Jet[1].Constituents if consti != 0]\n",
    "        n_consti[1].append(len(constituents))\n",
    "\n",
    "    return n_consti"
   ]
  },
  {
   "cell_type": "code",
   "execution_count": 4,
   "metadata": {},
   "outputs": [
    {
     "name": "stderr",
     "output_type": "stream",
     "text": [
      "100000it [03:15, 511.12it/s]\n"
     ]
    }
   ],
   "source": [
    "root_file = '../../Software/pythia8307/HVmodel/test_100k.root'\n",
    "f = ROOT.TFile(root_file)\n",
    "tree_s = f.Get(\"Delphes\")\n",
    "\n",
    "n_consti_s = get_number_of_constituents(tree_s)"
   ]
  },
  {
   "cell_type": "code",
   "execution_count": 5,
   "metadata": {},
   "outputs": [
    {
     "data": {
      "image/png": "[encoded data removed]",
      "text/plain": [
       "<Figure size 500x400 with 1 Axes>"
      ]
     },
     "metadata": {},
     "output_type": "display_data"
    }
   ],
   "source": [
    "fig, ax = plt.subplots(1,1,figsize=(5,4))\n",
    "ax.hist(n_consti_s[0], bins=100, histtype='step')\n",
    "ax.hist(n_consti_s[1], bins=100, histtype='step')\n",
    "plt.show()"
   ]
  },
  {
   "cell_type": "markdown",
   "metadata": {},
   "source": [
    "# From .root to .h5"
   ]
  },
  {
   "cell_type": "code",
   "execution_count": 3,
   "metadata": {},
   "outputs": [],
   "source": [
    "# HDF5\n",
    "def create_dataset(f, nevent, MAX_JETS):\n",
    "\n",
    "    f.create_dataset('J1/MASK', (nevent, MAX_JETS), maxshape=(None, MAX_JETS), dtype='|b1')\n",
    "    f.create_dataset('J1/pt', (nevent, MAX_JETS), maxshape=(None, MAX_JETS), dtype='<f4')\n",
    "    f.create_dataset('J1/eta', (nevent, MAX_JETS), maxshape=(None, MAX_JETS), dtype='<f4')\n",
    "    f.create_dataset('J1/phi', (nevent, MAX_JETS), maxshape=(None, MAX_JETS), dtype='<f4')\n",
    "\n",
    "    f.create_dataset('J2/MASK', (nevent, MAX_JETS), maxshape=(None, MAX_JETS), dtype='|b1')\n",
    "    f.create_dataset('J2/pt', (nevent, MAX_JETS), maxshape=(None, MAX_JETS), dtype='<f4')\n",
    "    f.create_dataset('J2/eta', (nevent, MAX_JETS), maxshape=(None, MAX_JETS), dtype='<f4')\n",
    "    f.create_dataset('J2/phi', (nevent, MAX_JETS), maxshape=(None, MAX_JETS), dtype='<f4')\n",
    "\n",
    "    f.create_dataset('EVENT/Mjj', (nevent,), maxshape=(None,), dtype='<f4')\n",
    "    f.create_dataset('EVENT/signal', (nevent,), maxshape=(None,), dtype='<i8')\n",
    "\n",
    "\n",
    "def write_dataset(file, data: list):\n",
    "    nevent = len(data)\n",
    "    \n",
    "    for key in data[0].keys():\n",
    "        # Resize\n",
    "        shape = list(file[key].shape)\n",
    "        shape[0] = nevent\n",
    "        file[key].resize(shape)\n",
    "        # Write\n",
    "        value = np.array([data_dict[key] for data_dict in data])\n",
    "        file[key][:] = value\n",
    "\n",
    "\n",
    "def get_dataset_keys(f):\n",
    "    keys = []\n",
    "    f.visit(lambda key : keys.append(key) if isinstance(f[key], h5py.Dataset) else None)\n",
    "    return keys\n"
   ]
  },
  {
   "cell_type": "code",
   "execution_count": 4,
   "metadata": {},
   "outputs": [],
   "source": [
    "def get_pt_eta_phi(constituents):\n",
    "    pts = np.array([consti.PT if hasattr(consti, 'PT') else consti.ET for consti in constituents])\n",
    "    etas = np.array([consti.Eta for consti in constituents])\n",
    "    phis = np.array([consti.Phi for consti in constituents])\n",
    "    return pts, etas, phis\n",
    "\n",
    "\n",
    "def select_event(root_path, sample_type, start, end):\n",
    "    # Hidden Valley model selection\n",
    "    # 1. 2 jets\n",
    "    # 2. pT > 750 GeV\n",
    "    # 3. |eta| < 2.0\n",
    "    # 4. 4300 < Mjj < 5900 GeV\n",
    "\n",
    "    f = ROOT.TFile(root_path)\n",
    "    tree = f.Get(\"Delphes\")\n",
    "\n",
    "    data_list = []\n",
    "    for i in tqdm(range(start, end)):\n",
    "        tree.GetEntry(i)\n",
    "\n",
    "        if tree.Jet_size < 2:\n",
    "            continue\n",
    "\n",
    "        if tree.Jet[1].PT < 750:\n",
    "            continue\n",
    "\n",
    "        if abs(tree.Jet[0].Eta) > 2.0 or abs(tree.Jet[1].Eta) > 2.0:\n",
    "            continue\n",
    "\n",
    "        jets = [[tree.Jet[i].PT, tree.Jet[i].Eta, tree.Jet[i].Phi, tree.Jet[i].Mass] for i in range(2)]\n",
    "        mjj = Mjets(*jets)\n",
    "\n",
    "        if mjj < 4300 or mjj > 5900:\n",
    "            continue\n",
    "\n",
    "        # get jet constituents\n",
    "        constituents = [consti for consti in tree.Jet[0].Constituents if consti != 0]\n",
    "        n_consti_1 = len(constituents)\n",
    "        PT1, Eta1, Phi1 = get_pt_eta_phi(constituents)\n",
    "\n",
    "        constituents = [consti for consti in tree.Jet[1].Constituents if consti != 0]\n",
    "        n_consti_2 = len(constituents)\n",
    "        PT2, Eta2, Phi2 = get_pt_eta_phi(constituents)\n",
    "\n",
    "        if n_consti_1 < 5 or n_consti_2 < 5:\n",
    "            continue\n",
    "\n",
    "        # 準備寫入資料\n",
    "        data_dict = {\n",
    "            'J1/MASK': np.arange(MAX_JETS) < n_consti_1,\n",
    "            'J1/pt': PT1[:MAX_JETS] if n_consti_1 > MAX_JETS else np.pad(PT1, (0, MAX_JETS-n_consti_1)),\n",
    "            'J1/eta': Eta1[:MAX_JETS] if n_consti_1 > MAX_JETS else np.pad(Eta1, (0, MAX_JETS-n_consti_1)),\n",
    "            'J1/phi': Phi1[:MAX_JETS] if n_consti_1 > MAX_JETS else np.pad(Phi1, (0, MAX_JETS-n_consti_1)),\n",
    "\n",
    "            'J2/MASK': np.arange(MAX_JETS) < n_consti_2,\n",
    "            'J2/pt': PT2[:MAX_JETS] if n_consti_2 > MAX_JETS else np.pad(PT2, (0, MAX_JETS-n_consti_2)),\n",
    "            'J2/eta': Eta2[:MAX_JETS] if n_consti_2 > MAX_JETS else np.pad(Eta2, (0, MAX_JETS-n_consti_2)),\n",
    "            'J2/phi': Phi2[:MAX_JETS] if n_consti_2 > MAX_JETS else np.pad(Phi2, (0, MAX_JETS-n_consti_2)),\n",
    "\n",
    "            'EVENT/Mjj': mjj,\n",
    "            'EVENT/signal': sample_type,\n",
    "        }\n",
    "        data_list.append(data_dict)\n",
    "\n",
    "    return data_list\n",
    "\n",
    "\n",
    "def from_root_to_h5(root_path, output_path, sample_type):\n",
    "    # Select events and save the jets information to h5 file\n",
    "\n",
    "    # Get number of events\n",
    "    f = ROOT.TFile(root_path)\n",
    "    nevent = f.Get(\"Delphes\").GetEntries()\n",
    "    print(f'Number of events: {nevent}')\n",
    "\n",
    "    # Multi-core processing\n",
    "    print(f'Number of cores: {N_CORES}')\n",
    "    start = [nevent // N_CORES * i for i in range(N_CORES)]\n",
    "    end = [nevent // N_CORES * (i+1) for i in range(N_CORES)]\n",
    "    end[-1] = nevent\n",
    "\n",
    "    with mp.Pool(processes=N_CORES) as pool:\n",
    "        results = pool.starmap(select_event, zip(repeat(root_path), repeat(sample_type), start, end))\n",
    "    data_list = [data_dict for result_list in results for data_dict in result_list]\n",
    "\n",
    "    # write to h5 file\n",
    "    with h5py.File(output_path, 'w') as f_out:\n",
    "        create_dataset(f_out, nevent, MAX_JETS)\n",
    "        write_dataset(f_out, data_list)"
   ]
  },
  {
   "cell_type": "code",
   "execution_count": 6,
   "metadata": {},
   "outputs": [
    {
     "name": "stdout",
     "output_type": "stream",
     "text": [
      "Number of events: 10000\n",
      "Number of cores: 8\n"
     ]
    },
    {
     "name": "stderr",
     "output_type": "stream",
     "text": [
      "100%|██████████| 1250/1250 [00:03<00:00, 406.69it/s]\n",
      "100%|██████████| 1250/1250 [00:03<00:00, 396.99it/s]\n",
      "100%|██████████| 1250/1250 [00:03<00:00, 393.82it/s]\n",
      " 97%|█████████▋| 1210/1250 [00:03<00:00, 404.54it/s]\n",
      "100%|██████████| 1250/1250 [00:03<00:00, 385.12it/s]\n",
      "100%|██████████| 1250/1250 [00:03<00:00, 384.82it/s]\n",
      "100%|██████████| 1250/1250 [00:03<00:00, 370.88it/s]\n",
      "100%|██████████| 1250/1250 [00:03<00:00, 366.93it/s]\n"
     ]
    }
   ],
   "source": [
    "root_file = '../../Software/pythia8307/HVmodel/test.root'\n",
    "output_path = './HVmodel/data/test-new.h5'\n",
    "sample_type = 1\n",
    "\n",
    "from_root_to_h5(root_file, output_path, sample_type)"
   ]
  }
 ],
 "metadata": {
  "kernelspec": {
   "display_name": "jupyter",
   "language": "python",
   "name": "python3"
  },
  "language_info": {
   "codemirror_mode": {
    "name": "ipython",
    "version": 3
   },
   "file_extension": ".py",
   "mimetype": "text/x-python",
   "name": "python",
   "nbconvert_exporter": "python",
   "pygments_lexer": "ipython3",
   "version": "3.8.16"
  }
 },
 "nbformat": 4,
 "nbformat_minor": 2
}
