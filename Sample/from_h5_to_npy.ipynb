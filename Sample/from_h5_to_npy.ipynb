{
 "cells": [
  {
   "cell_type": "code",
   "execution_count": 1,
   "metadata": {},
   "outputs": [],
   "source": [
    "import os\n",
    "import h5py\n",
    "import random\n",
    "import numpy as np"
   ]
  },
  {
   "cell_type": "code",
   "execution_count": 2,
   "metadata": {},
   "outputs": [],
   "source": [
    "def std_phi(phi):\n",
    "    # return the phi in range [-pi, pi]\n",
    "    while np.any(phi > np.pi):\n",
    "        phi[phi > np.pi] -= 2 * np.pi\n",
    "    while np.any(phi < -np.pi):\n",
    "        phi[phi < -np.pi] += 2 * np.pi\n",
    "    return phi\n",
    "\n",
    "def quadrant_max_vectorized(eta, phi, pt):\n",
    "        # 建立條件列表\n",
    "        # eta, phi shape: (n_events, n_constituents)\n",
    "        # pt_quadrants shape: (n_events, 4)\n",
    "        conditions = [\n",
    "            (eta > 0) & (phi > 0),\n",
    "            (eta > 0) & (phi < 0),\n",
    "            (eta < 0) & (phi < 0),\n",
    "            (eta < 0) & (phi > 0)\n",
    "        ]\n",
    "\n",
    "        # 建立輸出陣列\n",
    "        pt_quadrants = np.zeros((eta.shape[0], 4))\n",
    "\n",
    "        # 對每個象限進行操作\n",
    "        for i, condition in enumerate(conditions):\n",
    "            pt_quadrants[:, i] = np.sum(np.where(condition, pt, 0), axis=1)\n",
    "\n",
    "        return pt_quadrants\n",
    "\n",
    "def preprocess(pts, etas, phis):\n",
    "    \n",
    "    variances = np.var(phis, axis=1)\n",
    "    phis = np.where((variances > 0.5)[:,None], phis + np.pi, phis)\n",
    "    phis = std_phi(phis)\n",
    "\n",
    "    # compute pt weighted center\n",
    "    # eta_central shape: (n_events, 1)\n",
    "    eta_central = ((pts * etas).sum(axis=1) / pts.sum(axis=1))[:,None]\n",
    "    phi_central = ((pts * phis).sum(axis=1) / pts.sum(axis=1))[:,None]\n",
    "\n",
    "    # compute rotation angle\n",
    "    s_etaeta = (pts * (etas - eta_central)**2).sum(axis=1) / pts.sum(axis=1)\n",
    "    s_phiphi = (pts * (phis - phi_central)**2).sum(axis=1) / pts.sum(axis=1)\n",
    "    s_etaphi = (pts * (etas - eta_central) * (phis - phi_central)).sum(axis=1) / pts.sum(axis=1)\n",
    "\n",
    "    angle = -np.arctan2(-s_etaeta + s_phiphi + np.sqrt((s_etaeta - s_phiphi)**2 + 4. * s_etaphi**2), 2.*s_etaphi)[:,None]\n",
    "\n",
    "    eta_shift, phi_shift = etas - eta_central, std_phi(phis - phi_central)\n",
    "    eta_rotat, phi_rotat = eta_shift * np.cos(angle) - phi_shift * np.sin(angle), phi_shift * np.cos(angle) + eta_shift * np.sin(angle)\n",
    "\n",
    "    pt_quadrants = quadrant_max_vectorized(eta_rotat, phi_rotat, pts)\n",
    "\n",
    "    phi_flip = np.where((np.argmax(pt_quadrants, axis=1) == 1) | (np.argmax(pt_quadrants, axis=1) == 2), -1., 1.)[:,None]\n",
    "    eta_flip = np.where((np.argmax(pt_quadrants, axis=1) == 2) | (np.argmax(pt_quadrants, axis=1) == 3), -1., 1.)[:,None]\n",
    "\n",
    "    eta_news = eta_rotat * eta_flip\n",
    "    phi_news = phi_rotat * phi_flip\n",
    "\n",
    "    return pts, eta_news, phi_news"
   ]
  },
  {
   "cell_type": "code",
   "execution_count": 3,
   "metadata": {},
   "outputs": [],
   "source": [
    "def from_h5_to_npy(h5_path, output_path, res=75):\n",
    "    # Generate the jet image from h5 file and save it to npy file\n",
    "    # res: resolution of the jet image\n",
    "    with h5py.File(h5_path, 'r') as f:\n",
    "\n",
    "        print('Preprocessing J1')\n",
    "        _, eta1, phi1 = preprocess(f['J1/pt'][:], f['J1/eta'][:], f['J1/phi'][:])\n",
    "        print('Preprocessing J2')\n",
    "        _, eta2, phi2 = preprocess(f['J2/pt'][:], f['J2/eta'][:], f['J2/phi'][:])\n",
    "\n",
    "\n",
    "        print('Computing the histogram')\n",
    "        nevent = f['EVENT/signal'].shape[0]\n",
    "\n",
    "        # 計算 bin 的邊界\n",
    "        bins_eta = np.linspace(-1.0, 1.0, res + 1)\n",
    "        bins_phi = np.linspace(-1.0, 1.0, res + 1)\n",
    "\n",
    "        # 計算每個數據點在直方圖中的位置\n",
    "        # shape: (nevent, MAX_JETS)\n",
    "        bin_idx_eta0 = np.digitize(eta1, bins_eta) - 1\n",
    "        bin_idx_phi0 = np.digitize(phi1, bins_phi) - 1\n",
    "        bin_idx_eta1 = np.digitize(eta2, bins_eta) - 1\n",
    "        bin_idx_phi1 = np.digitize(phi2, bins_phi) - 1\n",
    "\n",
    "        # 計算每個 bin 的權重總和\n",
    "        hpT0 = np.zeros((nevent, res + 1, res + 1))\n",
    "        hpT1 = np.zeros((nevent, res + 1, res + 1))\n",
    "        np.add.at(hpT0, (np.arange(nevent)[:, None], bin_idx_eta0, bin_idx_phi0), f['J1/pt'])\n",
    "        np.add.at(hpT1, (np.arange(nevent)[:, None], bin_idx_eta1, bin_idx_phi1), f['J2/pt'])\n",
    "\n",
    "        hpT0 = hpT0[:,:res,:res]\n",
    "        hpT1 = hpT1[:,:res,:res]\n",
    "  \n",
    "        # 將結果堆疊起來\n",
    "        # data shpae: (nevent, res, res, 2)\n",
    "        # label shape: (nevent,)\n",
    "        data = np.stack([hpT0, hpT1], axis=-1)\n",
    "        label = f['EVENT/signal'][:]\n",
    "\n",
    "    # shuffle\n",
    "    ind_list = list(range(len(label)))\n",
    "    random.shuffle(ind_list)\n",
    "\n",
    "    data = data[ind_list]\n",
    "    label = label[ind_list]\n",
    "\n",
    "    root, _ = os.path.splitext(output_path)\n",
    "\n",
    "    print(f'Saving data to {root}-data.npy')\n",
    "    np.save(f'{root}-data.npy', data)\n",
    "    np.save(f'{root}-label.npy', label)"
   ]
  },
  {
   "cell_type": "code",
   "execution_count": 4,
   "metadata": {},
   "outputs": [
    {
     "name": "stdout",
     "output_type": "stream",
     "text": [
      "python from_h5_to_npy.py ./HVmodel/data/DA/mix_sample_0.0_aug_1.h5 ./HVmodel/data/DA/mix_sample_0.0_aug_1.npy &\n",
      "python from_h5_to_npy.py ./HVmodel/data/DA/mix_sample_1.0_aug_1.h5 ./HVmodel/data/DA/mix_sample_1.0_aug_1.npy &\n",
      "python from_h5_to_npy.py ./HVmodel/data/DA/mix_sample_2.0_aug_1.h5 ./HVmodel/data/DA/mix_sample_2.0_aug_1.npy &\n",
      "python from_h5_to_npy.py ./HVmodel/data/DA/mix_sample_3.0_aug_1.h5 ./HVmodel/data/DA/mix_sample_3.0_aug_1.npy &\n",
      "python from_h5_to_npy.py ./HVmodel/data/DA/mix_sample_4.0_aug_1.h5 ./HVmodel/data/DA/mix_sample_4.0_aug_1.npy &\n",
      "python from_h5_to_npy.py ./HVmodel/data/DA/mix_sample_5.0_aug_1.h5 ./HVmodel/data/DA/mix_sample_5.0_aug_1.npy &\n",
      "python from_h5_to_npy.py ./HVmodel/data/DA/mix_sample_6.0_aug_1.h5 ./HVmodel/data/DA/mix_sample_6.0_aug_1.npy &\n",
      "python from_h5_to_npy.py ./HVmodel/data/DA/mix_sample_7.0_aug_1.h5 ./HVmodel/data/DA/mix_sample_7.0_aug_1.npy &\n",
      "python from_h5_to_npy.py ./HVmodel/data/DA/mix_sample_8.0_aug_1.h5 ./HVmodel/data/DA/mix_sample_8.0_aug_1.npy &\n",
      "python from_h5_to_npy.py ./HVmodel/data/DA/mix_sample_9.0_aug_1.h5 ./HVmodel/data/DA/mix_sample_9.0_aug_1.npy &\n",
      "python from_h5_to_npy.py ./HVmodel/data/DA/mix_sample_10.0_aug_1.h5 ./HVmodel/data/DA/mix_sample_10.0_aug_1.npy &\n"
     ]
    }
   ],
   "source": [
    "for i in range(11):\n",
    "    h5_path = f'./HVmodel/data/DA/mix_sample_{i:.1f}_aug_1.h5'\n",
    "    output_path = f'./HVmodel/data/DA/mix_sample_{i:.1f}_aug_1.npy'\n",
    "\n",
    "    cmd = f'python from_h5_to_npy.py {h5_path} {output_path} &'\n",
    "    print(cmd)"
   ]
  },
  {
   "cell_type": "code",
   "execution_count": 5,
   "metadata": {},
   "outputs": [
    {
     "name": "stdout",
     "output_type": "stream",
     "text": [
      "python from_h5_to_npy.py ./HVmodel/data/DA/mix_sample_0.0_x2.h5 ./HVmodel/data/DA/mix_sample_0.0_x2.npy &\n",
      "python from_h5_to_npy.py ./HVmodel/data/DA/mix_sample_1.0_x2.h5 ./HVmodel/data/DA/mix_sample_1.0_x2.npy &\n",
      "python from_h5_to_npy.py ./HVmodel/data/DA/mix_sample_2.0_x2.h5 ./HVmodel/data/DA/mix_sample_2.0_x2.npy &\n",
      "python from_h5_to_npy.py ./HVmodel/data/DA/mix_sample_3.0_x2.h5 ./HVmodel/data/DA/mix_sample_3.0_x2.npy &\n",
      "python from_h5_to_npy.py ./HVmodel/data/DA/mix_sample_4.0_x2.h5 ./HVmodel/data/DA/mix_sample_4.0_x2.npy &\n",
      "python from_h5_to_npy.py ./HVmodel/data/DA/mix_sample_5.0_x2.h5 ./HVmodel/data/DA/mix_sample_5.0_x2.npy &\n",
      "python from_h5_to_npy.py ./HVmodel/data/DA/mix_sample_6.0_x2.h5 ./HVmodel/data/DA/mix_sample_6.0_x2.npy &\n",
      "python from_h5_to_npy.py ./HVmodel/data/DA/mix_sample_7.0_x2.h5 ./HVmodel/data/DA/mix_sample_7.0_x2.npy &\n",
      "python from_h5_to_npy.py ./HVmodel/data/DA/mix_sample_8.0_x2.h5 ./HVmodel/data/DA/mix_sample_8.0_x2.npy &\n",
      "python from_h5_to_npy.py ./HVmodel/data/DA/mix_sample_9.0_x2.h5 ./HVmodel/data/DA/mix_sample_9.0_x2.npy &\n",
      "python from_h5_to_npy.py ./HVmodel/data/DA/mix_sample_10.0_x2.h5 ./HVmodel/data/DA/mix_sample_10.0_x2.npy &\n"
     ]
    }
   ],
   "source": [
    "for i in range(11):\n",
    "    h5_path = f'./HVmodel/data/DA/mix_sample_{i:.1f}_x2.h5'\n",
    "    output_path = f'./HVmodel/data/DA/mix_sample_{i:.1f}_x2.npy'\n",
    "\n",
    "    cmd = f'python from_h5_to_npy.py {h5_path} {output_path} &'\n",
    "    print(cmd)"
   ]
  },
  {
   "cell_type": "code",
   "execution_count": 6,
   "metadata": {},
   "outputs": [
    {
     "name": "stdout",
     "output_type": "stream",
     "text": [
      "Preprocessing J1\n",
      "Preprocessing J2\n",
      "Computing the histogram\n",
      "Saving data to ./HVmodel/data/DA/mix_sample_10.0-data.npy\n"
     ]
    }
   ],
   "source": [
    "h5_path = f'./HVmodel/data/DA/mix_sample_10.0.h5'\n",
    "output_path = f'./HVmodel/data/DA/mix_sample_10.0.npy'\n",
    "from_h5_to_npy(h5_path, output_path)"
   ]
  },
  {
   "cell_type": "code",
   "execution_count": 7,
   "metadata": {},
   "outputs": [
    {
     "name": "stdout",
     "output_type": "stream",
     "text": [
      "Preprocessing J1\n",
      "Preprocessing J2\n",
      "Computing the histogram\n",
      "Saving data to ./HVmodel/data/DA/signal-data.npy\n"
     ]
    }
   ],
   "source": [
    "h5_path = f'./HVmodel/data/DA/signal.h5'\n",
    "output_path = f'./HVmodel/data/DA/signal.npy'\n",
    "from_h5_to_npy(h5_path, output_path)"
   ]
  },
  {
   "cell_type": "code",
   "execution_count": null,
   "metadata": {},
   "outputs": [],
   "source": []
  }
 ],
 "metadata": {
  "kernelspec": {
   "display_name": "jupyter",
   "language": "python",
   "name": "python3"
  },
  "language_info": {
   "codemirror_mode": {
    "name": "ipython",
    "version": 3
   },
   "file_extension": ".py",
   "mimetype": "text/x-python",
   "name": "python",
   "nbconvert_exporter": "python",
   "pygments_lexer": "ipython3",
   "version": "3.8.16"
  }
 },
 "nbformat": 4,
 "nbformat_minor": 2
}
