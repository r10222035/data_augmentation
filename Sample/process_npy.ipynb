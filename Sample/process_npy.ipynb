{
 "cells": [
  {
   "cell_type": "code",
   "execution_count": 1,
   "metadata": {},
   "outputs": [],
   "source": [
    "import os\n",
    "import numpy as np"
   ]
  },
  {
   "cell_type": "code",
   "execution_count": 2,
   "metadata": {},
   "outputs": [],
   "source": [
    "# Split an array into two arrays and save them as npy files\n",
    "def split_npy(input_file, split_ratio=0.5, output_file1=None, output_file2=None):\n",
    "    root, ext = os.path.splitext(input_file)\n",
    "    if output_file1 is None:\n",
    "        output_file1 = root + '_split1' + ext\n",
    "    if output_file2 is None:\n",
    "        output_file2 = root + '_split2' + ext\n",
    "\n",
    "    a = np.load(input_file)\n",
    "    split_index = int(len(a) * split_ratio)\n",
    "    a1 = a[:split_index]\n",
    "    a2 = a[split_index:]\n",
    "    np.save(output_file1, a1)\n",
    "    np.save(output_file2, a2)\n",
    "\n",
    "# Merge two arrays from npy files\n",
    "def merge_npy(file1, file2, output_file):\n",
    "    a1 = np.load(file1)\n",
    "    a2 = np.load(file2)\n",
    "    c = np.concatenate((a1, a2))\n",
    "    np.save(output_file, c)"
   ]
  },
  {
   "cell_type": "code",
   "execution_count": 9,
   "metadata": {},
   "outputs": [
    {
     "name": "stdout",
     "output_type": "stream",
     "text": [
      "./HVmodel/data/new/mix_sample_0.0-data.npy ./HVmodel/data/new/mix_sample_0.0-data.npy ./HVmodel/data/new/mix_sample_0.0_copy_1_no_shuffle-data.npy\n",
      "./HVmodel/data/new/mix_sample_0.0-label.npy ./HVmodel/data/new/mix_sample_0.0-label.npy ./HVmodel/data/new/mix_sample_0.0_copy_1_no_shuffle-label.npy\n",
      "./HVmodel/data/new/mix_sample_1.0-data.npy ./HVmodel/data/new/mix_sample_1.0-data.npy ./HVmodel/data/new/mix_sample_1.0_copy_1_no_shuffle-data.npy\n",
      "./HVmodel/data/new/mix_sample_1.0-label.npy ./HVmodel/data/new/mix_sample_1.0-label.npy ./HVmodel/data/new/mix_sample_1.0_copy_1_no_shuffle-label.npy\n",
      "./HVmodel/data/new/mix_sample_2.0-data.npy ./HVmodel/data/new/mix_sample_2.0-data.npy ./HVmodel/data/new/mix_sample_2.0_copy_1_no_shuffle-data.npy\n",
      "./HVmodel/data/new/mix_sample_2.0-label.npy ./HVmodel/data/new/mix_sample_2.0-label.npy ./HVmodel/data/new/mix_sample_2.0_copy_1_no_shuffle-label.npy\n",
      "./HVmodel/data/new/mix_sample_3.0-data.npy ./HVmodel/data/new/mix_sample_3.0-data.npy ./HVmodel/data/new/mix_sample_3.0_copy_1_no_shuffle-data.npy\n",
      "./HVmodel/data/new/mix_sample_3.0-label.npy ./HVmodel/data/new/mix_sample_3.0-label.npy ./HVmodel/data/new/mix_sample_3.0_copy_1_no_shuffle-label.npy\n",
      "./HVmodel/data/new/mix_sample_4.0-data.npy ./HVmodel/data/new/mix_sample_4.0-data.npy ./HVmodel/data/new/mix_sample_4.0_copy_1_no_shuffle-data.npy\n",
      "./HVmodel/data/new/mix_sample_4.0-label.npy ./HVmodel/data/new/mix_sample_4.0-label.npy ./HVmodel/data/new/mix_sample_4.0_copy_1_no_shuffle-label.npy\n",
      "./HVmodel/data/new/mix_sample_5.0-data.npy ./HVmodel/data/new/mix_sample_5.0-data.npy ./HVmodel/data/new/mix_sample_5.0_copy_1_no_shuffle-data.npy\n",
      "./HVmodel/data/new/mix_sample_5.0-label.npy ./HVmodel/data/new/mix_sample_5.0-label.npy ./HVmodel/data/new/mix_sample_5.0_copy_1_no_shuffle-label.npy\n",
      "./HVmodel/data/new/mix_sample_6.0-data.npy ./HVmodel/data/new/mix_sample_6.0-data.npy ./HVmodel/data/new/mix_sample_6.0_copy_1_no_shuffle-data.npy\n",
      "./HVmodel/data/new/mix_sample_6.0-label.npy ./HVmodel/data/new/mix_sample_6.0-label.npy ./HVmodel/data/new/mix_sample_6.0_copy_1_no_shuffle-label.npy\n",
      "./HVmodel/data/new/mix_sample_7.0-data.npy ./HVmodel/data/new/mix_sample_7.0-data.npy ./HVmodel/data/new/mix_sample_7.0_copy_1_no_shuffle-data.npy\n",
      "./HVmodel/data/new/mix_sample_7.0-label.npy ./HVmodel/data/new/mix_sample_7.0-label.npy ./HVmodel/data/new/mix_sample_7.0_copy_1_no_shuffle-label.npy\n",
      "./HVmodel/data/new/mix_sample_8.0-data.npy ./HVmodel/data/new/mix_sample_8.0-data.npy ./HVmodel/data/new/mix_sample_8.0_copy_1_no_shuffle-data.npy\n",
      "./HVmodel/data/new/mix_sample_8.0-label.npy ./HVmodel/data/new/mix_sample_8.0-label.npy ./HVmodel/data/new/mix_sample_8.0_copy_1_no_shuffle-label.npy\n",
      "./HVmodel/data/new/mix_sample_9.0-data.npy ./HVmodel/data/new/mix_sample_9.0-data.npy ./HVmodel/data/new/mix_sample_9.0_copy_1_no_shuffle-data.npy\n",
      "./HVmodel/data/new/mix_sample_9.0-label.npy ./HVmodel/data/new/mix_sample_9.0-label.npy ./HVmodel/data/new/mix_sample_9.0_copy_1_no_shuffle-label.npy\n",
      "./HVmodel/data/new/mix_sample_10.0-data.npy ./HVmodel/data/new/mix_sample_10.0-data.npy ./HVmodel/data/new/mix_sample_10.0_copy_1_no_shuffle-data.npy\n",
      "./HVmodel/data/new/mix_sample_10.0-label.npy ./HVmodel/data/new/mix_sample_10.0-label.npy ./HVmodel/data/new/mix_sample_10.0_copy_1_no_shuffle-label.npy\n"
     ]
    }
   ],
   "source": [
    "for i in range(11):\n",
    "    file1 = f'./HVmodel/data/new/mix_sample_{i:.1f}-data.npy'\n",
    "    file2 = f'./HVmodel/data/new/mix_sample_{i:.1f}-data.npy'\n",
    "    output_file = f'./HVmodel/data/new/mix_sample_{i:.1f}_copy_1_no_shuffle-data.npy'\n",
    "\n",
    "    print(file1, file2, output_file)\n",
    "    merge_npy(file1, file2, output_file)\n",
    "\n",
    "    file1 = f'./HVmodel/data/new/mix_sample_{i:.1f}-label.npy'\n",
    "    file2 = f'./HVmodel/data/new/mix_sample_{i:.1f}-label.npy'\n",
    "    output_file = f'./HVmodel/data/new/mix_sample_{i:.1f}_copy_1_no_shuffle-label.npy'\n",
    "\n",
    "    print(file1, file2, output_file)\n",
    "    merge_npy(file1, file2, output_file)"
   ]
  },
  {
   "cell_type": "code",
   "execution_count": 9,
   "metadata": {},
   "outputs": [
    {
     "name": "stdout",
     "output_type": "stream",
     "text": [
      "./HVmodel/data/new/mix_sample_0.0_half-data.npy ./HVmodel/data/new/mix_sample_0.0_half-data.npy ./HVmodel/data/new/mix_sample_0.0_half_copy_1-data.npy\n"
     ]
    }
   ],
   "source": [
    "file_path = './HVmodel/data/new/mix_sample_0.0-data.npy'\n",
    "split_npy(file_path, split_ratio=0.5)\n",
    "\n",
    "root, ext = os.path.splitext(file_path)\n",
    "split_file1 = root + '_split1' + ext\n",
    "split_file2 = root + '_split2' + ext\n",
    "\n",
    "new_path = f'./HVmodel/data/new/mix_sample_0.0_half-data.npy'\n",
    "os.rename(split_file1, new_path)\n",
    "os.remove(split_file2)\n",
    "\n",
    "output_file = f'./HVmodel/data/new/mix_sample_0.0_half_copy_1-data.npy'\n",
    "\n",
    "print(new_path, new_path, output_file)\n",
    "merge_npy(new_path, new_path, output_file)\n",
    "os.remove(new_path)"
   ]
  },
  {
   "cell_type": "code",
   "execution_count": 12,
   "metadata": {},
   "outputs": [
    {
     "name": "stdout",
     "output_type": "stream",
     "text": [
      "./HVmodel/data/new/mix_sample_0.0_half-data.npy ./HVmodel/data/new/mix_sample_0.0_half-data.npy ./HVmodel/data/new/mix_sample_0.0_half_copy_1-data.npy\n",
      "./HVmodel/data/new/mix_sample_1.0_half-data.npy ./HVmodel/data/new/mix_sample_1.0_half-data.npy ./HVmodel/data/new/mix_sample_1.0_half_copy_1-data.npy\n",
      "./HVmodel/data/new/mix_sample_2.0_half-data.npy ./HVmodel/data/new/mix_sample_2.0_half-data.npy ./HVmodel/data/new/mix_sample_2.0_half_copy_1-data.npy\n",
      "./HVmodel/data/new/mix_sample_3.0_half-data.npy ./HVmodel/data/new/mix_sample_3.0_half-data.npy ./HVmodel/data/new/mix_sample_3.0_half_copy_1-data.npy\n",
      "./HVmodel/data/new/mix_sample_4.0_half-data.npy ./HVmodel/data/new/mix_sample_4.0_half-data.npy ./HVmodel/data/new/mix_sample_4.0_half_copy_1-data.npy\n",
      "./HVmodel/data/new/mix_sample_5.0_half-data.npy ./HVmodel/data/new/mix_sample_5.0_half-data.npy ./HVmodel/data/new/mix_sample_5.0_half_copy_1-data.npy\n",
      "./HVmodel/data/new/mix_sample_6.0_half-data.npy ./HVmodel/data/new/mix_sample_6.0_half-data.npy ./HVmodel/data/new/mix_sample_6.0_half_copy_1-data.npy\n",
      "./HVmodel/data/new/mix_sample_7.0_half-data.npy ./HVmodel/data/new/mix_sample_7.0_half-data.npy ./HVmodel/data/new/mix_sample_7.0_half_copy_1-data.npy\n",
      "./HVmodel/data/new/mix_sample_8.0_half-data.npy ./HVmodel/data/new/mix_sample_8.0_half-data.npy ./HVmodel/data/new/mix_sample_8.0_half_copy_1-data.npy\n",
      "./HVmodel/data/new/mix_sample_9.0_half-data.npy ./HVmodel/data/new/mix_sample_9.0_half-data.npy ./HVmodel/data/new/mix_sample_9.0_half_copy_1-data.npy\n",
      "./HVmodel/data/new/mix_sample_10.0_half-data.npy ./HVmodel/data/new/mix_sample_10.0_half-data.npy ./HVmodel/data/new/mix_sample_10.0_half_copy_1-data.npy\n"
     ]
    }
   ],
   "source": [
    "for i in range(11):\n",
    "    file_path = f'./HVmodel/data/new/mix_sample_{i:.1f}-data.npy'\n",
    "    split_npy(file_path, split_ratio=0.5)\n",
    "\n",
    "    root, ext = os.path.splitext(file_path)\n",
    "    split_file1 = root + '_split1' + ext\n",
    "    split_file2 = root + '_split2' + ext\n",
    "\n",
    "    new_path = f'./HVmodel/data/new/mix_sample_{i:.1f}_half-data.npy'\n",
    "    os.rename(split_file1, new_path)\n",
    "    os.remove(split_file2)\n",
    "\n",
    "    output_file = f'./HVmodel/data/new/mix_sample_{i:.1f}_half_copy_1-data.npy'\n",
    "\n",
    "    print(new_path, new_path, output_file)\n",
    "    merge_npy(new_path, new_path, output_file)\n",
    "    os.remove(new_path)"
   ]
  },
  {
   "cell_type": "code",
   "execution_count": 13,
   "metadata": {},
   "outputs": [
    {
     "name": "stdout",
     "output_type": "stream",
     "text": [
      "./HVmodel/data/new/mix_sample_0.0_half-label.npy ./HVmodel/data/new/mix_sample_0.0_half-label.npy ./HVmodel/data/new/mix_sample_0.0_half_copy_1-label.npy\n",
      "./HVmodel/data/new/mix_sample_1.0_half-label.npy ./HVmodel/data/new/mix_sample_1.0_half-label.npy ./HVmodel/data/new/mix_sample_1.0_half_copy_1-label.npy\n",
      "./HVmodel/data/new/mix_sample_2.0_half-label.npy ./HVmodel/data/new/mix_sample_2.0_half-label.npy ./HVmodel/data/new/mix_sample_2.0_half_copy_1-label.npy\n",
      "./HVmodel/data/new/mix_sample_3.0_half-label.npy ./HVmodel/data/new/mix_sample_3.0_half-label.npy ./HVmodel/data/new/mix_sample_3.0_half_copy_1-label.npy\n",
      "./HVmodel/data/new/mix_sample_4.0_half-label.npy ./HVmodel/data/new/mix_sample_4.0_half-label.npy ./HVmodel/data/new/mix_sample_4.0_half_copy_1-label.npy\n",
      "./HVmodel/data/new/mix_sample_5.0_half-label.npy ./HVmodel/data/new/mix_sample_5.0_half-label.npy ./HVmodel/data/new/mix_sample_5.0_half_copy_1-label.npy\n",
      "./HVmodel/data/new/mix_sample_6.0_half-label.npy ./HVmodel/data/new/mix_sample_6.0_half-label.npy ./HVmodel/data/new/mix_sample_6.0_half_copy_1-label.npy\n",
      "./HVmodel/data/new/mix_sample_7.0_half-label.npy ./HVmodel/data/new/mix_sample_7.0_half-label.npy ./HVmodel/data/new/mix_sample_7.0_half_copy_1-label.npy\n",
      "./HVmodel/data/new/mix_sample_8.0_half-label.npy ./HVmodel/data/new/mix_sample_8.0_half-label.npy ./HVmodel/data/new/mix_sample_8.0_half_copy_1-label.npy\n",
      "./HVmodel/data/new/mix_sample_9.0_half-label.npy ./HVmodel/data/new/mix_sample_9.0_half-label.npy ./HVmodel/data/new/mix_sample_9.0_half_copy_1-label.npy\n",
      "./HVmodel/data/new/mix_sample_10.0_half-label.npy ./HVmodel/data/new/mix_sample_10.0_half-label.npy ./HVmodel/data/new/mix_sample_10.0_half_copy_1-label.npy\n"
     ]
    }
   ],
   "source": [
    "for i in range(11):\n",
    "    file_path = f'./HVmodel/data/new/mix_sample_{i:.1f}-label.npy'\n",
    "    split_npy(file_path, split_ratio=0.5)\n",
    "\n",
    "    root, ext = os.path.splitext(file_path)\n",
    "    split_file1 = root + '_split1' + ext\n",
    "    split_file2 = root + '_split2' + ext\n",
    "\n",
    "    new_path = f'./HVmodel/data/new/mix_sample_{i:.1f}_half-label.npy'\n",
    "    os.rename(split_file1, new_path)\n",
    "    os.remove(split_file2)\n",
    "\n",
    "    output_file = f'./HVmodel/data/new/mix_sample_{i:.1f}_half_copy_1-label.npy'\n",
    "\n",
    "    print(new_path, new_path, output_file)\n",
    "    merge_npy(new_path, new_path, output_file)\n",
    "    os.remove(new_path)"
   ]
  },
  {
   "cell_type": "markdown",
   "metadata": {},
   "source": [
    "# Original + $x$ Copy, $x = 0.25, 0.5, 0.75$"
   ]
  },
  {
   "cell_type": "code",
   "execution_count": 4,
   "metadata": {},
   "outputs": [
    {
     "name": "stdout",
     "output_type": "stream",
     "text": [
      "./HVmodel/data/new/mix_sample_0.0-data.npy ./HVmodel/data/new/mix_sample_0.0-data_split1.npy ./HVmodel/data/new/mix_sample_0.0_copy_0.5-data.npy\n",
      "./HVmodel/data/new/mix_sample_0.0-label.npy ./HVmodel/data/new/mix_sample_0.0-label_split1.npy ./HVmodel/data/new/mix_sample_0.0_copy_0.5-label.npy\n",
      "./HVmodel/data/new/mix_sample_1.0-data.npy ./HVmodel/data/new/mix_sample_1.0-data_split1.npy ./HVmodel/data/new/mix_sample_1.0_copy_0.5-data.npy\n",
      "./HVmodel/data/new/mix_sample_1.0-label.npy ./HVmodel/data/new/mix_sample_1.0-label_split1.npy ./HVmodel/data/new/mix_sample_1.0_copy_0.5-label.npy\n",
      "./HVmodel/data/new/mix_sample_2.0-data.npy ./HVmodel/data/new/mix_sample_2.0-data_split1.npy ./HVmodel/data/new/mix_sample_2.0_copy_0.5-data.npy\n",
      "./HVmodel/data/new/mix_sample_2.0-label.npy ./HVmodel/data/new/mix_sample_2.0-label_split1.npy ./HVmodel/data/new/mix_sample_2.0_copy_0.5-label.npy\n",
      "./HVmodel/data/new/mix_sample_3.0-data.npy ./HVmodel/data/new/mix_sample_3.0-data_split1.npy ./HVmodel/data/new/mix_sample_3.0_copy_0.5-data.npy\n",
      "./HVmodel/data/new/mix_sample_3.0-label.npy ./HVmodel/data/new/mix_sample_3.0-label_split1.npy ./HVmodel/data/new/mix_sample_3.0_copy_0.5-label.npy\n",
      "./HVmodel/data/new/mix_sample_4.0-data.npy ./HVmodel/data/new/mix_sample_4.0-data_split1.npy ./HVmodel/data/new/mix_sample_4.0_copy_0.5-data.npy\n",
      "./HVmodel/data/new/mix_sample_4.0-label.npy ./HVmodel/data/new/mix_sample_4.0-label_split1.npy ./HVmodel/data/new/mix_sample_4.0_copy_0.5-label.npy\n",
      "./HVmodel/data/new/mix_sample_5.0-data.npy ./HVmodel/data/new/mix_sample_5.0-data_split1.npy ./HVmodel/data/new/mix_sample_5.0_copy_0.5-data.npy\n",
      "./HVmodel/data/new/mix_sample_5.0-label.npy ./HVmodel/data/new/mix_sample_5.0-label_split1.npy ./HVmodel/data/new/mix_sample_5.0_copy_0.5-label.npy\n",
      "./HVmodel/data/new/mix_sample_6.0-data.npy ./HVmodel/data/new/mix_sample_6.0-data_split1.npy ./HVmodel/data/new/mix_sample_6.0_copy_0.5-data.npy\n",
      "./HVmodel/data/new/mix_sample_6.0-label.npy ./HVmodel/data/new/mix_sample_6.0-label_split1.npy ./HVmodel/data/new/mix_sample_6.0_copy_0.5-label.npy\n",
      "./HVmodel/data/new/mix_sample_7.0-data.npy ./HVmodel/data/new/mix_sample_7.0-data_split1.npy ./HVmodel/data/new/mix_sample_7.0_copy_0.5-data.npy\n",
      "./HVmodel/data/new/mix_sample_7.0-label.npy ./HVmodel/data/new/mix_sample_7.0-label_split1.npy ./HVmodel/data/new/mix_sample_7.0_copy_0.5-label.npy\n",
      "./HVmodel/data/new/mix_sample_8.0-data.npy ./HVmodel/data/new/mix_sample_8.0-data_split1.npy ./HVmodel/data/new/mix_sample_8.0_copy_0.5-data.npy\n",
      "./HVmodel/data/new/mix_sample_8.0-label.npy ./HVmodel/data/new/mix_sample_8.0-label_split1.npy ./HVmodel/data/new/mix_sample_8.0_copy_0.5-label.npy\n",
      "./HVmodel/data/new/mix_sample_9.0-data.npy ./HVmodel/data/new/mix_sample_9.0-data_split1.npy ./HVmodel/data/new/mix_sample_9.0_copy_0.5-data.npy\n",
      "./HVmodel/data/new/mix_sample_9.0-label.npy ./HVmodel/data/new/mix_sample_9.0-label_split1.npy ./HVmodel/data/new/mix_sample_9.0_copy_0.5-label.npy\n",
      "./HVmodel/data/new/mix_sample_10.0-data.npy ./HVmodel/data/new/mix_sample_10.0-data_split1.npy ./HVmodel/data/new/mix_sample_10.0_copy_0.5-data.npy\n",
      "./HVmodel/data/new/mix_sample_10.0-label.npy ./HVmodel/data/new/mix_sample_10.0-label_split1.npy ./HVmodel/data/new/mix_sample_10.0_copy_0.5-label.npy\n"
     ]
    }
   ],
   "source": [
    "for i in range(11):\n",
    "    file_path = f'./HVmodel/data/new/mix_sample_{i:.1f}-data.npy'\n",
    "    split_npy(file_path, split_ratio=0.5)\n",
    "\n",
    "    root, ext = os.path.splitext(file_path)\n",
    "    split_file1 = root + '_split1' + ext\n",
    "    split_file2 = root + '_split2' + ext\n",
    "    os.remove(split_file2)\n",
    "\n",
    "    output_file = f'./HVmodel/data/new/mix_sample_{i:.1f}_copy_0.5-data.npy'\n",
    "\n",
    "    print(file_path, split_file1, output_file)\n",
    "    merge_npy(file_path, split_file1, output_file)\n",
    "    os.remove(split_file1)\n",
    "\n",
    "    file_path = f'./HVmodel/data/new/mix_sample_{i:.1f}-label.npy'\n",
    "    split_npy(file_path, split_ratio=0.5)\n",
    "\n",
    "    root, ext = os.path.splitext(file_path)\n",
    "    split_file1 = root + '_split1' + ext\n",
    "    split_file2 = root + '_split2' + ext\n",
    "    os.remove(split_file2)\n",
    "\n",
    "    output_file = f'./HVmodel/data/new/mix_sample_{i:.1f}_copy_0.5-label.npy'\n",
    "\n",
    "    print(file_path, split_file1, output_file)\n",
    "    merge_npy(file_path, split_file1, output_file)\n",
    "    os.remove(split_file1)"
   ]
  },
  {
   "cell_type": "code",
   "execution_count": 5,
   "metadata": {},
   "outputs": [
    {
     "name": "stdout",
     "output_type": "stream",
     "text": [
      "./HVmodel/data/new/mix_sample_0.0-data.npy ./HVmodel/data/new/mix_sample_0.0-data_split1.npy ./HVmodel/data/new/mix_sample_0.0_copy_0.25-data.npy\n",
      "./HVmodel/data/new/mix_sample_0.0-label.npy ./HVmodel/data/new/mix_sample_0.0-label_split1.npy ./HVmodel/data/new/mix_sample_0.0_copy_0.25-label.npy\n",
      "./HVmodel/data/new/mix_sample_1.0-data.npy ./HVmodel/data/new/mix_sample_1.0-data_split1.npy ./HVmodel/data/new/mix_sample_1.0_copy_0.25-data.npy\n",
      "./HVmodel/data/new/mix_sample_1.0-label.npy ./HVmodel/data/new/mix_sample_1.0-label_split1.npy ./HVmodel/data/new/mix_sample_1.0_copy_0.25-label.npy\n",
      "./HVmodel/data/new/mix_sample_2.0-data.npy ./HVmodel/data/new/mix_sample_2.0-data_split1.npy ./HVmodel/data/new/mix_sample_2.0_copy_0.25-data.npy\n",
      "./HVmodel/data/new/mix_sample_2.0-label.npy ./HVmodel/data/new/mix_sample_2.0-label_split1.npy ./HVmodel/data/new/mix_sample_2.0_copy_0.25-label.npy\n",
      "./HVmodel/data/new/mix_sample_3.0-data.npy ./HVmodel/data/new/mix_sample_3.0-data_split1.npy ./HVmodel/data/new/mix_sample_3.0_copy_0.25-data.npy\n",
      "./HVmodel/data/new/mix_sample_3.0-label.npy ./HVmodel/data/new/mix_sample_3.0-label_split1.npy ./HVmodel/data/new/mix_sample_3.0_copy_0.25-label.npy\n",
      "./HVmodel/data/new/mix_sample_4.0-data.npy ./HVmodel/data/new/mix_sample_4.0-data_split1.npy ./HVmodel/data/new/mix_sample_4.0_copy_0.25-data.npy\n",
      "./HVmodel/data/new/mix_sample_4.0-label.npy ./HVmodel/data/new/mix_sample_4.0-label_split1.npy ./HVmodel/data/new/mix_sample_4.0_copy_0.25-label.npy\n",
      "./HVmodel/data/new/mix_sample_5.0-data.npy ./HVmodel/data/new/mix_sample_5.0-data_split1.npy ./HVmodel/data/new/mix_sample_5.0_copy_0.25-data.npy\n",
      "./HVmodel/data/new/mix_sample_5.0-label.npy ./HVmodel/data/new/mix_sample_5.0-label_split1.npy ./HVmodel/data/new/mix_sample_5.0_copy_0.25-label.npy\n",
      "./HVmodel/data/new/mix_sample_6.0-data.npy ./HVmodel/data/new/mix_sample_6.0-data_split1.npy ./HVmodel/data/new/mix_sample_6.0_copy_0.25-data.npy\n",
      "./HVmodel/data/new/mix_sample_6.0-label.npy ./HVmodel/data/new/mix_sample_6.0-label_split1.npy ./HVmodel/data/new/mix_sample_6.0_copy_0.25-label.npy\n",
      "./HVmodel/data/new/mix_sample_7.0-data.npy ./HVmodel/data/new/mix_sample_7.0-data_split1.npy ./HVmodel/data/new/mix_sample_7.0_copy_0.25-data.npy\n",
      "./HVmodel/data/new/mix_sample_7.0-label.npy ./HVmodel/data/new/mix_sample_7.0-label_split1.npy ./HVmodel/data/new/mix_sample_7.0_copy_0.25-label.npy\n",
      "./HVmodel/data/new/mix_sample_8.0-data.npy ./HVmodel/data/new/mix_sample_8.0-data_split1.npy ./HVmodel/data/new/mix_sample_8.0_copy_0.25-data.npy\n",
      "./HVmodel/data/new/mix_sample_8.0-label.npy ./HVmodel/data/new/mix_sample_8.0-label_split1.npy ./HVmodel/data/new/mix_sample_8.0_copy_0.25-label.npy\n",
      "./HVmodel/data/new/mix_sample_9.0-data.npy ./HVmodel/data/new/mix_sample_9.0-data_split1.npy ./HVmodel/data/new/mix_sample_9.0_copy_0.25-data.npy\n",
      "./HVmodel/data/new/mix_sample_9.0-label.npy ./HVmodel/data/new/mix_sample_9.0-label_split1.npy ./HVmodel/data/new/mix_sample_9.0_copy_0.25-label.npy\n",
      "./HVmodel/data/new/mix_sample_10.0-data.npy ./HVmodel/data/new/mix_sample_10.0-data_split1.npy ./HVmodel/data/new/mix_sample_10.0_copy_0.25-data.npy\n",
      "./HVmodel/data/new/mix_sample_10.0-label.npy ./HVmodel/data/new/mix_sample_10.0-label_split1.npy ./HVmodel/data/new/mix_sample_10.0_copy_0.25-label.npy\n"
     ]
    }
   ],
   "source": [
    "for i in range(11):\n",
    "    file_path = f'./HVmodel/data/new/mix_sample_{i:.1f}-data.npy'\n",
    "    split_npy(file_path, split_ratio=0.25)\n",
    "\n",
    "    root, ext = os.path.splitext(file_path)\n",
    "    split_file1 = root + '_split1' + ext\n",
    "    split_file2 = root + '_split2' + ext\n",
    "    os.remove(split_file2)\n",
    "\n",
    "    output_file = f'./HVmodel/data/new/mix_sample_{i:.1f}_copy_0.25-data.npy'\n",
    "\n",
    "    print(file_path, split_file1, output_file)\n",
    "    merge_npy(file_path, split_file1, output_file)\n",
    "    os.remove(split_file1)\n",
    "\n",
    "    file_path = f'./HVmodel/data/new/mix_sample_{i:.1f}-label.npy'\n",
    "    split_npy(file_path, split_ratio=0.25)\n",
    "\n",
    "    root, ext = os.path.splitext(file_path)\n",
    "    split_file1 = root + '_split1' + ext\n",
    "    split_file2 = root + '_split2' + ext\n",
    "    os.remove(split_file2)\n",
    "\n",
    "    output_file = f'./HVmodel/data/new/mix_sample_{i:.1f}_copy_0.25-label.npy'\n",
    "\n",
    "    print(file_path, split_file1, output_file)\n",
    "    merge_npy(file_path, split_file1, output_file)\n",
    "    os.remove(split_file1)"
   ]
  },
  {
   "cell_type": "code",
   "execution_count": 6,
   "metadata": {},
   "outputs": [
    {
     "name": "stdout",
     "output_type": "stream",
     "text": [
      "./HVmodel/data/new/mix_sample_0.0-data.npy ./HVmodel/data/new/mix_sample_0.0-data_split1.npy ./HVmodel/data/new/mix_sample_0.0_copy_0.75-data.npy\n",
      "./HVmodel/data/new/mix_sample_0.0-label.npy ./HVmodel/data/new/mix_sample_0.0-label_split1.npy ./HVmodel/data/new/mix_sample_0.0_copy_0.75-label.npy\n",
      "./HVmodel/data/new/mix_sample_1.0-data.npy ./HVmodel/data/new/mix_sample_1.0-data_split1.npy ./HVmodel/data/new/mix_sample_1.0_copy_0.75-data.npy\n",
      "./HVmodel/data/new/mix_sample_1.0-label.npy ./HVmodel/data/new/mix_sample_1.0-label_split1.npy ./HVmodel/data/new/mix_sample_1.0_copy_0.75-label.npy\n",
      "./HVmodel/data/new/mix_sample_2.0-data.npy ./HVmodel/data/new/mix_sample_2.0-data_split1.npy ./HVmodel/data/new/mix_sample_2.0_copy_0.75-data.npy\n",
      "./HVmodel/data/new/mix_sample_2.0-label.npy ./HVmodel/data/new/mix_sample_2.0-label_split1.npy ./HVmodel/data/new/mix_sample_2.0_copy_0.75-label.npy\n",
      "./HVmodel/data/new/mix_sample_3.0-data.npy ./HVmodel/data/new/mix_sample_3.0-data_split1.npy ./HVmodel/data/new/mix_sample_3.0_copy_0.75-data.npy\n",
      "./HVmodel/data/new/mix_sample_3.0-label.npy ./HVmodel/data/new/mix_sample_3.0-label_split1.npy ./HVmodel/data/new/mix_sample_3.0_copy_0.75-label.npy\n",
      "./HVmodel/data/new/mix_sample_4.0-data.npy ./HVmodel/data/new/mix_sample_4.0-data_split1.npy ./HVmodel/data/new/mix_sample_4.0_copy_0.75-data.npy\n",
      "./HVmodel/data/new/mix_sample_4.0-label.npy ./HVmodel/data/new/mix_sample_4.0-label_split1.npy ./HVmodel/data/new/mix_sample_4.0_copy_0.75-label.npy\n",
      "./HVmodel/data/new/mix_sample_5.0-data.npy ./HVmodel/data/new/mix_sample_5.0-data_split1.npy ./HVmodel/data/new/mix_sample_5.0_copy_0.75-data.npy\n",
      "./HVmodel/data/new/mix_sample_5.0-label.npy ./HVmodel/data/new/mix_sample_5.0-label_split1.npy ./HVmodel/data/new/mix_sample_5.0_copy_0.75-label.npy\n",
      "./HVmodel/data/new/mix_sample_6.0-data.npy ./HVmodel/data/new/mix_sample_6.0-data_split1.npy ./HVmodel/data/new/mix_sample_6.0_copy_0.75-data.npy\n",
      "./HVmodel/data/new/mix_sample_6.0-label.npy ./HVmodel/data/new/mix_sample_6.0-label_split1.npy ./HVmodel/data/new/mix_sample_6.0_copy_0.75-label.npy\n",
      "./HVmodel/data/new/mix_sample_7.0-data.npy ./HVmodel/data/new/mix_sample_7.0-data_split1.npy ./HVmodel/data/new/mix_sample_7.0_copy_0.75-data.npy\n",
      "./HVmodel/data/new/mix_sample_7.0-label.npy ./HVmodel/data/new/mix_sample_7.0-label_split1.npy ./HVmodel/data/new/mix_sample_7.0_copy_0.75-label.npy\n",
      "./HVmodel/data/new/mix_sample_8.0-data.npy ./HVmodel/data/new/mix_sample_8.0-data_split1.npy ./HVmodel/data/new/mix_sample_8.0_copy_0.75-data.npy\n",
      "./HVmodel/data/new/mix_sample_8.0-label.npy ./HVmodel/data/new/mix_sample_8.0-label_split1.npy ./HVmodel/data/new/mix_sample_8.0_copy_0.75-label.npy\n",
      "./HVmodel/data/new/mix_sample_9.0-data.npy ./HVmodel/data/new/mix_sample_9.0-data_split1.npy ./HVmodel/data/new/mix_sample_9.0_copy_0.75-data.npy\n",
      "./HVmodel/data/new/mix_sample_9.0-label.npy ./HVmodel/data/new/mix_sample_9.0-label_split1.npy ./HVmodel/data/new/mix_sample_9.0_copy_0.75-label.npy\n",
      "./HVmodel/data/new/mix_sample_10.0-data.npy ./HVmodel/data/new/mix_sample_10.0-data_split1.npy ./HVmodel/data/new/mix_sample_10.0_copy_0.75-data.npy\n",
      "./HVmodel/data/new/mix_sample_10.0-label.npy ./HVmodel/data/new/mix_sample_10.0-label_split1.npy ./HVmodel/data/new/mix_sample_10.0_copy_0.75-label.npy\n"
     ]
    }
   ],
   "source": [
    "for i in range(11):\n",
    "    file_path = f'./HVmodel/data/new/mix_sample_{i:.1f}-data.npy'\n",
    "    split_npy(file_path, split_ratio=0.75)\n",
    "\n",
    "    root, ext = os.path.splitext(file_path)\n",
    "    split_file1 = root + '_split1' + ext\n",
    "    split_file2 = root + '_split2' + ext\n",
    "    os.remove(split_file2)\n",
    "\n",
    "    output_file = f'./HVmodel/data/new/mix_sample_{i:.1f}_copy_0.75-data.npy'\n",
    "\n",
    "    print(file_path, split_file1, output_file)\n",
    "    merge_npy(file_path, split_file1, output_file)\n",
    "    os.remove(split_file1)\n",
    "\n",
    "    file_path = f'./HVmodel/data/new/mix_sample_{i:.1f}-label.npy'\n",
    "    split_npy(file_path, split_ratio=0.75)\n",
    "\n",
    "    root, ext = os.path.splitext(file_path)\n",
    "    split_file1 = root + '_split1' + ext\n",
    "    split_file2 = root + '_split2' + ext\n",
    "    os.remove(split_file2)\n",
    "\n",
    "    output_file = f'./HVmodel/data/new/mix_sample_{i:.1f}_copy_0.75-label.npy'\n",
    "\n",
    "    print(file_path, split_file1, output_file)\n",
    "    merge_npy(file_path, split_file1, output_file)\n",
    "    os.remove(split_file1)"
   ]
  },
  {
   "cell_type": "code",
   "execution_count": null,
   "metadata": {},
   "outputs": [],
   "source": []
  }
 ],
 "metadata": {
  "kernelspec": {
   "display_name": "jupyter",
   "language": "python",
   "name": "python3"
  },
  "language_info": {
   "codemirror_mode": {
    "name": "ipython",
    "version": 3
   },
   "file_extension": ".py",
   "mimetype": "text/x-python",
   "name": "python",
   "nbconvert_exporter": "python",
   "pygments_lexer": "ipython3",
   "version": "3.8.16"
  }
 },
 "nbformat": 4,
 "nbformat_minor": 2
}
